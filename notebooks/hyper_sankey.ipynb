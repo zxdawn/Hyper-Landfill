{
 "cells": [
  {
   "cell_type": "markdown",
   "metadata": {},
   "source": [
    "- Sankey plot of clear OBS number for each landfill\n",
    "- Sankey plot of landfill emissions"
   ]
  },
  {
   "cell_type": "code",
   "execution_count": 1,
   "metadata": {},
   "outputs": [],
   "source": [
    "import os\n",
    "import pandas as pd\n",
    "from glob import glob\n",
    "import numpy as np\n",
    "from itertools import chain\n",
    "import plotly.graph_objects as go\n",
    "from plotly.subplots import make_subplots\n",
    "import matplotlib\n",
    "import matplotlib.pyplot as plt\n",
    "from matplotlib.colors import to_hex\n",
    "from matplotlib import rcParams\n",
    "import matplotlib.colors as mcolors"
   ]
  },
  {
   "cell_type": "code",
   "execution_count": 2,
   "metadata": {},
   "outputs": [],
   "source": [
    "# set basic matplotlib settings\n",
    "rcParams['font.family'] = 'sans-serif'\n",
    "rcParams['font.sans-serif'] = ['tex gyre heros']\n",
    "\n",
    "font_size = 17\n",
    "rcParams['axes.titlesize'] = font_size\n",
    "rcParams['axes.labelsize'] = font_size - 2\n",
    "rcParams['xtick.labelsize'] = font_size - 2\n",
    "rcParams['ytick.labelsize'] = font_size - 2\n",
    "rcParams['legend.fontsize'] = font_size\n",
    "rcParams['figure.titlesize'] = font_size\n",
    "rcParams['figure.titleweight'] = 'bold'"
   ]
  },
  {
   "cell_type": "markdown",
   "metadata": {},
   "source": [
    "## Group OBS data by country and landfill name"
   ]
  },
  {
   "cell_type": "code",
   "execution_count": 3,
   "metadata": {},
   "outputs": [],
   "source": [
    "data_dir = '../data/Hyper_TROPOMI_plume/'\n",
    "\n",
    "filelist = list(chain(*[glob(os.path.join(data_dir, '**', '*csv'), recursive=True)]))\n",
    "\n",
    "df = pd.concat((pd.read_csv(f) for f in filelist), ignore_index=True)\n",
    "# df['emission_uncertainty_percentage'] = df['emission_uncertainty']/df['emission']*100\n",
    "# # convert units to t/h\n",
    "# df['emission'] /= 1e3"
   ]
  },
  {
   "cell_type": "code",
   "execution_count": 4,
   "metadata": {},
   "outputs": [],
   "source": [
    "df_grp = df.groupby(['country', 'name', 'platform'], as_index=False).size().rename(columns={'size': 'count'})\n",
    "\n",
    "# calculate sum by group\n",
    "# https://stackoverflow.com/a/63201382/7347925\n",
    "coutry_sum = df_grp['count'].groupby(df_grp.country).transform('sum')\n",
    "\n",
    "# sort values in descending order\n",
    "df_grp = df_grp.loc[(-coutry_sum).argsort()]"
   ]
  },
  {
   "cell_type": "code",
   "execution_count": 5,
   "metadata": {},
   "outputs": [
    {
     "data": {
      "text/html": [
       "<div>\n",
       "<style scoped>\n",
       "    .dataframe tbody tr th:only-of-type {\n",
       "        vertical-align: middle;\n",
       "    }\n",
       "\n",
       "    .dataframe tbody tr th {\n",
       "        vertical-align: top;\n",
       "    }\n",
       "\n",
       "    .dataframe thead th {\n",
       "        text-align: right;\n",
       "    }\n",
       "</style>\n",
       "<table border=\"1\" class=\"dataframe\">\n",
       "  <thead>\n",
       "    <tr style=\"text-align: right;\">\n",
       "      <th></th>\n",
       "      <th>country</th>\n",
       "      <th>name</th>\n",
       "      <th>platform</th>\n",
       "      <th>count</th>\n",
       "    </tr>\n",
       "  </thead>\n",
       "  <tbody>\n",
       "    <tr>\n",
       "      <th>27</th>\n",
       "      <td>India</td>\n",
       "      <td>Pirana</td>\n",
       "      <td>PRISMA</td>\n",
       "      <td>5</td>\n",
       "    </tr>\n",
       "    <tr>\n",
       "      <th>24</th>\n",
       "      <td>India</td>\n",
       "      <td>Okhla</td>\n",
       "      <td>EMIT</td>\n",
       "      <td>3</td>\n",
       "    </tr>\n",
       "    <tr>\n",
       "      <th>23</th>\n",
       "      <td>India</td>\n",
       "      <td>Manter Wadi</td>\n",
       "      <td>EMIT</td>\n",
       "      <td>1</td>\n",
       "    </tr>\n",
       "    <tr>\n",
       "      <th>22</th>\n",
       "      <td>India</td>\n",
       "      <td>Majura</td>\n",
       "      <td>EMIT</td>\n",
       "      <td>3</td>\n",
       "    </tr>\n",
       "    <tr>\n",
       "      <th>21</th>\n",
       "      <td>India</td>\n",
       "      <td>Kanjurmarg</td>\n",
       "      <td>PRISMA</td>\n",
       "      <td>2</td>\n",
       "    </tr>\n",
       "    <tr>\n",
       "      <th>20</th>\n",
       "      <td>India</td>\n",
       "      <td>Kanjurmarg</td>\n",
       "      <td>EnMAP</td>\n",
       "      <td>1</td>\n",
       "    </tr>\n",
       "    <tr>\n",
       "      <th>19</th>\n",
       "      <td>India</td>\n",
       "      <td>Kanjurmarg</td>\n",
       "      <td>EMIT</td>\n",
       "      <td>1</td>\n",
       "    </tr>\n",
       "    <tr>\n",
       "      <th>18</th>\n",
       "      <td>India</td>\n",
       "      <td>Hind</td>\n",
       "      <td>EMIT</td>\n",
       "      <td>1</td>\n",
       "    </tr>\n",
       "    <tr>\n",
       "      <th>17</th>\n",
       "      <td>India</td>\n",
       "      <td>Ghazipur</td>\n",
       "      <td>EnMAP</td>\n",
       "      <td>5</td>\n",
       "    </tr>\n",
       "    <tr>\n",
       "      <th>16</th>\n",
       "      <td>India</td>\n",
       "      <td>Ghazipur</td>\n",
       "      <td>EMIT</td>\n",
       "      <td>4</td>\n",
       "    </tr>\n",
       "    <tr>\n",
       "      <th>15</th>\n",
       "      <td>India</td>\n",
       "      <td>Deonar</td>\n",
       "      <td>EnMAP</td>\n",
       "      <td>1</td>\n",
       "    </tr>\n",
       "    <tr>\n",
       "      <th>14</th>\n",
       "      <td>India</td>\n",
       "      <td>Deonar</td>\n",
       "      <td>EMIT</td>\n",
       "      <td>1</td>\n",
       "    </tr>\n",
       "    <tr>\n",
       "      <th>25</th>\n",
       "      <td>India</td>\n",
       "      <td>Okhla</td>\n",
       "      <td>EnMAP</td>\n",
       "      <td>5</td>\n",
       "    </tr>\n",
       "    <tr>\n",
       "      <th>13</th>\n",
       "      <td>India</td>\n",
       "      <td>Bhalswa</td>\n",
       "      <td>EnMAP</td>\n",
       "      <td>3</td>\n",
       "    </tr>\n",
       "    <tr>\n",
       "      <th>11</th>\n",
       "      <td>India</td>\n",
       "      <td>Bandhwari</td>\n",
       "      <td>EnMAP</td>\n",
       "      <td>2</td>\n",
       "    </tr>\n",
       "    <tr>\n",
       "      <th>10</th>\n",
       "      <td>India</td>\n",
       "      <td>Bandhwari</td>\n",
       "      <td>EMIT</td>\n",
       "      <td>3</td>\n",
       "    </tr>\n",
       "    <tr>\n",
       "      <th>12</th>\n",
       "      <td>India</td>\n",
       "      <td>Bhalswa</td>\n",
       "      <td>EMIT</td>\n",
       "      <td>3</td>\n",
       "    </tr>\n",
       "    <tr>\n",
       "      <th>26</th>\n",
       "      <td>India</td>\n",
       "      <td>Pirana</td>\n",
       "      <td>EMIT</td>\n",
       "      <td>1</td>\n",
       "    </tr>\n",
       "    <tr>\n",
       "      <th>34</th>\n",
       "      <td>Jordan</td>\n",
       "      <td>Al Akaider</td>\n",
       "      <td>EMIT</td>\n",
       "      <td>7</td>\n",
       "    </tr>\n",
       "    <tr>\n",
       "      <th>35</th>\n",
       "      <td>Jordan</td>\n",
       "      <td>Al Akaider</td>\n",
       "      <td>EnMAP</td>\n",
       "      <td>1</td>\n",
       "    </tr>\n",
       "    <tr>\n",
       "      <th>36</th>\n",
       "      <td>Jordan</td>\n",
       "      <td>Ghabawi</td>\n",
       "      <td>EMIT</td>\n",
       "      <td>14</td>\n",
       "    </tr>\n",
       "    <tr>\n",
       "      <th>30</th>\n",
       "      <td>Israel</td>\n",
       "      <td>Dudaim</td>\n",
       "      <td>EMIT</td>\n",
       "      <td>7</td>\n",
       "    </tr>\n",
       "    <tr>\n",
       "      <th>31</th>\n",
       "      <td>Israel</td>\n",
       "      <td>Dudaim</td>\n",
       "      <td>EnMAP</td>\n",
       "      <td>2</td>\n",
       "    </tr>\n",
       "    <tr>\n",
       "      <th>32</th>\n",
       "      <td>Israel</td>\n",
       "      <td>Tamar</td>\n",
       "      <td>EMIT</td>\n",
       "      <td>7</td>\n",
       "    </tr>\n",
       "    <tr>\n",
       "      <th>33</th>\n",
       "      <td>Israel</td>\n",
       "      <td>Tamar</td>\n",
       "      <td>EnMAP</td>\n",
       "      <td>3</td>\n",
       "    </tr>\n",
       "    <tr>\n",
       "      <th>28</th>\n",
       "      <td>Iran</td>\n",
       "      <td>Mashhad</td>\n",
       "      <td>EMIT</td>\n",
       "      <td>8</td>\n",
       "    </tr>\n",
       "    <tr>\n",
       "      <th>29</th>\n",
       "      <td>Iran</td>\n",
       "      <td>Tehran</td>\n",
       "      <td>EMIT</td>\n",
       "      <td>9</td>\n",
       "    </tr>\n",
       "    <tr>\n",
       "      <th>0</th>\n",
       "      <td>Argentina</td>\n",
       "      <td>González Catán</td>\n",
       "      <td>EMIT</td>\n",
       "      <td>3</td>\n",
       "    </tr>\n",
       "    <tr>\n",
       "      <th>5</th>\n",
       "      <td>Argentina</td>\n",
       "      <td>Piedra Blanca</td>\n",
       "      <td>EMIT</td>\n",
       "      <td>2</td>\n",
       "    </tr>\n",
       "    <tr>\n",
       "      <th>4</th>\n",
       "      <td>Argentina</td>\n",
       "      <td>Norte III</td>\n",
       "      <td>PRISMA</td>\n",
       "      <td>2</td>\n",
       "    </tr>\n",
       "    <tr>\n",
       "      <th>3</th>\n",
       "      <td>Argentina</td>\n",
       "      <td>Norte III</td>\n",
       "      <td>EnMAP</td>\n",
       "      <td>2</td>\n",
       "    </tr>\n",
       "    <tr>\n",
       "      <th>2</th>\n",
       "      <td>Argentina</td>\n",
       "      <td>Norte III</td>\n",
       "      <td>EMIT</td>\n",
       "      <td>4</td>\n",
       "    </tr>\n",
       "    <tr>\n",
       "      <th>1</th>\n",
       "      <td>Argentina</td>\n",
       "      <td>González Catán</td>\n",
       "      <td>EnMAP</td>\n",
       "      <td>2</td>\n",
       "    </tr>\n",
       "    <tr>\n",
       "      <th>41</th>\n",
       "      <td>Mexico</td>\n",
       "      <td>Simeprodeso</td>\n",
       "      <td>EMIT</td>\n",
       "      <td>5</td>\n",
       "    </tr>\n",
       "    <tr>\n",
       "      <th>43</th>\n",
       "      <td>Mexico</td>\n",
       "      <td>Zumpango</td>\n",
       "      <td>EMIT</td>\n",
       "      <td>1</td>\n",
       "    </tr>\n",
       "    <tr>\n",
       "      <th>42</th>\n",
       "      <td>Mexico</td>\n",
       "      <td>Tecnosilicatos</td>\n",
       "      <td>EMIT</td>\n",
       "      <td>3</td>\n",
       "    </tr>\n",
       "    <tr>\n",
       "      <th>40</th>\n",
       "      <td>Mexico</td>\n",
       "      <td>Cuautitlán Izcalli</td>\n",
       "      <td>EMIT</td>\n",
       "      <td>1</td>\n",
       "    </tr>\n",
       "    <tr>\n",
       "      <th>39</th>\n",
       "      <td>Mexico</td>\n",
       "      <td>Chicoloapan de Juárez</td>\n",
       "      <td>EMIT</td>\n",
       "      <td>3</td>\n",
       "    </tr>\n",
       "    <tr>\n",
       "      <th>47</th>\n",
       "      <td>Saudi Arabia</td>\n",
       "      <td>Riyadh</td>\n",
       "      <td>EMIT</td>\n",
       "      <td>9</td>\n",
       "    </tr>\n",
       "    <tr>\n",
       "      <th>48</th>\n",
       "      <td>Saudi Arabia</td>\n",
       "      <td>Riyadh</td>\n",
       "      <td>EnMAP</td>\n",
       "      <td>2</td>\n",
       "    </tr>\n",
       "    <tr>\n",
       "      <th>38</th>\n",
       "      <td>Kuwait</td>\n",
       "      <td>Seventh Ring Road</td>\n",
       "      <td>EnMAP</td>\n",
       "      <td>4</td>\n",
       "    </tr>\n",
       "    <tr>\n",
       "      <th>37</th>\n",
       "      <td>Kuwait</td>\n",
       "      <td>Seventh Ring Road</td>\n",
       "      <td>EMIT</td>\n",
       "      <td>6</td>\n",
       "    </tr>\n",
       "    <tr>\n",
       "      <th>54</th>\n",
       "      <td>Uzbekistan</td>\n",
       "      <td>Tashkent</td>\n",
       "      <td>EnMAP</td>\n",
       "      <td>2</td>\n",
       "    </tr>\n",
       "    <tr>\n",
       "      <th>53</th>\n",
       "      <td>Uzbekistan</td>\n",
       "      <td>Tashkent</td>\n",
       "      <td>EMIT</td>\n",
       "      <td>6</td>\n",
       "    </tr>\n",
       "    <tr>\n",
       "      <th>51</th>\n",
       "      <td>United States</td>\n",
       "      <td>Charlotte Motor Speedway</td>\n",
       "      <td>EMIT</td>\n",
       "      <td>3</td>\n",
       "    </tr>\n",
       "    <tr>\n",
       "      <th>52</th>\n",
       "      <td>United States</td>\n",
       "      <td>Seminole Road</td>\n",
       "      <td>EnMAP</td>\n",
       "      <td>2</td>\n",
       "    </tr>\n",
       "    <tr>\n",
       "      <th>50</th>\n",
       "      <td>Tunisia</td>\n",
       "      <td>Djebel Chakir</td>\n",
       "      <td>EMIT</td>\n",
       "      <td>5</td>\n",
       "    </tr>\n",
       "    <tr>\n",
       "      <th>9</th>\n",
       "      <td>China</td>\n",
       "      <td>Ürümqi</td>\n",
       "      <td>EMIT</td>\n",
       "      <td>5</td>\n",
       "    </tr>\n",
       "    <tr>\n",
       "      <th>45</th>\n",
       "      <td>Pakistan</td>\n",
       "      <td>Lakhodair</td>\n",
       "      <td>EMIT</td>\n",
       "      <td>1</td>\n",
       "    </tr>\n",
       "    <tr>\n",
       "      <th>44</th>\n",
       "      <td>Pakistan</td>\n",
       "      <td>Jam Chakro</td>\n",
       "      <td>EMIT</td>\n",
       "      <td>1</td>\n",
       "    </tr>\n",
       "    <tr>\n",
       "      <th>46</th>\n",
       "      <td>Pakistan</td>\n",
       "      <td>Lakhodair</td>\n",
       "      <td>PRISMA</td>\n",
       "      <td>1</td>\n",
       "    </tr>\n",
       "    <tr>\n",
       "      <th>7</th>\n",
       "      <td>Brazil</td>\n",
       "      <td>Pedreira</td>\n",
       "      <td>EMIT</td>\n",
       "      <td>1</td>\n",
       "    </tr>\n",
       "    <tr>\n",
       "      <th>8</th>\n",
       "      <td>Brazil</td>\n",
       "      <td>São Paulo</td>\n",
       "      <td>EMIT</td>\n",
       "      <td>1</td>\n",
       "    </tr>\n",
       "    <tr>\n",
       "      <th>55</th>\n",
       "      <td>Yemen</td>\n",
       "      <td>Sanaa</td>\n",
       "      <td>EnMAP</td>\n",
       "      <td>2</td>\n",
       "    </tr>\n",
       "    <tr>\n",
       "      <th>49</th>\n",
       "      <td>Spain</td>\n",
       "      <td>Pinto</td>\n",
       "      <td>EMIT</td>\n",
       "      <td>1</td>\n",
       "    </tr>\n",
       "    <tr>\n",
       "      <th>6</th>\n",
       "      <td>Bangladesh</td>\n",
       "      <td>Aminbazar</td>\n",
       "      <td>EMIT</td>\n",
       "      <td>1</td>\n",
       "    </tr>\n",
       "  </tbody>\n",
       "</table>\n",
       "</div>"
      ],
      "text/plain": [
       "          country                      name platform  count\n",
       "27          India                    Pirana   PRISMA      5\n",
       "24          India                     Okhla     EMIT      3\n",
       "23          India               Manter Wadi     EMIT      1\n",
       "22          India                    Majura     EMIT      3\n",
       "21          India                Kanjurmarg   PRISMA      2\n",
       "20          India                Kanjurmarg    EnMAP      1\n",
       "19          India                Kanjurmarg     EMIT      1\n",
       "18          India                      Hind     EMIT      1\n",
       "17          India                  Ghazipur    EnMAP      5\n",
       "16          India                  Ghazipur     EMIT      4\n",
       "15          India                    Deonar    EnMAP      1\n",
       "14          India                    Deonar     EMIT      1\n",
       "25          India                     Okhla    EnMAP      5\n",
       "13          India                   Bhalswa    EnMAP      3\n",
       "11          India                 Bandhwari    EnMAP      2\n",
       "10          India                 Bandhwari     EMIT      3\n",
       "12          India                   Bhalswa     EMIT      3\n",
       "26          India                    Pirana     EMIT      1\n",
       "34         Jordan                Al Akaider     EMIT      7\n",
       "35         Jordan                Al Akaider    EnMAP      1\n",
       "36         Jordan                   Ghabawi     EMIT     14\n",
       "30         Israel                    Dudaim     EMIT      7\n",
       "31         Israel                    Dudaim    EnMAP      2\n",
       "32         Israel                     Tamar     EMIT      7\n",
       "33         Israel                     Tamar    EnMAP      3\n",
       "28           Iran                   Mashhad     EMIT      8\n",
       "29           Iran                    Tehran     EMIT      9\n",
       "0       Argentina            González Catán     EMIT      3\n",
       "5       Argentina             Piedra Blanca     EMIT      2\n",
       "4       Argentina                 Norte III   PRISMA      2\n",
       "3       Argentina                 Norte III    EnMAP      2\n",
       "2       Argentina                 Norte III     EMIT      4\n",
       "1       Argentina            González Catán    EnMAP      2\n",
       "41         Mexico               Simeprodeso     EMIT      5\n",
       "43         Mexico                  Zumpango     EMIT      1\n",
       "42         Mexico            Tecnosilicatos     EMIT      3\n",
       "40         Mexico        Cuautitlán Izcalli     EMIT      1\n",
       "39         Mexico    Chicoloapan de Juárez      EMIT      3\n",
       "47   Saudi Arabia                    Riyadh     EMIT      9\n",
       "48   Saudi Arabia                    Riyadh    EnMAP      2\n",
       "38         Kuwait         Seventh Ring Road    EnMAP      4\n",
       "37         Kuwait         Seventh Ring Road     EMIT      6\n",
       "54     Uzbekistan                  Tashkent    EnMAP      2\n",
       "53     Uzbekistan                  Tashkent     EMIT      6\n",
       "51  United States  Charlotte Motor Speedway     EMIT      3\n",
       "52  United States             Seminole Road    EnMAP      2\n",
       "50        Tunisia             Djebel Chakir     EMIT      5\n",
       "9           China                    Ürümqi     EMIT      5\n",
       "45       Pakistan                 Lakhodair     EMIT      1\n",
       "44       Pakistan                Jam Chakro     EMIT      1\n",
       "46       Pakistan                 Lakhodair   PRISMA      1\n",
       "7          Brazil                  Pedreira     EMIT      1\n",
       "8          Brazil                 São Paulo     EMIT      1\n",
       "55          Yemen                     Sanaa    EnMAP      2\n",
       "49          Spain                     Pinto     EMIT      1\n",
       "6      Bangladesh                 Aminbazar     EMIT      1"
      ]
     },
     "execution_count": 5,
     "metadata": {},
     "output_type": "execute_result"
    }
   ],
   "source": [
    "df_grp"
   ]
  },
  {
   "cell_type": "code",
   "execution_count": 6,
   "metadata": {},
   "outputs": [
    {
     "name": "stdout",
     "output_type": "stream",
     "text": [
      "76.31578947368422 percent landfills are observed at least twice.\n"
     ]
    }
   ],
   "source": [
    "obs_num = df_grp.groupby('name')['count'].sum()\n",
    "print(len(obs_num[obs_num>1])/len(obs_num)*100, 'percent landfills are observed at least twice.')"
   ]
  },
  {
   "cell_type": "code",
   "execution_count": 7,
   "metadata": {},
   "outputs": [
    {
     "data": {
      "text/plain": [
       "name\n",
       "Ghabawi                     14\n",
       "Riyadh                      11\n",
       "Tamar                       10\n",
       "Seventh Ring Road           10\n",
       "Ghazipur                     9\n",
       "Tehran                       9\n",
       "Dudaim                       9\n",
       "Al Akaider                   8\n",
       "Tashkent                     8\n",
       "Okhla                        8\n",
       "Norte III                    8\n",
       "Mashhad                      8\n",
       "Pirana                       6\n",
       "Bhalswa                      6\n",
       "Djebel Chakir                5\n",
       "Bandhwari                    5\n",
       "Simeprodeso                  5\n",
       "González Catán               5\n",
       "Ürümqi                       5\n",
       "Kanjurmarg                   4\n",
       "Majura                       3\n",
       "Tecnosilicatos               3\n",
       "Charlotte Motor Speedway     3\n",
       "Chicoloapan de Juárez        3\n",
       "Sanaa                        2\n",
       "Lakhodair                    2\n",
       "Seminole Road                2\n",
       "Piedra Blanca                2\n",
       "Deonar                       2\n",
       "Cuautitlán Izcalli           1\n",
       "Aminbazar                    1\n",
       "Hind                         1\n",
       "Pinto                        1\n",
       "São Paulo                    1\n",
       "Pedreira                     1\n",
       "Jam Chakro                   1\n",
       "Zumpango                     1\n",
       "Manter Wadi                  1\n",
       "Name: count, dtype: int64"
      ]
     },
     "execution_count": 7,
     "metadata": {},
     "output_type": "execute_result"
    }
   ],
   "source": [
    "obs_num.sort_values(ascending=False)"
   ]
  },
  {
   "cell_type": "code",
   "execution_count": 8,
   "metadata": {},
   "outputs": [
    {
     "data": {
      "application/vnd.plotly.v1+json": {
       "config": {
        "plotlyServerURL": "https://plot.ly"
       },
       "data": [
        {
         "link": {
          "source": [
           4,
           4,
           4,
           16,
           13,
           13,
           11,
           0,
           0,
           0,
           0,
           0,
           0,
           0,
           0,
           0,
           0,
           3,
           3,
           2,
           2,
           1,
           1,
           7,
           5,
           5,
           5,
           5,
           5,
           12,
           12,
           6,
           15,
           10,
           9,
           9,
           8,
           14,
           27,
           27,
           54,
           26,
           26,
           25,
           25,
           44,
           40,
           39,
           24,
           24,
           46,
           29,
           29,
           28,
           23,
           23,
           33,
           33,
           22,
           49,
           21,
           21,
           21,
           48,
           48,
           20,
           19,
           31,
           35,
           35,
           35,
           18,
           18,
           50,
           34,
           53,
           17,
           17,
           41,
           41,
           52,
           45,
           42,
           42,
           36,
           51,
           30,
           30,
           43,
           43,
           38,
           32,
           37,
           47
          ],
          "target": [
           33,
           35,
           34,
           54,
           50,
           51,
           47,
           26,
           25,
           24,
           23,
           22,
           21,
           20,
           19,
           18,
           17,
           31,
           32,
           29,
           30,
           27,
           28,
           42,
           40,
           39,
           36,
           38,
           37,
           49,
           48,
           41,
           53,
           46,
           44,
           45,
           43,
           52,
           56,
           57,
           56,
           56,
           57,
           56,
           57,
           56,
           56,
           56,
           56,
           57,
           56,
           56,
           57,
           56,
           56,
           57,
           56,
           57,
           56,
           56,
           56,
           57,
           55,
           56,
           55,
           56,
           56,
           56,
           56,
           57,
           55,
           56,
           57,
           56,
           56,
           56,
           56,
           55,
           56,
           57,
           57,
           57,
           56,
           57,
           56,
           56,
           56,
           57,
           56,
           57,
           56,
           56,
           56,
           56
          ],
          "value": [
           5,
           8,
           2,
           1,
           1,
           1,
           5,
           5,
           6,
           2,
           9,
           1,
           4,
           3,
           1,
           8,
           6,
           8,
           9,
           9,
           10,
           8,
           14,
           10,
           3,
           1,
           5,
           3,
           1,
           1,
           2,
           11,
           1,
           5,
           3,
           2,
           8,
           2,
           7,
           1,
           1,
           3,
           2,
           3,
           3,
           3,
           3,
           1,
           1,
           1,
           5,
           7,
           2,
           14,
           4,
           5,
           3,
           2,
           1,
           1,
           1,
           1,
           2,
           1,
           1,
           3,
           1,
           8,
           4,
           2,
           2,
           3,
           5,
           1,
           2,
           1,
           1,
           5,
           9,
           2,
           2,
           2,
           6,
           4,
           5,
           1,
           7,
           3,
           6,
           2,
           3,
           9,
           1,
           5
          ]
         },
         "node": {
          "label": [
           "India (45)",
           "Jordan (22)",
           "Israel (19)",
           "Iran (17)",
           "Argentina (15)",
           "Mexico (13)",
           "Saudi Arabia (11)",
           "Kuwait (10)",
           "Uzbekistan (8)",
           "United States (5)",
           "Tunisia (5)",
           "China (5)",
           "Pakistan (3)",
           "Brazil (2)",
           "Yemen (2)",
           "Spain (1)",
           "Bangladesh (1)",
           "Pirana (6)",
           "Okhla (8)",
           "Manter Wadi (1)",
           "Majura (3)",
           "Kanjurmarg (4)",
           "Hind (1)",
           "Ghazipur (9)",
           "Deonar (2)",
           "Bhalswa (6)",
           "Bandhwari (5)",
           "Al Akaider (8)",
           "Ghabawi (14)",
           "Dudaim (9)",
           "Tamar (10)",
           "Mashhad (8)",
           "Tehran (9)",
           "González Catán (5)",
           "Piedra Blanca (2)",
           "Norte III (8)",
           "Simeprodeso (5)",
           "Zumpango (1)",
           "Tecnosilicatos (3)",
           "Cuautitlán Izcalli (1)",
           "Chicoloapan de Juárez  (3)",
           "Riyadh (11)",
           "Seventh Ring Road (10)",
           "Tashkent (8)",
           "Charlotte Motor Speedway (3)",
           "Seminole Road (2)",
           "Djebel Chakir (5)",
           "Ürümqi (5)",
           "Lakhodair (2)",
           "Jam Chakro (1)",
           "Pedreira (1)",
           "São Paulo (1)",
           "Sanaa (2)",
           "Pinto (1)",
           "Aminbazar (1)",
           "PRISMA (10)",
           "EMIT (135)",
           "EnMAP (39)"
          ]
         },
         "type": "sankey"
        }
       ],
       "layout": {
        "annotations": [
         {
          "align": "center",
          "font": {
           "size": 28
          },
          "showarrow": false,
          "text": "<b>Countries</b>",
          "x": 0,
          "y": 1.08
         },
         {
          "align": "center",
          "font": {
           "size": 28
          },
          "showarrow": false,
          "text": "<b>Landfills</b>",
          "x": 0.55,
          "y": 1.08
         },
         {
          "align": "center",
          "font": {
           "size": 28
          },
          "showarrow": false,
          "text": "<b>HSI Instruments</b>",
          "x": 1,
          "y": 1.08
         }
        ],
        "autosize": false,
        "font": {
         "family": "sans-serif",
         "size": 20
        },
        "height": 1200,
        "template": {
         "data": {
          "bar": [
           {
            "error_x": {
             "color": "#2a3f5f"
            },
            "error_y": {
             "color": "#2a3f5f"
            },
            "marker": {
             "line": {
              "color": "#E5ECF6",
              "width": 0.5
             },
             "pattern": {
              "fillmode": "overlay",
              "size": 10,
              "solidity": 0.2
             }
            },
            "type": "bar"
           }
          ],
          "barpolar": [
           {
            "marker": {
             "line": {
              "color": "#E5ECF6",
              "width": 0.5
             },
             "pattern": {
              "fillmode": "overlay",
              "size": 10,
              "solidity": 0.2
             }
            },
            "type": "barpolar"
           }
          ],
          "carpet": [
           {
            "aaxis": {
             "endlinecolor": "#2a3f5f",
             "gridcolor": "white",
             "linecolor": "white",
             "minorgridcolor": "white",
             "startlinecolor": "#2a3f5f"
            },
            "baxis": {
             "endlinecolor": "#2a3f5f",
             "gridcolor": "white",
             "linecolor": "white",
             "minorgridcolor": "white",
             "startlinecolor": "#2a3f5f"
            },
            "type": "carpet"
           }
          ],
          "choropleth": [
           {
            "colorbar": {
             "outlinewidth": 0,
             "ticks": ""
            },
            "type": "choropleth"
           }
          ],
          "contour": [
           {
            "colorbar": {
             "outlinewidth": 0,
             "ticks": ""
            },
            "colorscale": [
             [
              0,
              "#0d0887"
             ],
             [
              0.1111111111111111,
              "#46039f"
             ],
             [
              0.2222222222222222,
              "#7201a8"
             ],
             [
              0.3333333333333333,
              "#9c179e"
             ],
             [
              0.4444444444444444,
              "#bd3786"
             ],
             [
              0.5555555555555556,
              "#d8576b"
             ],
             [
              0.6666666666666666,
              "#ed7953"
             ],
             [
              0.7777777777777778,
              "#fb9f3a"
             ],
             [
              0.8888888888888888,
              "#fdca26"
             ],
             [
              1,
              "#f0f921"
             ]
            ],
            "type": "contour"
           }
          ],
          "contourcarpet": [
           {
            "colorbar": {
             "outlinewidth": 0,
             "ticks": ""
            },
            "type": "contourcarpet"
           }
          ],
          "heatmap": [
           {
            "colorbar": {
             "outlinewidth": 0,
             "ticks": ""
            },
            "colorscale": [
             [
              0,
              "#0d0887"
             ],
             [
              0.1111111111111111,
              "#46039f"
             ],
             [
              0.2222222222222222,
              "#7201a8"
             ],
             [
              0.3333333333333333,
              "#9c179e"
             ],
             [
              0.4444444444444444,
              "#bd3786"
             ],
             [
              0.5555555555555556,
              "#d8576b"
             ],
             [
              0.6666666666666666,
              "#ed7953"
             ],
             [
              0.7777777777777778,
              "#fb9f3a"
             ],
             [
              0.8888888888888888,
              "#fdca26"
             ],
             [
              1,
              "#f0f921"
             ]
            ],
            "type": "heatmap"
           }
          ],
          "heatmapgl": [
           {
            "colorbar": {
             "outlinewidth": 0,
             "ticks": ""
            },
            "colorscale": [
             [
              0,
              "#0d0887"
             ],
             [
              0.1111111111111111,
              "#46039f"
             ],
             [
              0.2222222222222222,
              "#7201a8"
             ],
             [
              0.3333333333333333,
              "#9c179e"
             ],
             [
              0.4444444444444444,
              "#bd3786"
             ],
             [
              0.5555555555555556,
              "#d8576b"
             ],
             [
              0.6666666666666666,
              "#ed7953"
             ],
             [
              0.7777777777777778,
              "#fb9f3a"
             ],
             [
              0.8888888888888888,
              "#fdca26"
             ],
             [
              1,
              "#f0f921"
             ]
            ],
            "type": "heatmapgl"
           }
          ],
          "histogram": [
           {
            "marker": {
             "pattern": {
              "fillmode": "overlay",
              "size": 10,
              "solidity": 0.2
             }
            },
            "type": "histogram"
           }
          ],
          "histogram2d": [
           {
            "colorbar": {
             "outlinewidth": 0,
             "ticks": ""
            },
            "colorscale": [
             [
              0,
              "#0d0887"
             ],
             [
              0.1111111111111111,
              "#46039f"
             ],
             [
              0.2222222222222222,
              "#7201a8"
             ],
             [
              0.3333333333333333,
              "#9c179e"
             ],
             [
              0.4444444444444444,
              "#bd3786"
             ],
             [
              0.5555555555555556,
              "#d8576b"
             ],
             [
              0.6666666666666666,
              "#ed7953"
             ],
             [
              0.7777777777777778,
              "#fb9f3a"
             ],
             [
              0.8888888888888888,
              "#fdca26"
             ],
             [
              1,
              "#f0f921"
             ]
            ],
            "type": "histogram2d"
           }
          ],
          "histogram2dcontour": [
           {
            "colorbar": {
             "outlinewidth": 0,
             "ticks": ""
            },
            "colorscale": [
             [
              0,
              "#0d0887"
             ],
             [
              0.1111111111111111,
              "#46039f"
             ],
             [
              0.2222222222222222,
              "#7201a8"
             ],
             [
              0.3333333333333333,
              "#9c179e"
             ],
             [
              0.4444444444444444,
              "#bd3786"
             ],
             [
              0.5555555555555556,
              "#d8576b"
             ],
             [
              0.6666666666666666,
              "#ed7953"
             ],
             [
              0.7777777777777778,
              "#fb9f3a"
             ],
             [
              0.8888888888888888,
              "#fdca26"
             ],
             [
              1,
              "#f0f921"
             ]
            ],
            "type": "histogram2dcontour"
           }
          ],
          "mesh3d": [
           {
            "colorbar": {
             "outlinewidth": 0,
             "ticks": ""
            },
            "type": "mesh3d"
           }
          ],
          "parcoords": [
           {
            "line": {
             "colorbar": {
              "outlinewidth": 0,
              "ticks": ""
             }
            },
            "type": "parcoords"
           }
          ],
          "pie": [
           {
            "automargin": true,
            "type": "pie"
           }
          ],
          "scatter": [
           {
            "fillpattern": {
             "fillmode": "overlay",
             "size": 10,
             "solidity": 0.2
            },
            "type": "scatter"
           }
          ],
          "scatter3d": [
           {
            "line": {
             "colorbar": {
              "outlinewidth": 0,
              "ticks": ""
             }
            },
            "marker": {
             "colorbar": {
              "outlinewidth": 0,
              "ticks": ""
             }
            },
            "type": "scatter3d"
           }
          ],
          "scattercarpet": [
           {
            "marker": {
             "colorbar": {
              "outlinewidth": 0,
              "ticks": ""
             }
            },
            "type": "scattercarpet"
           }
          ],
          "scattergeo": [
           {
            "marker": {
             "colorbar": {
              "outlinewidth": 0,
              "ticks": ""
             }
            },
            "type": "scattergeo"
           }
          ],
          "scattergl": [
           {
            "marker": {
             "colorbar": {
              "outlinewidth": 0,
              "ticks": ""
             }
            },
            "type": "scattergl"
           }
          ],
          "scattermapbox": [
           {
            "marker": {
             "colorbar": {
              "outlinewidth": 0,
              "ticks": ""
             }
            },
            "type": "scattermapbox"
           }
          ],
          "scatterpolar": [
           {
            "marker": {
             "colorbar": {
              "outlinewidth": 0,
              "ticks": ""
             }
            },
            "type": "scatterpolar"
           }
          ],
          "scatterpolargl": [
           {
            "marker": {
             "colorbar": {
              "outlinewidth": 0,
              "ticks": ""
             }
            },
            "type": "scatterpolargl"
           }
          ],
          "scatterternary": [
           {
            "marker": {
             "colorbar": {
              "outlinewidth": 0,
              "ticks": ""
             }
            },
            "type": "scatterternary"
           }
          ],
          "surface": [
           {
            "colorbar": {
             "outlinewidth": 0,
             "ticks": ""
            },
            "colorscale": [
             [
              0,
              "#0d0887"
             ],
             [
              0.1111111111111111,
              "#46039f"
             ],
             [
              0.2222222222222222,
              "#7201a8"
             ],
             [
              0.3333333333333333,
              "#9c179e"
             ],
             [
              0.4444444444444444,
              "#bd3786"
             ],
             [
              0.5555555555555556,
              "#d8576b"
             ],
             [
              0.6666666666666666,
              "#ed7953"
             ],
             [
              0.7777777777777778,
              "#fb9f3a"
             ],
             [
              0.8888888888888888,
              "#fdca26"
             ],
             [
              1,
              "#f0f921"
             ]
            ],
            "type": "surface"
           }
          ],
          "table": [
           {
            "cells": {
             "fill": {
              "color": "#EBF0F8"
             },
             "line": {
              "color": "white"
             }
            },
            "header": {
             "fill": {
              "color": "#C8D4E3"
             },
             "line": {
              "color": "white"
             }
            },
            "type": "table"
           }
          ]
         },
         "layout": {
          "annotationdefaults": {
           "arrowcolor": "#2a3f5f",
           "arrowhead": 0,
           "arrowwidth": 1
          },
          "autotypenumbers": "strict",
          "coloraxis": {
           "colorbar": {
            "outlinewidth": 0,
            "ticks": ""
           }
          },
          "colorscale": {
           "diverging": [
            [
             0,
             "#8e0152"
            ],
            [
             0.1,
             "#c51b7d"
            ],
            [
             0.2,
             "#de77ae"
            ],
            [
             0.3,
             "#f1b6da"
            ],
            [
             0.4,
             "#fde0ef"
            ],
            [
             0.5,
             "#f7f7f7"
            ],
            [
             0.6,
             "#e6f5d0"
            ],
            [
             0.7,
             "#b8e186"
            ],
            [
             0.8,
             "#7fbc41"
            ],
            [
             0.9,
             "#4d9221"
            ],
            [
             1,
             "#276419"
            ]
           ],
           "sequential": [
            [
             0,
             "#0d0887"
            ],
            [
             0.1111111111111111,
             "#46039f"
            ],
            [
             0.2222222222222222,
             "#7201a8"
            ],
            [
             0.3333333333333333,
             "#9c179e"
            ],
            [
             0.4444444444444444,
             "#bd3786"
            ],
            [
             0.5555555555555556,
             "#d8576b"
            ],
            [
             0.6666666666666666,
             "#ed7953"
            ],
            [
             0.7777777777777778,
             "#fb9f3a"
            ],
            [
             0.8888888888888888,
             "#fdca26"
            ],
            [
             1,
             "#f0f921"
            ]
           ],
           "sequentialminus": [
            [
             0,
             "#0d0887"
            ],
            [
             0.1111111111111111,
             "#46039f"
            ],
            [
             0.2222222222222222,
             "#7201a8"
            ],
            [
             0.3333333333333333,
             "#9c179e"
            ],
            [
             0.4444444444444444,
             "#bd3786"
            ],
            [
             0.5555555555555556,
             "#d8576b"
            ],
            [
             0.6666666666666666,
             "#ed7953"
            ],
            [
             0.7777777777777778,
             "#fb9f3a"
            ],
            [
             0.8888888888888888,
             "#fdca26"
            ],
            [
             1,
             "#f0f921"
            ]
           ]
          },
          "colorway": [
           "#636efa",
           "#EF553B",
           "#00cc96",
           "#ab63fa",
           "#FFA15A",
           "#19d3f3",
           "#FF6692",
           "#B6E880",
           "#FF97FF",
           "#FECB52"
          ],
          "font": {
           "color": "#2a3f5f"
          },
          "geo": {
           "bgcolor": "white",
           "lakecolor": "white",
           "landcolor": "#E5ECF6",
           "showlakes": true,
           "showland": true,
           "subunitcolor": "white"
          },
          "hoverlabel": {
           "align": "left"
          },
          "hovermode": "closest",
          "mapbox": {
           "style": "light"
          },
          "paper_bgcolor": "white",
          "plot_bgcolor": "#E5ECF6",
          "polar": {
           "angularaxis": {
            "gridcolor": "white",
            "linecolor": "white",
            "ticks": ""
           },
           "bgcolor": "#E5ECF6",
           "radialaxis": {
            "gridcolor": "white",
            "linecolor": "white",
            "ticks": ""
           }
          },
          "scene": {
           "xaxis": {
            "backgroundcolor": "#E5ECF6",
            "gridcolor": "white",
            "gridwidth": 2,
            "linecolor": "white",
            "showbackground": true,
            "ticks": "",
            "zerolinecolor": "white"
           },
           "yaxis": {
            "backgroundcolor": "#E5ECF6",
            "gridcolor": "white",
            "gridwidth": 2,
            "linecolor": "white",
            "showbackground": true,
            "ticks": "",
            "zerolinecolor": "white"
           },
           "zaxis": {
            "backgroundcolor": "#E5ECF6",
            "gridcolor": "white",
            "gridwidth": 2,
            "linecolor": "white",
            "showbackground": true,
            "ticks": "",
            "zerolinecolor": "white"
           }
          },
          "shapedefaults": {
           "line": {
            "color": "#2a3f5f"
           }
          },
          "ternary": {
           "aaxis": {
            "gridcolor": "white",
            "linecolor": "white",
            "ticks": ""
           },
           "baxis": {
            "gridcolor": "white",
            "linecolor": "white",
            "ticks": ""
           },
           "bgcolor": "#E5ECF6",
           "caxis": {
            "gridcolor": "white",
            "linecolor": "white",
            "ticks": ""
           }
          },
          "title": {
           "x": 0.05
          },
          "xaxis": {
           "automargin": true,
           "gridcolor": "white",
           "linecolor": "white",
           "ticks": "",
           "title": {
            "standoff": 15
           },
           "zerolinecolor": "white",
           "zerolinewidth": 2
          },
          "yaxis": {
           "automargin": true,
           "gridcolor": "white",
           "linecolor": "white",
           "ticks": "",
           "title": {
            "standoff": 15
           },
           "zerolinecolor": "white",
           "zerolinewidth": 2
          }
         }
        },
        "title": {
         "text": ""
        },
        "width": 1200
       }
      }
     },
     "metadata": {},
     "output_type": "display_data"
    }
   ],
   "source": [
    "# https://stackoverflow.com/a/70296887/7347925\n",
    "\n",
    "categories = ['country', 'name', 'platform']\n",
    "\n",
    "df_counts = pd.DataFrame()\n",
    "for i in range(len(categories)-1):\n",
    "    # calculate the counts: country -> name, name -> platform\n",
    "    tempDf = df_grp[[categories[i], categories[i+1],'count']].rename(columns={categories[i]: 'source', categories[i+1]: 'target'})\\\n",
    "                                                            .groupby(['source','target']).agg({'count':'sum'}).reset_index()\n",
    "    df_counts = pd.concat([df_counts,tempDf])\n",
    "\n",
    "# get the label list in order\n",
    "label_list = list(df_grp[categories].melt().drop('variable',axis=1)['value'].drop_duplicates().values)\n",
    "\n",
    "source = df_counts['source'].apply(lambda x: label_list.index(x))\n",
    "target = df_counts['target'].apply(lambda x: label_list.index(x))\n",
    "count = df_counts['count']\n",
    "\n",
    "# calculate the counts of each label\n",
    "df_country_count = df_grp.groupby(['country']).agg({'count':'sum'}).reset_index()\n",
    "df_landfill_count = df_grp.groupby(['name']).agg({'count':'sum'}).reset_index()\n",
    "df_platform_count = df_grp.groupby(['platform']).agg({'count':'sum'}).reset_index()\n",
    "\n",
    "# add obs number to label list\n",
    "for index,label in enumerate(label_list):\n",
    "    if any(df_country_count['country'].str.contains(label)):\n",
    "        # get the row of country counts\n",
    "        df_subset = df_country_count[df_country_count['country']==label]\n",
    "        # create new label\n",
    "        new_label = (df_subset['country'] + ' (' + df_subset['count'].astype('str')).values[0] + ')'\n",
    "    elif any(df_landfill_count['name'].str.contains(label)):\n",
    "        # get the row of landfill counts\n",
    "        df_subset = df_landfill_count[df_landfill_count['name']==label]\n",
    "        # create new label \n",
    "        new_label = (df_subset['name'] + ' (' + df_subset['count'].astype('str')).values[0] + ')'\n",
    "    elif any(df_platform_count['platform'].str.contains(label)):\n",
    "        # get the row of landfill counts\n",
    "        df_subset = df_platform_count[df_platform_count['platform']==label]\n",
    "        # create new label \n",
    "        new_label = (df_subset['platform'] + ' (' + df_subset['count'].astype('str')).values[0] + ')'\n",
    "    # update the label list\n",
    "    label_list[index] = new_label\n",
    "\n",
    "fig = go.Figure(data=[go.Sankey(\n",
    "    node = {\"label\": label_list},\n",
    "    link = {\"source\": source, \"target\": target, \"value\": count}\n",
    "    )])\n",
    "\n",
    "fig.update_layout(\n",
    "    title_text=\"\",\n",
    "    font=dict(\n",
    "        family='sans-serif',\n",
    "        size=20,\n",
    "        # color=\"RebeccaPurple\"\n",
    "    ),\n",
    "    autosize=False,\n",
    "    width=1200,\n",
    "    height=1200,\n",
    ")\n",
    "\n",
    "fig.add_annotation(x=0, y=1.08, text='<b>Countries</b>', showarrow=False,\n",
    "                   font=dict(size=28),align=\"center\"\n",
    "                   )\n",
    "\n",
    "fig.add_annotation(x=0.55, y=1.08, text='<b>Landfills</b>', showarrow=False,\n",
    "                   font=dict(size=28),align=\"center\"\n",
    "                   )\n",
    "\n",
    "fig.add_annotation(x=1, y=1.08, text='<b>HSI Instruments</b>', showarrow=False,\n",
    "                   font=dict(size=28),align=\"center\"\n",
    "                   )\n",
    "\n",
    "fig.write_image('../figures/obs_sankey.pdf', scale=3)\n",
    "fig.show()"
   ]
  },
  {
   "cell_type": "markdown",
   "metadata": {},
   "source": [
    "## Group Emission data by country and landfill name"
   ]
  },
  {
   "cell_type": "code",
   "execution_count": 9,
   "metadata": {},
   "outputs": [],
   "source": [
    "df_summary = pd.read_csv('../data/landfills_hyper_summary.csv')\n",
    "\n",
    "df_emiss = df_summary.groupby(['country', 'name'], as_index=False).agg({'emission':'mean', 'emission_uncertainty(%)': 'mean'})#, 'plume_id': 'count'}).rename(columns={'plume_id': 'count'})\n",
    "\n",
    "# calculate sum by country group        \n",
    "coutry_sum_emission = df_emiss['emission'].groupby(df_emiss.country).transform('sum')\n",
    "\n",
    "df_emiss = df_emiss.assign(sum_emission=coutry_sum_emission).sort_values(['sum_emission', 'emission'], ascending=False).reset_index(drop=True)"
   ]
  },
  {
   "cell_type": "code",
   "execution_count": 10,
   "metadata": {},
   "outputs": [
    {
     "data": {
      "application/vnd.plotly.v1+json": {
       "config": {
        "plotlyServerURL": "https://plot.ly"
       },
       "data": [
        {
         "link": {
          "source": [
           0,
           0,
           0,
           0,
           0,
           0,
           0,
           0,
           0,
           0,
           1,
           1,
           1,
           2,
           2,
           2,
           2,
           2,
           3,
           3,
           4,
           4,
           5,
           5,
           6,
           7,
           7,
           8,
           9,
           9,
           10,
           11,
           11,
           12,
           13,
           14,
           15,
           16
          ],
          "target": [
           17,
           18,
           19,
           20,
           21,
           22,
           23,
           24,
           25,
           26,
           27,
           28,
           29,
           30,
           31,
           32,
           33,
           34,
           35,
           36,
           37,
           38,
           39,
           40,
           41,
           42,
           43,
           44,
           45,
           46,
           47,
           48,
           49,
           50,
           51,
           52,
           53,
           54
          ],
          "value": [
           9.866407331534823,
           4.89386412943909,
           4.448482765276958,
           2.8157715279405635,
           2.75628003009587,
           2.471987011042527,
           2.451613255853771,
           2.4269763201616312,
           2.296358294965282,
           2.0255689408464637,
           19.621073487180485,
           3.5571469509258096,
           2.373111278910124,
           11.152055796891757,
           5.522369517773203,
           2.1845062645163593,
           1.988539866529,
           1.9512680795685664,
           11.454447235884,
           9.146338897563892,
           6.156964541152049,
           5.813769420179708,
           5.65989161631606,
           4.75086020314528,
           10.003249466823615,
           6.534409323795351,
           2.9419526880490814,
           9.144790718311436,
           5.349430181614884,
           3.522198713203104,
           7.501679992891099,
           4.047599221018345,
           2.465027100019452,
           6.011729272890852,
           5.668063502165608,
           4.316861309084111,
           3.776973180409308,
           1.0696865305740466
          ]
         },
         "node": {
          "color": [
           "#fde725",
           "#d5e21a",
           "#aadc32",
           "#81d34d",
           "#5cc863",
           "#3dbc74",
           "#27ad81",
           "#1f9f88",
           "#21908d",
           "#26818e",
           "#2c718e",
           "#33628d",
           "#3b518b",
           "#423f85",
           "#472c7a",
           "#481769",
           "#440154",
           "#9d0d14",
           "#f5513a",
           "#fa6547",
           "#fca385",
           "#fcab8f",
           "#fcb499",
           "#fdc5ae",
           "#fdcdb9",
           "#feddce",
           "#fee7dd",
           "#67000d",
           "#fc8868",
           "#fdd5c3",
           "#820610",
           "#ef3c2d",
           "#fee3d6",
           "#ffece3",
           "#fff0ea",
           "#74030f",
           "#a81016",
           "#c9181d",
           "#d92523",
           "#e83429",
           "#f75b40",
           "#8f0a12",
           "#c1161b",
           "#fc9a7b",
           "#b01217",
           "#f24633",
           "#fc9171",
           "#b91419",
           "#fb7757",
           "#fcbda4",
           "#d11e1f",
           "#e02d26",
           "#fb6e4e",
           "#fc8060",
           "#fff5f0"
          ],
          "label": [
           "India (36.45)",
           "Argentina (25.55)",
           "Mexico (22.8)",
           "Brazil (20.6)",
           "Pakistan (11.97)",
           "Israel (10.41)",
           "Saudi Arabia (10.0)",
           "Jordan (9.48)",
           "China (9.14)",
           "Iran (8.87)",
           "Kuwait (7.5)",
           "United States (6.51)",
           "Tunisia (6.01)",
           "Spain (5.67)",
           "Uzbekistan (4.32)",
           "Bangladesh (3.78)",
           "Yemen (1.07)",
           "Kanjurmarg (9.87)",
           "Majura (4.89)",
           "Ghazipur (4.45)",
           "Pirana (2.82)",
           "Hind (2.76)",
           "Okhla (2.47)",
           "Bhalswa (2.45)",
           "Bandhwari (2.43)",
           "Manter Wadi (2.3)",
           "Deonar (2.03)",
           "Norte III (19.62)",
           "Piedra Blanca (3.56)",
           "González Catán (2.37)",
           "Tecnosilicatos (11.15)",
           "Simeprodeso (5.52)",
           "Chicoloapan de Juárez (2.18)",
           "Cuautitlán Izcalli (1.99)",
           "Zumpango (1.95)",
           "São Paulo (11.45)",
           "Pedreira (9.15)",
           "Lakhodair (6.16)",
           "Jam Chakro (5.81)",
           "Dudaim (5.66)",
           "Tamar (4.75)",
           "Riyadh (10.0)",
           "Ghabawi (6.53)",
           "Al Akaider (2.94)",
           "Ürümqi (9.14)",
           "Tehran (5.35)",
           "Mashhad (3.52)",
           "Seventh Ring Road (7.5)",
           "Charlotte Motor Speedway (4.05)",
           "Seminole Road (2.47)",
           "Djebel Chakir (6.01)",
           "Pinto (5.67)",
           "Tashkent (4.32)",
           "Aminbazar (3.78)",
           "Sanaa (1.07)"
          ]
         },
         "type": "sankey"
        }
       ],
       "layout": {
        "annotations": [
         {
          "align": "center",
          "font": {
           "size": 28
          },
          "showarrow": false,
          "text": "<b>Countries</b>",
          "x": 0,
          "y": 1.08
         },
         {
          "align": "center",
          "font": {
           "size": 28
          },
          "showarrow": false,
          "text": "<b>Landfill Emissions (t/h)</b>",
          "x": 1,
          "y": 1.08
         }
        ],
        "autosize": false,
        "font": {
         "family": "sans-serif",
         "size": 25
        },
        "height": 1200,
        "template": {
         "data": {
          "bar": [
           {
            "error_x": {
             "color": "#2a3f5f"
            },
            "error_y": {
             "color": "#2a3f5f"
            },
            "marker": {
             "line": {
              "color": "#E5ECF6",
              "width": 0.5
             },
             "pattern": {
              "fillmode": "overlay",
              "size": 10,
              "solidity": 0.2
             }
            },
            "type": "bar"
           }
          ],
          "barpolar": [
           {
            "marker": {
             "line": {
              "color": "#E5ECF6",
              "width": 0.5
             },
             "pattern": {
              "fillmode": "overlay",
              "size": 10,
              "solidity": 0.2
             }
            },
            "type": "barpolar"
           }
          ],
          "carpet": [
           {
            "aaxis": {
             "endlinecolor": "#2a3f5f",
             "gridcolor": "white",
             "linecolor": "white",
             "minorgridcolor": "white",
             "startlinecolor": "#2a3f5f"
            },
            "baxis": {
             "endlinecolor": "#2a3f5f",
             "gridcolor": "white",
             "linecolor": "white",
             "minorgridcolor": "white",
             "startlinecolor": "#2a3f5f"
            },
            "type": "carpet"
           }
          ],
          "choropleth": [
           {
            "colorbar": {
             "outlinewidth": 0,
             "ticks": ""
            },
            "type": "choropleth"
           }
          ],
          "contour": [
           {
            "colorbar": {
             "outlinewidth": 0,
             "ticks": ""
            },
            "colorscale": [
             [
              0,
              "#0d0887"
             ],
             [
              0.1111111111111111,
              "#46039f"
             ],
             [
              0.2222222222222222,
              "#7201a8"
             ],
             [
              0.3333333333333333,
              "#9c179e"
             ],
             [
              0.4444444444444444,
              "#bd3786"
             ],
             [
              0.5555555555555556,
              "#d8576b"
             ],
             [
              0.6666666666666666,
              "#ed7953"
             ],
             [
              0.7777777777777778,
              "#fb9f3a"
             ],
             [
              0.8888888888888888,
              "#fdca26"
             ],
             [
              1,
              "#f0f921"
             ]
            ],
            "type": "contour"
           }
          ],
          "contourcarpet": [
           {
            "colorbar": {
             "outlinewidth": 0,
             "ticks": ""
            },
            "type": "contourcarpet"
           }
          ],
          "heatmap": [
           {
            "colorbar": {
             "outlinewidth": 0,
             "ticks": ""
            },
            "colorscale": [
             [
              0,
              "#0d0887"
             ],
             [
              0.1111111111111111,
              "#46039f"
             ],
             [
              0.2222222222222222,
              "#7201a8"
             ],
             [
              0.3333333333333333,
              "#9c179e"
             ],
             [
              0.4444444444444444,
              "#bd3786"
             ],
             [
              0.5555555555555556,
              "#d8576b"
             ],
             [
              0.6666666666666666,
              "#ed7953"
             ],
             [
              0.7777777777777778,
              "#fb9f3a"
             ],
             [
              0.8888888888888888,
              "#fdca26"
             ],
             [
              1,
              "#f0f921"
             ]
            ],
            "type": "heatmap"
           }
          ],
          "heatmapgl": [
           {
            "colorbar": {
             "outlinewidth": 0,
             "ticks": ""
            },
            "colorscale": [
             [
              0,
              "#0d0887"
             ],
             [
              0.1111111111111111,
              "#46039f"
             ],
             [
              0.2222222222222222,
              "#7201a8"
             ],
             [
              0.3333333333333333,
              "#9c179e"
             ],
             [
              0.4444444444444444,
              "#bd3786"
             ],
             [
              0.5555555555555556,
              "#d8576b"
             ],
             [
              0.6666666666666666,
              "#ed7953"
             ],
             [
              0.7777777777777778,
              "#fb9f3a"
             ],
             [
              0.8888888888888888,
              "#fdca26"
             ],
             [
              1,
              "#f0f921"
             ]
            ],
            "type": "heatmapgl"
           }
          ],
          "histogram": [
           {
            "marker": {
             "pattern": {
              "fillmode": "overlay",
              "size": 10,
              "solidity": 0.2
             }
            },
            "type": "histogram"
           }
          ],
          "histogram2d": [
           {
            "colorbar": {
             "outlinewidth": 0,
             "ticks": ""
            },
            "colorscale": [
             [
              0,
              "#0d0887"
             ],
             [
              0.1111111111111111,
              "#46039f"
             ],
             [
              0.2222222222222222,
              "#7201a8"
             ],
             [
              0.3333333333333333,
              "#9c179e"
             ],
             [
              0.4444444444444444,
              "#bd3786"
             ],
             [
              0.5555555555555556,
              "#d8576b"
             ],
             [
              0.6666666666666666,
              "#ed7953"
             ],
             [
              0.7777777777777778,
              "#fb9f3a"
             ],
             [
              0.8888888888888888,
              "#fdca26"
             ],
             [
              1,
              "#f0f921"
             ]
            ],
            "type": "histogram2d"
           }
          ],
          "histogram2dcontour": [
           {
            "colorbar": {
             "outlinewidth": 0,
             "ticks": ""
            },
            "colorscale": [
             [
              0,
              "#0d0887"
             ],
             [
              0.1111111111111111,
              "#46039f"
             ],
             [
              0.2222222222222222,
              "#7201a8"
             ],
             [
              0.3333333333333333,
              "#9c179e"
             ],
             [
              0.4444444444444444,
              "#bd3786"
             ],
             [
              0.5555555555555556,
              "#d8576b"
             ],
             [
              0.6666666666666666,
              "#ed7953"
             ],
             [
              0.7777777777777778,
              "#fb9f3a"
             ],
             [
              0.8888888888888888,
              "#fdca26"
             ],
             [
              1,
              "#f0f921"
             ]
            ],
            "type": "histogram2dcontour"
           }
          ],
          "mesh3d": [
           {
            "colorbar": {
             "outlinewidth": 0,
             "ticks": ""
            },
            "type": "mesh3d"
           }
          ],
          "parcoords": [
           {
            "line": {
             "colorbar": {
              "outlinewidth": 0,
              "ticks": ""
             }
            },
            "type": "parcoords"
           }
          ],
          "pie": [
           {
            "automargin": true,
            "type": "pie"
           }
          ],
          "scatter": [
           {
            "fillpattern": {
             "fillmode": "overlay",
             "size": 10,
             "solidity": 0.2
            },
            "type": "scatter"
           }
          ],
          "scatter3d": [
           {
            "line": {
             "colorbar": {
              "outlinewidth": 0,
              "ticks": ""
             }
            },
            "marker": {
             "colorbar": {
              "outlinewidth": 0,
              "ticks": ""
             }
            },
            "type": "scatter3d"
           }
          ],
          "scattercarpet": [
           {
            "marker": {
             "colorbar": {
              "outlinewidth": 0,
              "ticks": ""
             }
            },
            "type": "scattercarpet"
           }
          ],
          "scattergeo": [
           {
            "marker": {
             "colorbar": {
              "outlinewidth": 0,
              "ticks": ""
             }
            },
            "type": "scattergeo"
           }
          ],
          "scattergl": [
           {
            "marker": {
             "colorbar": {
              "outlinewidth": 0,
              "ticks": ""
             }
            },
            "type": "scattergl"
           }
          ],
          "scattermapbox": [
           {
            "marker": {
             "colorbar": {
              "outlinewidth": 0,
              "ticks": ""
             }
            },
            "type": "scattermapbox"
           }
          ],
          "scatterpolar": [
           {
            "marker": {
             "colorbar": {
              "outlinewidth": 0,
              "ticks": ""
             }
            },
            "type": "scatterpolar"
           }
          ],
          "scatterpolargl": [
           {
            "marker": {
             "colorbar": {
              "outlinewidth": 0,
              "ticks": ""
             }
            },
            "type": "scatterpolargl"
           }
          ],
          "scatterternary": [
           {
            "marker": {
             "colorbar": {
              "outlinewidth": 0,
              "ticks": ""
             }
            },
            "type": "scatterternary"
           }
          ],
          "surface": [
           {
            "colorbar": {
             "outlinewidth": 0,
             "ticks": ""
            },
            "colorscale": [
             [
              0,
              "#0d0887"
             ],
             [
              0.1111111111111111,
              "#46039f"
             ],
             [
              0.2222222222222222,
              "#7201a8"
             ],
             [
              0.3333333333333333,
              "#9c179e"
             ],
             [
              0.4444444444444444,
              "#bd3786"
             ],
             [
              0.5555555555555556,
              "#d8576b"
             ],
             [
              0.6666666666666666,
              "#ed7953"
             ],
             [
              0.7777777777777778,
              "#fb9f3a"
             ],
             [
              0.8888888888888888,
              "#fdca26"
             ],
             [
              1,
              "#f0f921"
             ]
            ],
            "type": "surface"
           }
          ],
          "table": [
           {
            "cells": {
             "fill": {
              "color": "#EBF0F8"
             },
             "line": {
              "color": "white"
             }
            },
            "header": {
             "fill": {
              "color": "#C8D4E3"
             },
             "line": {
              "color": "white"
             }
            },
            "type": "table"
           }
          ]
         },
         "layout": {
          "annotationdefaults": {
           "arrowcolor": "#2a3f5f",
           "arrowhead": 0,
           "arrowwidth": 1
          },
          "autotypenumbers": "strict",
          "coloraxis": {
           "colorbar": {
            "outlinewidth": 0,
            "ticks": ""
           }
          },
          "colorscale": {
           "diverging": [
            [
             0,
             "#8e0152"
            ],
            [
             0.1,
             "#c51b7d"
            ],
            [
             0.2,
             "#de77ae"
            ],
            [
             0.3,
             "#f1b6da"
            ],
            [
             0.4,
             "#fde0ef"
            ],
            [
             0.5,
             "#f7f7f7"
            ],
            [
             0.6,
             "#e6f5d0"
            ],
            [
             0.7,
             "#b8e186"
            ],
            [
             0.8,
             "#7fbc41"
            ],
            [
             0.9,
             "#4d9221"
            ],
            [
             1,
             "#276419"
            ]
           ],
           "sequential": [
            [
             0,
             "#0d0887"
            ],
            [
             0.1111111111111111,
             "#46039f"
            ],
            [
             0.2222222222222222,
             "#7201a8"
            ],
            [
             0.3333333333333333,
             "#9c179e"
            ],
            [
             0.4444444444444444,
             "#bd3786"
            ],
            [
             0.5555555555555556,
             "#d8576b"
            ],
            [
             0.6666666666666666,
             "#ed7953"
            ],
            [
             0.7777777777777778,
             "#fb9f3a"
            ],
            [
             0.8888888888888888,
             "#fdca26"
            ],
            [
             1,
             "#f0f921"
            ]
           ],
           "sequentialminus": [
            [
             0,
             "#0d0887"
            ],
            [
             0.1111111111111111,
             "#46039f"
            ],
            [
             0.2222222222222222,
             "#7201a8"
            ],
            [
             0.3333333333333333,
             "#9c179e"
            ],
            [
             0.4444444444444444,
             "#bd3786"
            ],
            [
             0.5555555555555556,
             "#d8576b"
            ],
            [
             0.6666666666666666,
             "#ed7953"
            ],
            [
             0.7777777777777778,
             "#fb9f3a"
            ],
            [
             0.8888888888888888,
             "#fdca26"
            ],
            [
             1,
             "#f0f921"
            ]
           ]
          },
          "colorway": [
           "#636efa",
           "#EF553B",
           "#00cc96",
           "#ab63fa",
           "#FFA15A",
           "#19d3f3",
           "#FF6692",
           "#B6E880",
           "#FF97FF",
           "#FECB52"
          ],
          "font": {
           "color": "#2a3f5f"
          },
          "geo": {
           "bgcolor": "white",
           "lakecolor": "white",
           "landcolor": "#E5ECF6",
           "showlakes": true,
           "showland": true,
           "subunitcolor": "white"
          },
          "hoverlabel": {
           "align": "left"
          },
          "hovermode": "closest",
          "mapbox": {
           "style": "light"
          },
          "paper_bgcolor": "white",
          "plot_bgcolor": "#E5ECF6",
          "polar": {
           "angularaxis": {
            "gridcolor": "white",
            "linecolor": "white",
            "ticks": ""
           },
           "bgcolor": "#E5ECF6",
           "radialaxis": {
            "gridcolor": "white",
            "linecolor": "white",
            "ticks": ""
           }
          },
          "scene": {
           "xaxis": {
            "backgroundcolor": "#E5ECF6",
            "gridcolor": "white",
            "gridwidth": 2,
            "linecolor": "white",
            "showbackground": true,
            "ticks": "",
            "zerolinecolor": "white"
           },
           "yaxis": {
            "backgroundcolor": "#E5ECF6",
            "gridcolor": "white",
            "gridwidth": 2,
            "linecolor": "white",
            "showbackground": true,
            "ticks": "",
            "zerolinecolor": "white"
           },
           "zaxis": {
            "backgroundcolor": "#E5ECF6",
            "gridcolor": "white",
            "gridwidth": 2,
            "linecolor": "white",
            "showbackground": true,
            "ticks": "",
            "zerolinecolor": "white"
           }
          },
          "shapedefaults": {
           "line": {
            "color": "#2a3f5f"
           }
          },
          "ternary": {
           "aaxis": {
            "gridcolor": "white",
            "linecolor": "white",
            "ticks": ""
           },
           "baxis": {
            "gridcolor": "white",
            "linecolor": "white",
            "ticks": ""
           },
           "bgcolor": "#E5ECF6",
           "caxis": {
            "gridcolor": "white",
            "linecolor": "white",
            "ticks": ""
           }
          },
          "title": {
           "x": 0.05
          },
          "xaxis": {
           "automargin": true,
           "gridcolor": "white",
           "linecolor": "white",
           "ticks": "",
           "title": {
            "standoff": 15
           },
           "zerolinecolor": "white",
           "zerolinewidth": 2
          },
          "yaxis": {
           "automargin": true,
           "gridcolor": "white",
           "linecolor": "white",
           "ticks": "",
           "title": {
            "standoff": 15
           },
           "zerolinecolor": "white",
           "zerolinewidth": 2
          }
         }
        },
        "width": 1200
       }
      }
     },
     "metadata": {},
     "output_type": "display_data"
    }
   ],
   "source": [
    "# df_emiss_sankey = df_emiss[['country', 'name', 'emission']].rename(columns={'country': 'source', 'name': 'target'}).groupby(['source','target']).agg({'emission':'sum'}).reset_index()\n",
    "# df_emiss_sankey = df_emiss_sankey.sort_values('emission', ascending=False)\n",
    "\n",
    "# get the label list (country name + landfill name) in order\n",
    "label_list = list(df_emiss[['country', 'name']].melt().drop('variable',axis=1)['value'].drop_duplicates().values)\n",
    "\n",
    "# get the country name list in the order of country emissions\n",
    "index_country = len(df_emiss['country'].drop_duplicates())\n",
    "country_list = label_list[:index_country]\n",
    "\n",
    "# create colors based on cmap and length in the order of emission values\n",
    "country_color = matplotlib.pyplot.get_cmap('viridis_r', lut=len(country_list))\n",
    "landfill_color = matplotlib.pyplot.get_cmap('Reds_r', lut=len(df_emiss))\n",
    "\n",
    "\n",
    "if isinstance(landfill_color, matplotlib.colors.LinearSegmentedColormap):\n",
    "    landfill_color = [mcolors.rgb2hex(landfill_color(i)) for i in range(landfill_color.N)]\n",
    "else:\n",
    "    # set color based on all landfill emissions\n",
    "    landfill_color = [to_hex(c) for c in landfill_color.colors]\n",
    "# sort color based on emission values (descending)\n",
    "sort_index = np.argsort(np.argsort(-df_emiss['emission'].values))\n",
    " #df_emiss['emission'].reset_index(drop=True).sort_values(ascending=False).index.tolist()\n",
    "landfill_color = [landfill_color[i] for i in sort_index]\n",
    "country_color = [to_hex(c) for c in country_color.colors]\n",
    "\n",
    "# # --- set color by landfill emission per country group ---\n",
    "\n",
    "source = df_emiss['country'].apply(lambda x: label_list.index(x))\n",
    "target = df_emiss['name'].apply(lambda x: label_list.index(x))\n",
    "emission = df_emiss['emission']\n",
    "\n",
    "# calculate the counts of each label\n",
    "df_country_emiss = df_emiss.groupby(['country'], sort=False).agg({'emission':'sum'}).reset_index()\n",
    "df_landfill_emiss = df_emiss.groupby(['name'], sort=False).agg({'emission':'sum'}).reset_index()\n",
    "# round data\n",
    "df_country_emiss['emission'] = df_country_emiss['emission'].round(2)\n",
    "df_landfill_emiss['emission'] = df_landfill_emiss['emission'].round(2)\n",
    "# calculate width by value proportion\n",
    "df_landfill_emiss['bar_width'] = df_landfill_emiss['emission']/df_landfill_emiss['emission'].sum()\n",
    "\n",
    "# add obs number to label list\n",
    "for index,label in enumerate(label_list):\n",
    "    if any(df_country_emiss['country'].str.contains(label)):\n",
    "        # get the row of country counts\n",
    "        df_subset = df_country_emiss[df_country_emiss['country']==label]\n",
    "        # create new label\n",
    "        new_label = (df_subset['country'] + ' (' + df_subset['emission'].astype('str')).values[0] + ')'\n",
    "    elif any(df_landfill_emiss['name'].str.contains(label)):\n",
    "        # get the row of landfill counts\n",
    "        df_subset = df_landfill_emiss[df_landfill_emiss['name']==label]\n",
    "        # create new label \n",
    "        new_label = (df_subset['name'] + ' (' + df_subset['emission'].astype('str')).values[0] + ')'\n",
    "    # update the label list\n",
    "    label_list[index] = new_label\n",
    "\n",
    "\n",
    "fig = go.Figure(data=[go.Sankey(\n",
    "    # orientation = \"v\",\n",
    "    node = {\"label\": label_list,\n",
    "            'color': country_color+landfill_color,\n",
    "            },\n",
    "    link = {\"source\": source, \"target\": target, \"value\": emission}\n",
    "    )])\n",
    "\n",
    "fig.add_annotation(x=0, y=1.08, text='<b>Countries</b>', showarrow=False,\n",
    "                   font=dict(size=28),align=\"center\"\n",
    "                   )\n",
    "\n",
    "fig.add_annotation(x=1, y=1.08, text='<b>Landfill Emissions (t/h)</b>', showarrow=False,\n",
    "                   font=dict(size=28),align=\"center\"\n",
    "                   )\n",
    "\n",
    "fig.update_layout(\n",
    "    font=dict(\n",
    "        family='sans-serif',\n",
    "        size=25,\n",
    "        # color=\"RebeccaPurple\"\n",
    "    ),\n",
    "    autosize=False,\n",
    "    width=1200,\n",
    "    height=1200,\n",
    ")\n",
    "\n",
    "fig.show()"
   ]
  },
  {
   "cell_type": "code",
   "execution_count": 11,
   "metadata": {},
   "outputs": [],
   "source": [
    "def adjust_width(array, min_width=0.022):\n",
    "    smallest_value = min(array)\n",
    "    if smallest_value < min_width:\n",
    "        array = [min_width + (value - smallest_value) for value in array]\n",
    "    array_sum = sum(array)\n",
    "    adjusted_array = [value / array_sum for value in array]\n",
    "    return adjusted_array\n",
    "\n",
    "row_height = adjust_width(df_landfill_emiss['bar_width'].to_numpy())\n",
    "# row_height[0] -= 0.008"
   ]
  },
  {
   "cell_type": "code",
   "execution_count": 12,
   "metadata": {},
   "outputs": [],
   "source": [
    "df_emiss_grp = df_summary.groupby(['name', 'platform']).agg(mean=('emission', 'mean'), std=('emission_uncertainty(%)', 'mean')).reset_index()\n",
    "df_emiss_grp['std'] = df_emiss_grp['mean'] * df_emiss_grp['std'] * 1e-2\n",
    "\n",
    "# read OBS data for checking landfills which have OBS but no plume\n",
    "df_obs = pd.read_excel('../data/landfills_hyper_obs.xlsx')\n",
    "# remove space at end\n",
    "df_obs['name'] = df_obs['name'].str.strip()"
   ]
  },
  {
   "cell_type": "code",
   "execution_count": 13,
   "metadata": {},
   "outputs": [
    {
     "data": {
      "application/vnd.plotly.v1+json": {
       "config": {
        "plotlyServerURL": "https://plot.ly"
       },
       "data": [
        {
         "domain": {
          "x": [
           0,
           0.54
          ]
         },
         "link": {
          "source": [
           0,
           0,
           0,
           0,
           0,
           0,
           0,
           0,
           0,
           0,
           1,
           1,
           1,
           2,
           2,
           2,
           2,
           2,
           3,
           3,
           4,
           4,
           5,
           5,
           6,
           7,
           7,
           8,
           9,
           9,
           10,
           11,
           11,
           12,
           13,
           14,
           15,
           16
          ],
          "target": [
           17,
           18,
           19,
           20,
           21,
           22,
           23,
           24,
           25,
           26,
           27,
           28,
           29,
           30,
           31,
           32,
           33,
           34,
           35,
           36,
           37,
           38,
           39,
           40,
           41,
           42,
           43,
           44,
           45,
           46,
           47,
           48,
           49,
           50,
           51,
           52,
           53,
           54
          ],
          "value": [
           9.866407331534823,
           4.89386412943909,
           4.448482765276958,
           2.8157715279405635,
           2.75628003009587,
           2.471987011042527,
           2.451613255853771,
           2.4269763201616312,
           2.296358294965282,
           2.0255689408464637,
           19.621073487180485,
           3.5571469509258096,
           2.373111278910124,
           11.152055796891757,
           5.522369517773203,
           2.1845062645163593,
           1.988539866529,
           1.9512680795685664,
           11.454447235884,
           9.146338897563892,
           6.156964541152049,
           5.813769420179708,
           5.65989161631606,
           4.75086020314528,
           10.003249466823615,
           6.534409323795351,
           2.9419526880490814,
           9.144790718311436,
           5.349430181614884,
           3.522198713203104,
           7.501679992891099,
           4.047599221018345,
           2.465027100019452,
           6.011729272890852,
           5.668063502165608,
           4.316861309084111,
           3.776973180409308,
           1.0696865305740466
          ]
         },
         "node": {
          "color": [
           "#fde725",
           "#d5e21a",
           "#aadc32",
           "#81d34d",
           "#5cc863",
           "#3dbc74",
           "#27ad81",
           "#1f9f88",
           "#21908d",
           "#26818e",
           "#2c718e",
           "#33628d",
           "#3b518b",
           "#423f85",
           "#472c7a",
           "#481769",
           "#440154",
           "#9d0d14",
           "#f5513a",
           "#fa6547",
           "#fca385",
           "#fcab8f",
           "#fcb499",
           "#fdc5ae",
           "#fdcdb9",
           "#feddce",
           "#fee7dd",
           "#67000d",
           "#fc8868",
           "#fdd5c3",
           "#820610",
           "#ef3c2d",
           "#fee3d6",
           "#ffece3",
           "#fff0ea",
           "#74030f",
           "#a81016",
           "#c9181d",
           "#d92523",
           "#e83429",
           "#f75b40",
           "#8f0a12",
           "#c1161b",
           "#fc9a7b",
           "#b01217",
           "#f24633",
           "#fc9171",
           "#b91419",
           "#fb7757",
           "#fcbda4",
           "#d11e1f",
           "#e02d26",
           "#fb6e4e",
           "#fc8060",
           "#fff5f0"
          ],
          "label": [
           "India (36.45)",
           "Argentina (25.55)",
           "Mexico (22.8)",
           "Brazil (20.6)",
           "Pakistan (11.97)",
           "Israel (10.41)",
           "Saudi Arabia (10.0)",
           "Jordan (9.48)",
           "China (9.14)",
           "Iran (8.87)",
           "Kuwait (7.5)",
           "United States (6.51)",
           "Tunisia (6.01)",
           "Spain (5.67)",
           "Uzbekistan (4.32)",
           "Bangladesh (3.78)",
           "Yemen (1.07)",
           "Kanjurmarg (9.87)",
           "Majura (4.89)",
           "Ghazipur (4.45)",
           "Pirana (2.82)",
           "Hind (2.76)",
           "Okhla (2.47)",
           "Bhalswa (2.45)",
           "Bandhwari (2.43)",
           "Manter Wadi (2.3)",
           "Deonar (2.03)",
           "Norte III (19.62)",
           "Piedra Blanca (3.56)",
           "González Catán (2.37)",
           "Tecnosilicatos (11.15)",
           "Simeprodeso (5.52)",
           "Chicoloapan de Juárez (2.18)",
           "Cuautitlán Izcalli (1.99)",
           "Zumpango (1.95)",
           "São Paulo (11.45)",
           "Pedreira (9.15)",
           "Lakhodair (6.16)",
           "Jam Chakro (5.81)",
           "Dudaim (5.66)",
           "Tamar (4.75)",
           "Riyadh (10.0)",
           "Ghabawi (6.53)",
           "Al Akaider (2.94)",
           "Ürümqi (9.14)",
           "Tehran (5.35)",
           "Mashhad (3.52)",
           "Seventh Ring Road (7.5)",
           "Charlotte Motor Speedway (4.05)",
           "Seminole Road (2.47)",
           "Djebel Chakir (6.01)",
           "Pinto (5.67)",
           "Tashkent (4.32)",
           "Aminbazar (3.78)",
           "Sanaa (1.07)"
          ]
         },
         "type": "sankey"
        },
        {
         "error_x": {
          "array": [
           2.515490060522511
          ],
          "type": "data",
          "visible": true
         },
         "marker": {
          "color": "darkorange"
         },
         "name": "EMIT",
         "orientation": "h",
         "type": "bar",
         "width": 0.8,
         "x": [
          6.289608970643561
         ],
         "xaxis": "x2",
         "y": [
          "EMIT"
         ],
         "yaxis": "y2"
        },
        {
         "error_x": {
          "array": [
           2.824459878096199
          ],
          "type": "data",
          "visible": true
         },
         "marker": {
          "color": "royalblue"
         },
         "name": "EnMAP",
         "orientation": "h",
         "type": "bar",
         "width": 0.8,
         "x": [
          7.327615018222307
         ],
         "xaxis": "x2",
         "y": [
          "EnMAP"
         ],
         "yaxis": "y2"
        },
        {
         "error_x": {
          "array": [
           6.3674576926728435
          ],
          "type": "data",
          "visible": true
         },
         "marker": {
          "color": "gray"
         },
         "name": "PRISMA",
         "orientation": "h",
         "type": "bar",
         "width": 0.8,
         "x": [
          15.981998005738603
         ],
         "xaxis": "x2",
         "y": [
          "PRISMA"
         ],
         "yaxis": "y2"
        },
        {
         "error_x": {
          "array": [
           1.8299141291413192
          ],
          "type": "data",
          "visible": true
         },
         "marker": {
          "color": "darkorange"
         },
         "name": "EMIT",
         "orientation": "h",
         "showlegend": false,
         "type": "bar",
         "width": 0.8,
         "x": [
          4.89386412943909
         ],
         "xaxis": "x4",
         "y": [
          "EMIT"
         ],
         "yaxis": "y4"
        },
        {
         "error_x": {
          "array": [
           2.1960091708818736
          ],
          "type": "data",
          "visible": true
         },
         "marker": {
          "color": "darkorange"
         },
         "name": "EMIT",
         "orientation": "h",
         "showlegend": false,
         "type": "bar",
         "width": 0.8,
         "x": [
          5.170922908400081
         ],
         "xaxis": "x6",
         "y": [
          "EMIT"
         ],
         "yaxis": "y6"
        },
        {
         "error_x": {
          "array": [
           1.4370491882348981
          ],
          "type": "data",
          "visible": true
         },
         "marker": {
          "color": "royalblue"
         },
         "name": "EnMAP",
         "orientation": "h",
         "showlegend": false,
         "type": "bar",
         "width": 0.8,
         "x": [
          3.7260426221538343
         ],
         "xaxis": "x6",
         "y": [
          "EnMAP"
         ],
         "yaxis": "y6"
        },
        {
         "error_x": {
          "array": [
           1.8402928063900024
          ],
          "type": "data",
          "visible": true
         },
         "marker": {
          "color": "darkorange"
         },
         "name": "EMIT",
         "orientation": "h",
         "showlegend": false,
         "type": "bar",
         "width": 0.8,
         "x": [
          4.661239002606425
         ],
         "xaxis": "x8",
         "y": [
          "EMIT"
         ],
         "yaxis": "y8"
        },
        {
         "error_x": {
          "array": [
           0.4103470554703438
          ],
          "type": "data",
          "visible": true
         },
         "marker": {
          "color": "gray"
         },
         "name": "PRISMA",
         "orientation": "h",
         "showlegend": false,
         "type": "bar",
         "width": 0.8,
         "x": [
          0.9703040532747016
         ],
         "xaxis": "x8",
         "y": [
          "PRISMA"
         ],
         "yaxis": "y8"
        },
        {
         "error_x": {
          "array": [
           1.4390347573659177
          ],
          "type": "data",
          "visible": true
         },
         "marker": {
          "color": "darkorange"
         },
         "name": "EMIT",
         "orientation": "h",
         "showlegend": false,
         "type": "bar",
         "width": 0.8,
         "x": [
          2.75628003009587
         ],
         "xaxis": "x10",
         "y": [
          "EMIT"
         ],
         "yaxis": "y10"
        },
        {
         "error_x": {
          "array": [
           0.9086335241618406
          ],
          "type": "data",
          "visible": true
         },
         "marker": {
          "color": "darkorange"
         },
         "name": "EMIT",
         "orientation": "h",
         "showlegend": false,
         "type": "bar",
         "width": 0.8,
         "x": [
          2.035641527278119
         ],
         "xaxis": "x12",
         "y": [
          "EMIT"
         ],
         "yaxis": "y12"
        },
        {
         "error_x": {
          "array": [
           1.1244303892128804
          ],
          "type": "data",
          "visible": true
         },
         "marker": {
          "color": "royalblue"
         },
         "name": "EnMAP",
         "orientation": "h",
         "showlegend": false,
         "type": "bar",
         "width": 0.8,
         "x": [
          2.9083324948069347
         ],
         "xaxis": "x12",
         "y": [
          "EnMAP"
         ],
         "yaxis": "y12"
        },
        {
         "error_x": {
          "array": [
           1.0385542192483497
          ],
          "type": "data",
          "visible": true
         },
         "marker": {
          "color": "darkorange"
         },
         "name": "EMIT",
         "orientation": "h",
         "showlegend": false,
         "type": "bar",
         "width": 0.8,
         "x": [
          2.4613372332778205
         ],
         "xaxis": "x14",
         "y": [
          "EMIT"
         ],
         "yaxis": "y14"
        },
        {
         "error_x": {
          "array": [
           1.0950553319893643
          ],
          "type": "data",
          "visible": true
         },
         "marker": {
          "color": "royalblue"
         },
         "name": "EnMAP",
         "orientation": "h",
         "showlegend": false,
         "type": "bar",
         "width": 0.8,
         "x": [
          2.4418892784297213
         ],
         "xaxis": "x14",
         "y": [
          "EnMAP"
         ],
         "yaxis": "y14"
        },
        {
         "error_x": {
          "array": [
           1.0802765533364407
          ],
          "type": "data",
          "visible": true
         },
         "marker": {
          "color": "darkorange"
         },
         "name": "EMIT",
         "orientation": "h",
         "showlegend": false,
         "type": "bar",
         "width": 0.8,
         "x": [
          2.31901148175769
         ],
         "xaxis": "x16",
         "y": [
          "EMIT"
         ],
         "yaxis": "y16"
        },
        {
         "error_x": {
          "array": [
           0.9876619206249178
          ],
          "type": "data",
          "visible": true
         },
         "marker": {
          "color": "royalblue"
         },
         "name": "EnMAP",
         "orientation": "h",
         "showlegend": false,
         "type": "bar",
         "width": 0.8,
         "x": [
          2.534941158565573
         ],
         "xaxis": "x16",
         "y": [
          "EnMAP"
         ],
         "yaxis": "y16"
        },
        {
         "error_x": {
          "array": [
           1.220403513057991
          ],
          "type": "data",
          "visible": true
         },
         "marker": {
          "color": "darkorange"
         },
         "name": "EMIT",
         "orientation": "h",
         "showlegend": false,
         "type": "bar",
         "width": 0.8,
         "x": [
          2.296358294965282
         ],
         "xaxis": "x18",
         "y": [
          "EMIT"
         ],
         "yaxis": "y18"
        },
        {
         "error_x": {
          "array": [
           1.4245036731587528
          ],
          "type": "data",
          "visible": true
         },
         "marker": {
          "color": "darkorange"
         },
         "name": "EMIT",
         "orientation": "h",
         "showlegend": false,
         "type": "bar",
         "width": 0.8,
         "x": [
          3.2912329173796553
         ],
         "xaxis": "x20",
         "y": [
          "EMIT"
         ],
         "yaxis": "y20"
        },
        {
         "error_x": {
          "array": [
           0.35533226039121424
          ],
          "type": "data",
          "visible": true
         },
         "marker": {
          "color": "royalblue"
         },
         "name": "EnMAP",
         "orientation": "h",
         "showlegend": false,
         "type": "bar",
         "width": 0.8,
         "x": [
          0.7599049643132725
         ],
         "xaxis": "x20",
         "y": [
          "EnMAP"
         ],
         "yaxis": "y20"
        },
        {
         "error_x": {
          "array": [
           7.703324381850922
          ],
          "type": "data",
          "visible": true
         },
         "marker": {
          "color": "darkorange"
         },
         "name": "EMIT",
         "orientation": "h",
         "showlegend": false,
         "type": "bar",
         "width": 0.8,
         "x": [
          20.26729046158103
         ],
         "xaxis": "x22",
         "y": [
          "EMIT"
         ],
         "yaxis": "y22"
        },
        {
         "error_x": {
          "array": [
           4.7440372736319265
          ],
          "type": "data",
          "visible": true
         },
         "marker": {
          "color": "royalblue"
         },
         "name": "EnMAP",
         "orientation": "h",
         "showlegend": false,
         "type": "bar",
         "width": 0.8,
         "x": [
          15.021480750093984
         ],
         "xaxis": "x22",
         "y": [
          "EnMAP"
         ],
         "yaxis": "y22"
        },
        {
         "error_x": {
          "array": [
           8.53700225701331
          ],
          "type": "data",
          "visible": true
         },
         "marker": {
          "color": "gray"
         },
         "name": "PRISMA",
         "orientation": "h",
         "showlegend": false,
         "type": "bar",
         "width": 0.8,
         "x": [
          23.574449249866447
         ],
         "xaxis": "x22",
         "y": [
          "PRISMA"
         ],
         "yaxis": "y22"
        },
        {
         "error_x": {
          "array": [
           1.3304768477876008
          ],
          "type": "data",
          "visible": true
         },
         "marker": {
          "color": "darkorange"
         },
         "name": "EMIT",
         "orientation": "h",
         "showlegend": false,
         "type": "bar",
         "width": 0.8,
         "x": [
          3.5571469509258096
         ],
         "xaxis": "x24",
         "y": [
          "EMIT"
         ],
         "yaxis": "y24"
        },
        {
         "error_x": {
          "array": [
           1.273569553348944
          ],
          "type": "data",
          "visible": true
         },
         "marker": {
          "color": "darkorange"
         },
         "name": "EMIT",
         "orientation": "h",
         "showlegend": false,
         "type": "bar",
         "width": 0.8,
         "x": [
          2.667421803242042
         ],
         "xaxis": "x26",
         "y": [
          "EMIT"
         ],
         "yaxis": "y26"
        },
        {
         "error_x": {
          "array": [
           0.7504066415852881
          ],
          "type": "data",
          "visible": true
         },
         "marker": {
          "color": "royalblue"
         },
         "name": "EnMAP",
         "orientation": "h",
         "showlegend": false,
         "type": "bar",
         "width": 0.8,
         "x": [
          2.0788007545782063
         ],
         "xaxis": "x26",
         "y": [
          "EnMAP"
         ],
         "yaxis": "y26"
        },
        {
         "error_x": {
          "array": [
           4.513210226583394
          ],
          "type": "data",
          "visible": true
         },
         "marker": {
          "color": "darkorange"
         },
         "name": "EMIT",
         "orientation": "h",
         "showlegend": false,
         "type": "bar",
         "width": 0.8,
         "x": [
          11.152055796891757
         ],
         "xaxis": "x28",
         "y": [
          "EMIT"
         ],
         "yaxis": "y28"
        },
        {
         "error_x": {
          "array": [
           2.568539460714081
          ],
          "type": "data",
          "visible": true
         },
         "marker": {
          "color": "darkorange"
         },
         "name": "EMIT",
         "orientation": "h",
         "showlegend": false,
         "type": "bar",
         "width": 0.8,
         "x": [
          5.522369517773203
         ],
         "xaxis": "x30",
         "y": [
          "EMIT"
         ],
         "yaxis": "y30"
        },
        {
         "error_x": {
          "array": [
           1.008001384638112
          ],
          "type": "data",
          "visible": true
         },
         "marker": {
          "color": "darkorange"
         },
         "name": "EMIT",
         "orientation": "h",
         "showlegend": false,
         "type": "bar",
         "width": 0.8,
         "x": [
          2.1845062645163593
         ],
         "xaxis": "x32",
         "y": [
          "EMIT"
         ],
         "yaxis": "y32"
        },
        {
         "error_x": {
          "array": [
           1.1140069533400832
          ],
          "type": "data",
          "visible": true
         },
         "marker": {
          "color": "darkorange"
         },
         "name": "EMIT",
         "orientation": "h",
         "showlegend": false,
         "type": "bar",
         "width": 0.8,
         "x": [
          1.988539866529
         ],
         "xaxis": "x34",
         "y": [
          "EMIT"
         ],
         "yaxis": "y34"
        },
        {
         "error_x": {
          "array": [
           0.9356167554854855
          ],
          "type": "data",
          "visible": true
         },
         "marker": {
          "color": "darkorange"
         },
         "name": "EMIT",
         "orientation": "h",
         "showlegend": false,
         "type": "bar",
         "width": 0.8,
         "x": [
          1.9512680795685664
         ],
         "xaxis": "x36",
         "y": [
          "EMIT"
         ],
         "yaxis": "y36"
        },
        {
         "error_x": {
          "array": [
           4.304140922184931
          ],
          "type": "data",
          "visible": true
         },
         "marker": {
          "color": "darkorange"
         },
         "name": "EMIT",
         "orientation": "h",
         "showlegend": false,
         "type": "bar",
         "width": 0.8,
         "x": [
          11.454447235884
         ],
         "xaxis": "x38",
         "y": [
          "EMIT"
         ],
         "yaxis": "y38"
        },
        {
         "error_x": {
          "array": [
           3.4405068518370405
          ],
          "type": "data",
          "visible": true
         },
         "marker": {
          "color": "darkorange"
         },
         "name": "EMIT",
         "orientation": "h",
         "showlegend": false,
         "type": "bar",
         "width": 0.8,
         "x": [
          9.146338897563892
         ],
         "xaxis": "x40",
         "y": [
          "EMIT"
         ],
         "yaxis": "y40"
        },
        {
         "error_x": {
          "array": [
           2.1471350806740386
          ],
          "type": "data",
          "visible": true
         },
         "marker": {
          "color": "darkorange"
         },
         "name": "EMIT",
         "orientation": "h",
         "showlegend": false,
         "type": "bar",
         "width": 0.8,
         "x": [
          4.453171933393985
         ],
         "xaxis": "x42",
         "y": [
          "EMIT"
         ],
         "yaxis": "y42"
        },
        {
         "error_x": {
          "array": [
           3.092792542058455
          ],
          "type": "data",
          "visible": true
         },
         "marker": {
          "color": "gray"
         },
         "name": "PRISMA",
         "orientation": "h",
         "showlegend": false,
         "type": "bar",
         "width": 0.8,
         "x": [
          7.860757148910112
         ],
         "xaxis": "x42",
         "y": [
          "PRISMA"
         ],
         "yaxis": "y42"
        },
        {
         "error_x": {
          "array": [
           2.04334562977988
          ],
          "type": "data",
          "visible": true
         },
         "marker": {
          "color": "darkorange"
         },
         "name": "EMIT",
         "orientation": "h",
         "showlegend": false,
         "type": "bar",
         "width": 0.8,
         "x": [
          5.813769420179708
         ],
         "xaxis": "x44",
         "y": [
          "EMIT"
         ],
         "yaxis": "y44"
        },
        {
         "error_x": {
          "array": [
           2.1285946991567526
          ],
          "type": "data",
          "visible": true
         },
         "marker": {
          "color": "darkorange"
         },
         "name": "EMIT",
         "orientation": "h",
         "showlegend": false,
         "type": "bar",
         "width": 0.8,
         "x": [
          5.264545286422399
         ],
         "xaxis": "x46",
         "y": [
          "EMIT"
         ],
         "yaxis": "y46"
        },
        {
         "error_x": {
          "array": [
           2.3718215563000875
          ],
          "type": "data",
          "visible": true
         },
         "marker": {
          "color": "royalblue"
         },
         "name": "EnMAP",
         "orientation": "h",
         "showlegend": false,
         "type": "bar",
         "width": 0.8,
         "x": [
          6.055237946209722
         ],
         "xaxis": "x46",
         "y": [
          "EnMAP"
         ],
         "yaxis": "y46"
        },
        {
         "error_x": {
          "array": [
           2.428515267900599
          ],
          "type": "data",
          "visible": true
         },
         "marker": {
          "color": "darkorange"
         },
         "name": "EMIT",
         "orientation": "h",
         "showlegend": false,
         "type": "bar",
         "width": 0.8,
         "x": [
          5.590655966364224
         ],
         "xaxis": "x48",
         "y": [
          "EMIT"
         ],
         "yaxis": "y48"
        },
        {
         "error_x": {
          "array": [
           1.5513045717241165
          ],
          "type": "data",
          "visible": true
         },
         "marker": {
          "color": "royalblue"
         },
         "name": "EnMAP",
         "orientation": "h",
         "showlegend": false,
         "type": "bar",
         "width": 0.8,
         "x": [
          3.911064439926336
         ],
         "xaxis": "x48",
         "y": [
          "EnMAP"
         ],
         "yaxis": "y48"
        },
        {
         "error_x": {
          "array": [
           3.998302224350075
          ],
          "type": "data",
          "visible": true
         },
         "marker": {
          "color": "darkorange"
         },
         "name": "EMIT",
         "orientation": "h",
         "showlegend": false,
         "type": "bar",
         "width": 0.8,
         "x": [
          11.186310317194817
         ],
         "xaxis": "x50",
         "y": [
          "EMIT"
         ],
         "yaxis": "y50"
        },
        {
         "error_x": {
          "array": [
           2.85427918640604
          ],
          "type": "data",
          "visible": true
         },
         "marker": {
          "color": "royalblue"
         },
         "name": "EnMAP",
         "orientation": "h",
         "showlegend": false,
         "type": "bar",
         "width": 0.8,
         "x": [
          8.820188616452414
         ],
         "xaxis": "x50",
         "y": [
          "EnMAP"
         ],
         "yaxis": "y50"
        },
        {
         "error_x": {
          "array": [
           2.203052874650881
          ],
          "type": "data",
          "visible": true
         },
         "marker": {
          "color": "darkorange"
         },
         "name": "EMIT",
         "orientation": "h",
         "showlegend": false,
         "type": "bar",
         "width": 0.8,
         "x": [
          6.534409323795351
         ],
         "xaxis": "x52",
         "y": [
          "EMIT"
         ],
         "yaxis": "y52"
        },
        {
         "error_x": {
          "array": [
           1.6673352866757125
          ],
          "type": "data",
          "visible": true
         },
         "marker": {
          "color": "darkorange"
         },
         "name": "EMIT",
         "orientation": "h",
         "showlegend": false,
         "type": "bar",
         "width": 0.8,
         "x": [
          3.566632732693754
         ],
         "xaxis": "x54",
         "y": [
          "EMIT"
         ],
         "yaxis": "y54"
        },
        {
         "error_x": {
          "array": [
           0.9818317484638297
          ],
          "type": "data",
          "visible": true
         },
         "marker": {
          "color": "royalblue"
         },
         "name": "EnMAP",
         "orientation": "h",
         "showlegend": false,
         "type": "bar",
         "width": 0.8,
         "x": [
          2.317272643404409
         ],
         "xaxis": "x54",
         "y": [
          "EnMAP"
         ],
         "yaxis": "y54"
        },
        {
         "error_x": {
          "array": [
           4.229084547694048
          ],
          "type": "data",
          "visible": true
         },
         "marker": {
          "color": "darkorange"
         },
         "name": "EMIT",
         "orientation": "h",
         "showlegend": false,
         "type": "bar",
         "width": 0.8,
         "x": [
          9.144790718311436
         ],
         "xaxis": "x56",
         "y": [
          "EMIT"
         ],
         "yaxis": "y56"
        },
        {
         "error_x": {
          "array": [
           2.136712027596031
          ],
          "type": "data",
          "visible": true
         },
         "marker": {
          "color": "darkorange"
         },
         "name": "EMIT",
         "orientation": "h",
         "showlegend": false,
         "type": "bar",
         "width": 0.8,
         "x": [
          5.349430181614884
         ],
         "xaxis": "x58",
         "y": [
          "EMIT"
         ],
         "yaxis": "y58"
        },
        {
         "error_x": {
          "array": [
           1.6742274244899664
          ],
          "type": "data",
          "visible": true
         },
         "marker": {
          "color": "darkorange"
         },
         "name": "EMIT",
         "orientation": "h",
         "showlegend": false,
         "type": "bar",
         "width": 0.8,
         "x": [
          3.522198713203104
         ],
         "xaxis": "x60",
         "y": [
          "EMIT"
         ],
         "yaxis": "y60"
        },
        {
         "error_x": {
          "array": [
           2.81814376173624
          ],
          "type": "data",
          "visible": true
         },
         "marker": {
          "color": "darkorange"
         },
         "name": "EMIT",
         "orientation": "h",
         "showlegend": false,
         "type": "bar",
         "width": 0.8,
         "x": [
          7.953513114814181
         ],
         "xaxis": "x62",
         "y": [
          "EMIT"
         ],
         "yaxis": "y62"
        },
        {
         "error_x": {
          "array": [
           2.575046944195941
          ],
          "type": "data",
          "visible": true
         },
         "marker": {
          "color": "royalblue"
         },
         "name": "EnMAP",
         "orientation": "h",
         "showlegend": false,
         "type": "bar",
         "width": 0.8,
         "x": [
          7.049846870968017
         ],
         "xaxis": "x62",
         "y": [
          "EnMAP"
         ],
         "yaxis": "y62"
        },
        {
         "error_x": {
          "array": [
           1.9731709156390345
          ],
          "type": "data",
          "visible": true
         },
         "marker": {
          "color": "darkorange"
         },
         "name": "EMIT",
         "orientation": "h",
         "showlegend": false,
         "type": "bar",
         "width": 0.8,
         "x": [
          4.047599221018345
         ],
         "xaxis": "x64",
         "y": [
          "EMIT"
         ],
         "yaxis": "y64"
        },
        {
         "error_x": {
          "array": [
           0.7800508540547193
          ],
          "type": "data",
          "visible": true
         },
         "marker": {
          "color": "royalblue"
         },
         "name": "EnMAP",
         "orientation": "h",
         "showlegend": false,
         "type": "bar",
         "width": 0.8,
         "x": [
          2.465027100019452
         ],
         "xaxis": "x66",
         "y": [
          "EnMAP"
         ],
         "yaxis": "y66"
        },
        {
         "error_x": {
          "array": [
           2.486683222318734
          ],
          "type": "data",
          "visible": true
         },
         "marker": {
          "color": "darkorange"
         },
         "name": "EMIT",
         "orientation": "h",
         "showlegend": false,
         "type": "bar",
         "width": 0.8,
         "x": [
          6.011729272890852
         ],
         "xaxis": "x68",
         "y": [
          "EMIT"
         ],
         "yaxis": "y68"
        },
        {
         "error_x": {
          "array": [
           2.2757486616477265
          ],
          "type": "data",
          "visible": true
         },
         "marker": {
          "color": "darkorange"
         },
         "name": "EMIT",
         "orientation": "h",
         "showlegend": false,
         "type": "bar",
         "width": 0.8,
         "x": [
          5.668063502165608
         ],
         "xaxis": "x70",
         "y": [
          "EMIT"
         ],
         "yaxis": "y70"
        },
        {
         "error_x": {
          "array": [
           2.5542450602186664
          ],
          "type": "data",
          "visible": true
         },
         "marker": {
          "color": "darkorange"
         },
         "name": "EMIT",
         "orientation": "h",
         "showlegend": false,
         "type": "bar",
         "width": 0.8,
         "x": [
          4.6941897016381295
         ],
         "xaxis": "x72",
         "y": [
          "EMIT"
         ],
         "yaxis": "y72"
        },
        {
         "error_x": {
          "array": [
           1.5961396905612286
          ],
          "type": "data",
          "visible": true
         },
         "marker": {
          "color": "royalblue"
         },
         "name": "EnMAP",
         "orientation": "h",
         "showlegend": false,
         "type": "bar",
         "width": 0.8,
         "x": [
          3.939532916530091
         ],
         "xaxis": "x72",
         "y": [
          "EnMAP"
         ],
         "yaxis": "y72"
        },
        {
         "error_x": {
          "array": [
           2.097756259727661
          ],
          "type": "data",
          "visible": true
         },
         "marker": {
          "color": "darkorange"
         },
         "name": "EMIT",
         "orientation": "h",
         "showlegend": false,
         "type": "bar",
         "width": 0.8,
         "x": [
          3.776973180409308
         ],
         "xaxis": "x74",
         "y": [
          "EMIT"
         ],
         "yaxis": "y74"
        },
        {
         "error_x": {
          "array": [
           0.5103867024412545
          ],
          "type": "data",
          "visible": true
         },
         "marker": {
          "color": "royalblue"
         },
         "name": "EnMAP",
         "orientation": "h",
         "showlegend": false,
         "type": "bar",
         "width": 0.8,
         "x": [
          1.0696865305740466
         ],
         "xaxis": "x76",
         "y": [
          "EnMAP"
         ],
         "yaxis": "y76"
        }
       ],
       "layout": {
        "annotations": [
         {
          "font": {
           "color": "royalblue",
           "size": 17
          },
          "showarrow": false,
          "text": "<b>x</b>",
          "textangle": 0,
          "x": 1.03,
          "xref": "x64 domain",
          "y": "EMIT",
          "yref": "y64"
         },
         {
          "font": {
           "color": "darkorange",
           "size": 17
          },
          "showarrow": false,
          "text": "<b>x</b>",
          "textangle": 0,
          "x": 1.03,
          "xref": "x66 domain",
          "y": "EnMAP",
          "yref": "y66"
         },
         {
          "font": {
           "color": "royalblue",
           "size": 17
          },
          "showarrow": false,
          "text": "<b>x</b>",
          "textangle": 0,
          "x": 1.03,
          "xref": "x74 domain",
          "y": "EMIT",
          "yref": "y74"
         },
         {
          "font": {
           "color": "darkorange",
           "size": 17
          },
          "showarrow": false,
          "text": "<b>x</b>",
          "textangle": 0,
          "x": 1.03,
          "xref": "x76 domain",
          "y": "EnMAP",
          "yref": "y76"
         },
         {
          "ax": 0,
          "ay": 0,
          "font": {
           "size": 30
          },
          "text": "<b>Countries</b>",
          "x": 0.05,
          "xref": "paper",
          "y": 1.05,
          "yref": "paper"
         },
         {
          "ax": 0,
          "ay": 0,
          "font": {
           "size": 30
          },
          "text": "<b>Landfill Emission Rates (t/h)</b>",
          "x": 0.55,
          "xref": "paper",
          "y": 1.05,
          "yref": "paper"
         }
        ],
        "autosize": false,
        "font": {
         "family": "sans-serif",
         "size": 25
        },
        "height": 1500,
        "legend": {
         "font": {
          "size": 28
         },
         "itemwidth": 30
        },
        "template": {
         "data": {
          "bar": [
           {
            "error_x": {
             "color": "#2a3f5f"
            },
            "error_y": {
             "color": "#2a3f5f"
            },
            "marker": {
             "line": {
              "color": "#E5ECF6",
              "width": 0.5
             },
             "pattern": {
              "fillmode": "overlay",
              "size": 10,
              "solidity": 0.2
             }
            },
            "type": "bar"
           }
          ],
          "barpolar": [
           {
            "marker": {
             "line": {
              "color": "#E5ECF6",
              "width": 0.5
             },
             "pattern": {
              "fillmode": "overlay",
              "size": 10,
              "solidity": 0.2
             }
            },
            "type": "barpolar"
           }
          ],
          "carpet": [
           {
            "aaxis": {
             "endlinecolor": "#2a3f5f",
             "gridcolor": "white",
             "linecolor": "white",
             "minorgridcolor": "white",
             "startlinecolor": "#2a3f5f"
            },
            "baxis": {
             "endlinecolor": "#2a3f5f",
             "gridcolor": "white",
             "linecolor": "white",
             "minorgridcolor": "white",
             "startlinecolor": "#2a3f5f"
            },
            "type": "carpet"
           }
          ],
          "choropleth": [
           {
            "colorbar": {
             "outlinewidth": 0,
             "ticks": ""
            },
            "type": "choropleth"
           }
          ],
          "contour": [
           {
            "colorbar": {
             "outlinewidth": 0,
             "ticks": ""
            },
            "colorscale": [
             [
              0,
              "#0d0887"
             ],
             [
              0.1111111111111111,
              "#46039f"
             ],
             [
              0.2222222222222222,
              "#7201a8"
             ],
             [
              0.3333333333333333,
              "#9c179e"
             ],
             [
              0.4444444444444444,
              "#bd3786"
             ],
             [
              0.5555555555555556,
              "#d8576b"
             ],
             [
              0.6666666666666666,
              "#ed7953"
             ],
             [
              0.7777777777777778,
              "#fb9f3a"
             ],
             [
              0.8888888888888888,
              "#fdca26"
             ],
             [
              1,
              "#f0f921"
             ]
            ],
            "type": "contour"
           }
          ],
          "contourcarpet": [
           {
            "colorbar": {
             "outlinewidth": 0,
             "ticks": ""
            },
            "type": "contourcarpet"
           }
          ],
          "heatmap": [
           {
            "colorbar": {
             "outlinewidth": 0,
             "ticks": ""
            },
            "colorscale": [
             [
              0,
              "#0d0887"
             ],
             [
              0.1111111111111111,
              "#46039f"
             ],
             [
              0.2222222222222222,
              "#7201a8"
             ],
             [
              0.3333333333333333,
              "#9c179e"
             ],
             [
              0.4444444444444444,
              "#bd3786"
             ],
             [
              0.5555555555555556,
              "#d8576b"
             ],
             [
              0.6666666666666666,
              "#ed7953"
             ],
             [
              0.7777777777777778,
              "#fb9f3a"
             ],
             [
              0.8888888888888888,
              "#fdca26"
             ],
             [
              1,
              "#f0f921"
             ]
            ],
            "type": "heatmap"
           }
          ],
          "heatmapgl": [
           {
            "colorbar": {
             "outlinewidth": 0,
             "ticks": ""
            },
            "colorscale": [
             [
              0,
              "#0d0887"
             ],
             [
              0.1111111111111111,
              "#46039f"
             ],
             [
              0.2222222222222222,
              "#7201a8"
             ],
             [
              0.3333333333333333,
              "#9c179e"
             ],
             [
              0.4444444444444444,
              "#bd3786"
             ],
             [
              0.5555555555555556,
              "#d8576b"
             ],
             [
              0.6666666666666666,
              "#ed7953"
             ],
             [
              0.7777777777777778,
              "#fb9f3a"
             ],
             [
              0.8888888888888888,
              "#fdca26"
             ],
             [
              1,
              "#f0f921"
             ]
            ],
            "type": "heatmapgl"
           }
          ],
          "histogram": [
           {
            "marker": {
             "pattern": {
              "fillmode": "overlay",
              "size": 10,
              "solidity": 0.2
             }
            },
            "type": "histogram"
           }
          ],
          "histogram2d": [
           {
            "colorbar": {
             "outlinewidth": 0,
             "ticks": ""
            },
            "colorscale": [
             [
              0,
              "#0d0887"
             ],
             [
              0.1111111111111111,
              "#46039f"
             ],
             [
              0.2222222222222222,
              "#7201a8"
             ],
             [
              0.3333333333333333,
              "#9c179e"
             ],
             [
              0.4444444444444444,
              "#bd3786"
             ],
             [
              0.5555555555555556,
              "#d8576b"
             ],
             [
              0.6666666666666666,
              "#ed7953"
             ],
             [
              0.7777777777777778,
              "#fb9f3a"
             ],
             [
              0.8888888888888888,
              "#fdca26"
             ],
             [
              1,
              "#f0f921"
             ]
            ],
            "type": "histogram2d"
           }
          ],
          "histogram2dcontour": [
           {
            "colorbar": {
             "outlinewidth": 0,
             "ticks": ""
            },
            "colorscale": [
             [
              0,
              "#0d0887"
             ],
             [
              0.1111111111111111,
              "#46039f"
             ],
             [
              0.2222222222222222,
              "#7201a8"
             ],
             [
              0.3333333333333333,
              "#9c179e"
             ],
             [
              0.4444444444444444,
              "#bd3786"
             ],
             [
              0.5555555555555556,
              "#d8576b"
             ],
             [
              0.6666666666666666,
              "#ed7953"
             ],
             [
              0.7777777777777778,
              "#fb9f3a"
             ],
             [
              0.8888888888888888,
              "#fdca26"
             ],
             [
              1,
              "#f0f921"
             ]
            ],
            "type": "histogram2dcontour"
           }
          ],
          "mesh3d": [
           {
            "colorbar": {
             "outlinewidth": 0,
             "ticks": ""
            },
            "type": "mesh3d"
           }
          ],
          "parcoords": [
           {
            "line": {
             "colorbar": {
              "outlinewidth": 0,
              "ticks": ""
             }
            },
            "type": "parcoords"
           }
          ],
          "pie": [
           {
            "automargin": true,
            "type": "pie"
           }
          ],
          "scatter": [
           {
            "fillpattern": {
             "fillmode": "overlay",
             "size": 10,
             "solidity": 0.2
            },
            "type": "scatter"
           }
          ],
          "scatter3d": [
           {
            "line": {
             "colorbar": {
              "outlinewidth": 0,
              "ticks": ""
             }
            },
            "marker": {
             "colorbar": {
              "outlinewidth": 0,
              "ticks": ""
             }
            },
            "type": "scatter3d"
           }
          ],
          "scattercarpet": [
           {
            "marker": {
             "colorbar": {
              "outlinewidth": 0,
              "ticks": ""
             }
            },
            "type": "scattercarpet"
           }
          ],
          "scattergeo": [
           {
            "marker": {
             "colorbar": {
              "outlinewidth": 0,
              "ticks": ""
             }
            },
            "type": "scattergeo"
           }
          ],
          "scattergl": [
           {
            "marker": {
             "colorbar": {
              "outlinewidth": 0,
              "ticks": ""
             }
            },
            "type": "scattergl"
           }
          ],
          "scattermapbox": [
           {
            "marker": {
             "colorbar": {
              "outlinewidth": 0,
              "ticks": ""
             }
            },
            "type": "scattermapbox"
           }
          ],
          "scatterpolar": [
           {
            "marker": {
             "colorbar": {
              "outlinewidth": 0,
              "ticks": ""
             }
            },
            "type": "scatterpolar"
           }
          ],
          "scatterpolargl": [
           {
            "marker": {
             "colorbar": {
              "outlinewidth": 0,
              "ticks": ""
             }
            },
            "type": "scatterpolargl"
           }
          ],
          "scatterternary": [
           {
            "marker": {
             "colorbar": {
              "outlinewidth": 0,
              "ticks": ""
             }
            },
            "type": "scatterternary"
           }
          ],
          "surface": [
           {
            "colorbar": {
             "outlinewidth": 0,
             "ticks": ""
            },
            "colorscale": [
             [
              0,
              "#0d0887"
             ],
             [
              0.1111111111111111,
              "#46039f"
             ],
             [
              0.2222222222222222,
              "#7201a8"
             ],
             [
              0.3333333333333333,
              "#9c179e"
             ],
             [
              0.4444444444444444,
              "#bd3786"
             ],
             [
              0.5555555555555556,
              "#d8576b"
             ],
             [
              0.6666666666666666,
              "#ed7953"
             ],
             [
              0.7777777777777778,
              "#fb9f3a"
             ],
             [
              0.8888888888888888,
              "#fdca26"
             ],
             [
              1,
              "#f0f921"
             ]
            ],
            "type": "surface"
           }
          ],
          "table": [
           {
            "cells": {
             "fill": {
              "color": "#EBF0F8"
             },
             "line": {
              "color": "white"
             }
            },
            "header": {
             "fill": {
              "color": "#C8D4E3"
             },
             "line": {
              "color": "white"
             }
            },
            "type": "table"
           }
          ]
         },
         "layout": {
          "annotationdefaults": {
           "arrowcolor": "#2a3f5f",
           "arrowhead": 0,
           "arrowwidth": 1
          },
          "autotypenumbers": "strict",
          "coloraxis": {
           "colorbar": {
            "outlinewidth": 0,
            "ticks": ""
           }
          },
          "colorscale": {
           "diverging": [
            [
             0,
             "#8e0152"
            ],
            [
             0.1,
             "#c51b7d"
            ],
            [
             0.2,
             "#de77ae"
            ],
            [
             0.3,
             "#f1b6da"
            ],
            [
             0.4,
             "#fde0ef"
            ],
            [
             0.5,
             "#f7f7f7"
            ],
            [
             0.6,
             "#e6f5d0"
            ],
            [
             0.7,
             "#b8e186"
            ],
            [
             0.8,
             "#7fbc41"
            ],
            [
             0.9,
             "#4d9221"
            ],
            [
             1,
             "#276419"
            ]
           ],
           "sequential": [
            [
             0,
             "#0d0887"
            ],
            [
             0.1111111111111111,
             "#46039f"
            ],
            [
             0.2222222222222222,
             "#7201a8"
            ],
            [
             0.3333333333333333,
             "#9c179e"
            ],
            [
             0.4444444444444444,
             "#bd3786"
            ],
            [
             0.5555555555555556,
             "#d8576b"
            ],
            [
             0.6666666666666666,
             "#ed7953"
            ],
            [
             0.7777777777777778,
             "#fb9f3a"
            ],
            [
             0.8888888888888888,
             "#fdca26"
            ],
            [
             1,
             "#f0f921"
            ]
           ],
           "sequentialminus": [
            [
             0,
             "#0d0887"
            ],
            [
             0.1111111111111111,
             "#46039f"
            ],
            [
             0.2222222222222222,
             "#7201a8"
            ],
            [
             0.3333333333333333,
             "#9c179e"
            ],
            [
             0.4444444444444444,
             "#bd3786"
            ],
            [
             0.5555555555555556,
             "#d8576b"
            ],
            [
             0.6666666666666666,
             "#ed7953"
            ],
            [
             0.7777777777777778,
             "#fb9f3a"
            ],
            [
             0.8888888888888888,
             "#fdca26"
            ],
            [
             1,
             "#f0f921"
            ]
           ]
          },
          "colorway": [
           "#636efa",
           "#EF553B",
           "#00cc96",
           "#ab63fa",
           "#FFA15A",
           "#19d3f3",
           "#FF6692",
           "#B6E880",
           "#FF97FF",
           "#FECB52"
          ],
          "font": {
           "color": "#2a3f5f"
          },
          "geo": {
           "bgcolor": "white",
           "lakecolor": "white",
           "landcolor": "#E5ECF6",
           "showlakes": true,
           "showland": true,
           "subunitcolor": "white"
          },
          "hoverlabel": {
           "align": "left"
          },
          "hovermode": "closest",
          "mapbox": {
           "style": "light"
          },
          "paper_bgcolor": "white",
          "plot_bgcolor": "#E5ECF6",
          "polar": {
           "angularaxis": {
            "gridcolor": "white",
            "linecolor": "white",
            "ticks": ""
           },
           "bgcolor": "#E5ECF6",
           "radialaxis": {
            "gridcolor": "white",
            "linecolor": "white",
            "ticks": ""
           }
          },
          "scene": {
           "xaxis": {
            "backgroundcolor": "#E5ECF6",
            "gridcolor": "white",
            "gridwidth": 2,
            "linecolor": "white",
            "showbackground": true,
            "ticks": "",
            "zerolinecolor": "white"
           },
           "yaxis": {
            "backgroundcolor": "#E5ECF6",
            "gridcolor": "white",
            "gridwidth": 2,
            "linecolor": "white",
            "showbackground": true,
            "ticks": "",
            "zerolinecolor": "white"
           },
           "zaxis": {
            "backgroundcolor": "#E5ECF6",
            "gridcolor": "white",
            "gridwidth": 2,
            "linecolor": "white",
            "showbackground": true,
            "ticks": "",
            "zerolinecolor": "white"
           }
          },
          "shapedefaults": {
           "line": {
            "color": "#2a3f5f"
           }
          },
          "ternary": {
           "aaxis": {
            "gridcolor": "white",
            "linecolor": "white",
            "ticks": ""
           },
           "baxis": {
            "gridcolor": "white",
            "linecolor": "white",
            "ticks": ""
           },
           "bgcolor": "#E5ECF6",
           "caxis": {
            "gridcolor": "white",
            "linecolor": "white",
            "ticks": ""
           }
          },
          "title": {
           "x": 0.05
          },
          "xaxis": {
           "automargin": true,
           "gridcolor": "white",
           "linecolor": "white",
           "ticks": "",
           "title": {
            "standoff": 15
           },
           "zerolinecolor": "white",
           "zerolinewidth": 2
          },
          "yaxis": {
           "automargin": true,
           "gridcolor": "white",
           "linecolor": "white",
           "ticks": "",
           "title": {
            "standoff": 15
           },
           "zerolinecolor": "white",
           "zerolinewidth": 2
          }
         }
        },
        "width": 1500,
        "xaxis": {
         "anchor": "y",
         "domain": [
          0,
          0.45
         ],
         "matches": "x75",
         "showticklabels": false
        },
        "xaxis10": {
         "anchor": "y10",
         "domain": [
          0.55,
          1
         ],
         "matches": "x76",
         "showticklabels": false
        },
        "xaxis11": {
         "anchor": "y11",
         "domain": [
          0,
          0.45
         ],
         "matches": "x75",
         "showticklabels": false
        },
        "xaxis12": {
         "anchor": "y12",
         "domain": [
          0.55,
          1
         ],
         "matches": "x76",
         "showticklabels": false
        },
        "xaxis13": {
         "anchor": "y13",
         "domain": [
          0,
          0.45
         ],
         "matches": "x75",
         "showticklabels": false
        },
        "xaxis14": {
         "anchor": "y14",
         "domain": [
          0.55,
          1
         ],
         "matches": "x76",
         "showticklabels": false
        },
        "xaxis15": {
         "anchor": "y15",
         "domain": [
          0,
          0.45
         ],
         "matches": "x75",
         "showticklabels": false
        },
        "xaxis16": {
         "anchor": "y16",
         "domain": [
          0.55,
          1
         ],
         "matches": "x76",
         "showticklabels": false
        },
        "xaxis17": {
         "anchor": "y17",
         "domain": [
          0,
          0.45
         ],
         "matches": "x75",
         "showticklabels": false
        },
        "xaxis18": {
         "anchor": "y18",
         "domain": [
          0.55,
          1
         ],
         "matches": "x76",
         "showticklabels": false
        },
        "xaxis19": {
         "anchor": "y19",
         "domain": [
          0,
          0.45
         ],
         "matches": "x75",
         "showticklabels": false
        },
        "xaxis2": {
         "anchor": "y2",
         "domain": [
          0.55,
          1
         ],
         "matches": "x76",
         "range": [
          0,
          35
         ],
         "showticklabels": false
        },
        "xaxis20": {
         "anchor": "y20",
         "domain": [
          0.55,
          1
         ],
         "matches": "x76",
         "showticklabels": false
        },
        "xaxis21": {
         "anchor": "y21",
         "domain": [
          0,
          0.45
         ],
         "matches": "x75",
         "showticklabels": false
        },
        "xaxis22": {
         "anchor": "y22",
         "domain": [
          0.55,
          1
         ],
         "matches": "x76",
         "showticklabels": false
        },
        "xaxis23": {
         "anchor": "y23",
         "domain": [
          0,
          0.45
         ],
         "matches": "x75",
         "showticklabels": false
        },
        "xaxis24": {
         "anchor": "y24",
         "domain": [
          0.55,
          1
         ],
         "matches": "x76",
         "showticklabels": false
        },
        "xaxis25": {
         "anchor": "y25",
         "domain": [
          0,
          0.45
         ],
         "matches": "x75",
         "showticklabels": false
        },
        "xaxis26": {
         "anchor": "y26",
         "domain": [
          0.55,
          1
         ],
         "matches": "x76",
         "showticklabels": false
        },
        "xaxis27": {
         "anchor": "y27",
         "domain": [
          0,
          0.45
         ],
         "matches": "x75",
         "showticklabels": false
        },
        "xaxis28": {
         "anchor": "y28",
         "domain": [
          0.55,
          1
         ],
         "matches": "x76",
         "showticklabels": false
        },
        "xaxis29": {
         "anchor": "y29",
         "domain": [
          0,
          0.45
         ],
         "matches": "x75",
         "showticklabels": false
        },
        "xaxis3": {
         "anchor": "y3",
         "domain": [
          0,
          0.45
         ],
         "matches": "x75",
         "showticklabels": false
        },
        "xaxis30": {
         "anchor": "y30",
         "domain": [
          0.55,
          1
         ],
         "matches": "x76",
         "showticklabels": false
        },
        "xaxis31": {
         "anchor": "y31",
         "domain": [
          0,
          0.45
         ],
         "matches": "x75",
         "showticklabels": false
        },
        "xaxis32": {
         "anchor": "y32",
         "domain": [
          0.55,
          1
         ],
         "matches": "x76",
         "showticklabels": false
        },
        "xaxis33": {
         "anchor": "y33",
         "domain": [
          0,
          0.45
         ],
         "matches": "x75",
         "showticklabels": false
        },
        "xaxis34": {
         "anchor": "y34",
         "domain": [
          0.55,
          1
         ],
         "matches": "x76",
         "showticklabels": false
        },
        "xaxis35": {
         "anchor": "y35",
         "domain": [
          0,
          0.45
         ],
         "matches": "x75",
         "showticklabels": false
        },
        "xaxis36": {
         "anchor": "y36",
         "domain": [
          0.55,
          1
         ],
         "matches": "x76",
         "showticklabels": false
        },
        "xaxis37": {
         "anchor": "y37",
         "domain": [
          0,
          0.45
         ],
         "matches": "x75",
         "showticklabels": false
        },
        "xaxis38": {
         "anchor": "y38",
         "domain": [
          0.55,
          1
         ],
         "matches": "x76",
         "showticklabels": false
        },
        "xaxis39": {
         "anchor": "y39",
         "domain": [
          0,
          0.45
         ],
         "matches": "x75",
         "showticklabels": false
        },
        "xaxis4": {
         "anchor": "y4",
         "domain": [
          0.55,
          1
         ],
         "matches": "x76",
         "showticklabels": false
        },
        "xaxis40": {
         "anchor": "y40",
         "domain": [
          0.55,
          1
         ],
         "matches": "x76",
         "showticklabels": false
        },
        "xaxis41": {
         "anchor": "y41",
         "domain": [
          0,
          0.45
         ],
         "matches": "x75",
         "showticklabels": false
        },
        "xaxis42": {
         "anchor": "y42",
         "domain": [
          0.55,
          1
         ],
         "matches": "x76",
         "showticklabels": false
        },
        "xaxis43": {
         "anchor": "y43",
         "domain": [
          0,
          0.45
         ],
         "matches": "x75",
         "showticklabels": false
        },
        "xaxis44": {
         "anchor": "y44",
         "domain": [
          0.55,
          1
         ],
         "matches": "x76",
         "showticklabels": false
        },
        "xaxis45": {
         "anchor": "y45",
         "domain": [
          0,
          0.45
         ],
         "matches": "x75",
         "showticklabels": false
        },
        "xaxis46": {
         "anchor": "y46",
         "domain": [
          0.55,
          1
         ],
         "matches": "x76",
         "showticklabels": false
        },
        "xaxis47": {
         "anchor": "y47",
         "domain": [
          0,
          0.45
         ],
         "matches": "x75",
         "showticklabels": false
        },
        "xaxis48": {
         "anchor": "y48",
         "domain": [
          0.55,
          1
         ],
         "matches": "x76",
         "showticklabels": false
        },
        "xaxis49": {
         "anchor": "y49",
         "domain": [
          0,
          0.45
         ],
         "matches": "x75",
         "showticklabels": false
        },
        "xaxis5": {
         "anchor": "y5",
         "domain": [
          0,
          0.45
         ],
         "matches": "x75",
         "showticklabels": false
        },
        "xaxis50": {
         "anchor": "y50",
         "domain": [
          0.55,
          1
         ],
         "matches": "x76",
         "showticklabels": false
        },
        "xaxis51": {
         "anchor": "y51",
         "domain": [
          0,
          0.45
         ],
         "matches": "x75",
         "showticklabels": false
        },
        "xaxis52": {
         "anchor": "y52",
         "domain": [
          0.55,
          1
         ],
         "matches": "x76",
         "showticklabels": false
        },
        "xaxis53": {
         "anchor": "y53",
         "domain": [
          0,
          0.45
         ],
         "matches": "x75",
         "showticklabels": false
        },
        "xaxis54": {
         "anchor": "y54",
         "domain": [
          0.55,
          1
         ],
         "matches": "x76",
         "showticklabels": false
        },
        "xaxis55": {
         "anchor": "y55",
         "domain": [
          0,
          0.45
         ],
         "matches": "x75",
         "showticklabels": false
        },
        "xaxis56": {
         "anchor": "y56",
         "domain": [
          0.55,
          1
         ],
         "matches": "x76",
         "showticklabels": false
        },
        "xaxis57": {
         "anchor": "y57",
         "domain": [
          0,
          0.45
         ],
         "matches": "x75",
         "showticklabels": false
        },
        "xaxis58": {
         "anchor": "y58",
         "domain": [
          0.55,
          1
         ],
         "matches": "x76",
         "showticklabels": false
        },
        "xaxis59": {
         "anchor": "y59",
         "domain": [
          0,
          0.45
         ],
         "matches": "x75",
         "showticklabels": false
        },
        "xaxis6": {
         "anchor": "y6",
         "domain": [
          0.55,
          1
         ],
         "matches": "x76",
         "showticklabels": false
        },
        "xaxis60": {
         "anchor": "y60",
         "domain": [
          0.55,
          1
         ],
         "matches": "x76",
         "showticklabels": false
        },
        "xaxis61": {
         "anchor": "y61",
         "domain": [
          0,
          0.45
         ],
         "matches": "x75",
         "showticklabels": false
        },
        "xaxis62": {
         "anchor": "y62",
         "domain": [
          0.55,
          1
         ],
         "matches": "x76",
         "showticklabels": false
        },
        "xaxis63": {
         "anchor": "y63",
         "domain": [
          0,
          0.45
         ],
         "matches": "x75",
         "showticklabels": false
        },
        "xaxis64": {
         "anchor": "y64",
         "domain": [
          0.55,
          1
         ],
         "matches": "x76",
         "showticklabels": false
        },
        "xaxis65": {
         "anchor": "y65",
         "domain": [
          0,
          0.45
         ],
         "matches": "x75",
         "showticklabels": false
        },
        "xaxis66": {
         "anchor": "y66",
         "domain": [
          0.55,
          1
         ],
         "matches": "x76",
         "showticklabels": false
        },
        "xaxis67": {
         "anchor": "y67",
         "domain": [
          0,
          0.45
         ],
         "matches": "x75",
         "showticklabels": false
        },
        "xaxis68": {
         "anchor": "y68",
         "domain": [
          0.55,
          1
         ],
         "matches": "x76",
         "showticklabels": false
        },
        "xaxis69": {
         "anchor": "y69",
         "domain": [
          0,
          0.45
         ],
         "matches": "x75",
         "showticklabels": false
        },
        "xaxis7": {
         "anchor": "y7",
         "domain": [
          0,
          0.45
         ],
         "matches": "x75",
         "showticklabels": false
        },
        "xaxis70": {
         "anchor": "y70",
         "domain": [
          0.55,
          1
         ],
         "matches": "x76",
         "showticklabels": false
        },
        "xaxis71": {
         "anchor": "y71",
         "domain": [
          0,
          0.45
         ],
         "matches": "x75",
         "showticklabels": false
        },
        "xaxis72": {
         "anchor": "y72",
         "domain": [
          0.55,
          1
         ],
         "matches": "x76",
         "showticklabels": false
        },
        "xaxis73": {
         "anchor": "y73",
         "domain": [
          0,
          0.45
         ],
         "matches": "x75",
         "showticklabels": false
        },
        "xaxis74": {
         "anchor": "y74",
         "domain": [
          0.55,
          1
         ],
         "matches": "x76",
         "showticklabels": false
        },
        "xaxis75": {
         "anchor": "y75",
         "domain": [
          0,
          0.45
         ]
        },
        "xaxis76": {
         "anchor": "y76",
         "domain": [
          0.55,
          1
         ]
        },
        "xaxis8": {
         "anchor": "y8",
         "domain": [
          0.55,
          1
         ],
         "matches": "x76",
         "showticklabels": false
        },
        "xaxis9": {
         "anchor": "y9",
         "domain": [
          0,
          0.45
         ],
         "matches": "x75",
         "showticklabels": false
        },
        "yaxis": {
         "anchor": "x",
         "domain": [
          0.9714000137758123,
          0.9999999999999999
         ],
         "showticklabels": false
        },
        "yaxis10": {
         "anchor": "x10",
         "domain": [
          0.8786220156706437,
          0.8918206029747328
         ],
         "showticklabels": false
        },
        "yaxis11": {
         "anchor": "x11",
         "domain": [
          0.858156877978293,
          0.8707272788285384
         ],
         "showticklabels": false
        },
        "yaxis12": {
         "anchor": "x12",
         "domain": [
          0.858156877978293,
          0.8707272788285384
         ],
         "showticklabels": false
        },
        "yaxis13": {
         "anchor": "x13",
         "domain": [
          0.8377350634896557,
          0.8502621411361877
         ],
         "showticklabels": false
        },
        "yaxis14": {
         "anchor": "x14",
         "domain": [
          0.8377350634896557,
          0.8502621411361877
         ],
         "showticklabels": false
        },
        "yaxis15": {
         "anchor": "x15",
         "domain": [
          0.8173565722047318,
          0.8298403266475505
         ],
         "showticklabels": false
        },
        "yaxis16": {
         "anchor": "x16",
         "domain": [
          0.8173565722047318,
          0.8298403266475505
         ],
         "showticklabels": false
        },
        "yaxis17": {
         "anchor": "x17",
         "domain": [
          0.7972596817439447,
          0.8094618353626265
         ],
         "showticklabels": false
        },
        "yaxis18": {
         "anchor": "x18",
         "domain": [
          0.7972596817439447,
          0.8094618353626265
         ],
         "showticklabels": false
        },
        "yaxis19": {
         "anchor": "x19",
         "domain": [
          0.7777476545332879,
          0.7893649449018394
         ],
         "showticklabels": false
        },
        "yaxis2": {
         "anchor": "x2",
         "domain": [
          0.9714000137758123,
          0.9999999999999999
         ],
         "showticklabels": false
        },
        "yaxis20": {
         "anchor": "x20",
         "domain": [
          0.7777476545332879,
          0.7893649449018394
         ],
         "showticklabels": false
        },
        "yaxis21": {
         "anchor": "x21",
         "domain": [
          0.7201328696567335,
          0.7698529176911826
         ],
         "showticklabels": false
        },
        "yaxis22": {
         "anchor": "x22",
         "domain": [
          0.7201328696567335,
          0.7698529176911826
         ],
         "showticklabels": false
        },
        "yaxis23": {
         "anchor": "x23",
         "domain": [
          0.6973066173620049,
          0.7122381328146283
         ],
         "showticklabels": false
        },
        "yaxis24": {
         "anchor": "x24",
         "domain": [
          0.6973066173620049,
          0.7122381328146283
         ],
         "showticklabels": false
        },
        "yaxis25": {
         "anchor": "x25",
         "domain": [
          0.6770580956882211,
          0.6894118805198997
         ],
         "showticklabels": false
        },
        "yaxis26": {
         "anchor": "x26",
         "domain": [
          0.6770580956882211,
          0.6894118805198997
         ],
         "showticklabels": false
        },
        "yaxis27": {
         "anchor": "x27",
         "domain": [
          0.6377906875842734,
          0.6691633588461158
         ],
         "showticklabels": false
        },
        "yaxis28": {
         "anchor": "x28",
         "domain": [
          0.6377906875842734,
          0.6691633588461158
         ],
         "showticklabels": false
        },
        "yaxis29": {
         "anchor": "x29",
         "domain": [
          0.6107187613256357,
          0.6298959507421681
         ],
         "showticklabels": false
        },
        "yaxis3": {
         "anchor": "x3",
         "domain": [
          0.9456927684341454,
          0.963505276933707
         ],
         "showticklabels": false
        },
        "yaxis30": {
         "anchor": "x30",
         "domain": [
          0.6107187613256357,
          0.6298959507421681
         ],
         "showticklabels": false
        },
        "yaxis31": {
         "anchor": "x31",
         "domain": [
          0.5908818100871287,
          0.6028240244835305
         ],
         "showticklabels": false
        },
        "yaxis32": {
         "anchor": "x32",
         "domain": [
          0.5908818100871287,
          0.6028240244835305
         ],
         "showticklabels": false
        },
        "yaxis33": {
         "anchor": "x33",
         "domain": [
          0.5714564292838986,
          0.5829870732450234
         ],
         "showticklabels": false
        },
        "yaxis34": {
         "anchor": "x34",
         "domain": [
          0.5714564292838986,
          0.5829870732450234
         ],
         "showticklabels": false
        },
        "yaxis35": {
         "anchor": "x35",
         "domain": [
          0.5521176948880953,
          0.5635616924417933
         ],
         "showticklabels": false
        },
        "yaxis36": {
         "anchor": "x36",
         "domain": [
          0.5521176948880953,
          0.5635616924417933
         ],
         "showticklabels": false
        },
        "yaxis37": {
         "anchor": "x37",
         "domain": [
          0.5122004387284472,
          0.54422295804599
         ],
         "showticklabels": false
        },
        "yaxis38": {
         "anchor": "x38",
         "domain": [
          0.5122004387284472,
          0.54422295804599
         ],
         "showticklabels": false
        },
        "yaxis39": {
         "anchor": "x39",
         "domain": [
          0.4772653509958353,
          0.5043057018863419
         ],
         "showticklabels": false
        },
        "yaxis4": {
         "anchor": "x4",
         "domain": [
          0.9456927684341454,
          0.963505276933707
         ],
         "showticklabels": false
        },
        "yaxis40": {
         "anchor": "x40",
         "domain": [
          0.4772653509958353,
          0.5043057018863419
         ],
         "showticklabels": false
        },
        "yaxis41": {
         "anchor": "x41",
         "domain": [
          0.4488070822183702,
          0.46937061415373
         ],
         "showticklabels": false
        },
        "yaxis42": {
         "anchor": "x42",
         "domain": [
          0.4488070822183702,
          0.46937061415373
         ],
         "showticklabels": false
        },
        "yaxis43": {
         "anchor": "x43",
         "domain": [
          0.4211069695058889,
          0.44091234537626495
         ],
         "showticklabels": false
        },
        "yaxis44": {
         "anchor": "x44",
         "domain": [
          0.4211069695058889,
          0.44091234537626495
         ],
         "showticklabels": false
        },
        "yaxis45": {
         "anchor": "x45",
         "domain": [
          0.3937317808212577,
          0.4132122326637836
         ],
         "showticklabels": false
        },
        "yaxis46": {
         "anchor": "x46",
         "domain": [
          0.3937317808212577,
          0.4132122326637836
         ],
         "showticklabels": false
        },
        "yaxis47": {
         "anchor": "x47",
         "domain": [
          0.36832779790558434,
          0.38583704397915247
         ],
         "showticklabels": false
        },
        "yaxis48": {
         "anchor": "x48",
         "domain": [
          0.36832779790558434,
          0.38583704397915247
         ],
         "showticklabels": false
        },
        "yaxis49": {
         "anchor": "x49",
         "domain": [
          0.3315514740151547,
          0.36043306106347905
         ],
         "showticklabels": false
        },
        "yaxis5": {
         "anchor": "x5",
         "domain": [
          0.9209386335741725,
          0.9377980315920402
         ],
         "showticklabels": false
        },
        "yaxis50": {
         "anchor": "x50",
         "domain": [
          0.3315514740151547,
          0.36043306106347905
         ],
         "showticklabels": false
        },
        "yaxis51": {
         "anchor": "x51",
         "domain": [
          0.30229172596899256,
          0.32365673717304944
         ],
         "showticklabels": false
        },
        "yaxis52": {
         "anchor": "x52",
         "domain": [
          0.30229172596899256,
          0.32365673717304944
         ],
         "showticklabels": false
        },
        "yaxis53": {
         "anchor": "x53",
         "domain": [
          0.280808492989378,
          0.2943969891268873
         ],
         "showticklabels": false
        },
        "yaxis54": {
         "anchor": "x54",
         "domain": [
          0.280808492989378,
          0.2943969891268873
         ],
         "showticklabels": false
        },
        "yaxis55": {
         "anchor": "x55",
         "domain": [
          0.2458950668586227,
          0.2729137561472727
         ],
         "showticklabels": false
        },
        "yaxis56": {
         "anchor": "x56",
         "domain": [
          0.2458950668586227,
          0.2729137561472727
         ],
         "showticklabels": false
        },
        "yaxis57": {
         "anchor": "x57",
         "domain": [
          0.2191913878315486,
          0.23800033001651744
         ],
         "showticklabels": false
        },
        "yaxis58": {
         "anchor": "x58",
         "domain": [
          0.2191913878315486,
          0.23800033001651744
         ],
         "showticklabels": false
        },
        "yaxis59": {
         "anchor": "x59",
         "domain": [
          0.19645178194424667,
          0.21129665098944334
         ],
         "showticklabels": false
        },
        "yaxis6": {
         "anchor": "x6",
         "domain": [
          0.9209386335741725,
          0.9377980315920402
         ],
         "showticklabels": false
        },
        "yaxis60": {
         "anchor": "x60",
         "domain": [
          0.19645178194424667,
          0.21129665098944334
         ],
         "showticklabels": false
        },
        "yaxis61": {
         "anchor": "x61",
         "domain": [
          0.1650908585179867,
          0.1885570451021414
         ],
         "showticklabels": false
        },
        "yaxis62": {
         "anchor": "x62",
         "domain": [
          0.1650908585179867,
          0.1885570451021414
         ],
         "showticklabels": false
        },
        "yaxis63": {
         "anchor": "x63",
         "domain": [
          0.1412031877322808,
          0.15719612167588143
         ],
         "showticklabels": false
        },
        "yaxis64": {
         "anchor": "x64",
         "domain": [
          0.1412031877322808,
          0.15719612167588143
         ],
         "showticklabels": false
        },
        "yaxis65": {
         "anchor": "x65",
         "domain": [
          0.12073805003993013,
          0.13330845089017554
         ],
         "showticklabels": false
        },
        "yaxis66": {
         "anchor": "x66",
         "domain": [
          0.12073805003993013,
          0.13330845089017554
         ],
         "showticklabels": false
        },
        "yaxis67": {
         "anchor": "x67",
         "domain": [
          0.09260470529031525,
          0.11284331319782487
         ],
         "showticklabels": false
        },
        "yaxis68": {
         "anchor": "x68",
         "domain": [
          0.09260470529031525,
          0.11284331319782487
         ],
         "showticklabels": false
        },
        "yaxis69": {
         "anchor": "x69",
         "domain": [
          0.06520785500382745,
          0.08470996844821
         ],
         "showticklabels": false
        },
        "yaxis7": {
         "anchor": "x7",
         "domain": [
          0.899715339816838,
          0.9130438967320672
         ],
         "showticklabels": false
        },
        "yaxis70": {
         "anchor": "x70",
         "domain": [
          0.06520785500382745,
          0.08470996844821
         ],
         "showticklabels": false
        },
        "yaxis71": {
         "anchor": "x71",
         "domain": [
          0.04073532096799124,
          0.05731311816172219
         ],
         "showticklabels": false
        },
        "yaxis72": {
         "anchor": "x72",
         "domain": [
          0.04073532096799124,
          0.05731311816172219
         ],
         "showticklabels": false
        },
        "yaxis73": {
         "anchor": "x73",
         "domain": [
          0.017432513432415676,
          0.032840584125885974
         ],
         "showticklabels": false
        },
        "yaxis74": {
         "anchor": "x74",
         "domain": [
          0.017432513432415676,
          0.032840584125885974
         ],
         "showticklabels": false
        },
        "yaxis75": {
         "anchor": "x75",
         "domain": [
          0,
          0.009537776590310415
         ],
         "showticklabels": false
        },
        "yaxis76": {
         "anchor": "x76",
         "domain": [
          0,
          0.009537776590310415
         ],
         "showticklabels": false
        },
        "yaxis8": {
         "anchor": "x8",
         "domain": [
          0.899715339816838,
          0.9130438967320672
         ],
         "showticklabels": false
        },
        "yaxis9": {
         "anchor": "x9",
         "domain": [
          0.8786220156706437,
          0.8918206029747328
         ],
         "showticklabels": false
        }
       }
      }
     },
     "metadata": {},
     "output_type": "display_data"
    }
   ],
   "source": [
    "type_colors = {'EMIT': 'darkorange',\n",
    "               'EnMAP': 'royalblue',\n",
    "               'PRISMA': 'gray'}\n",
    "\n",
    "trace_sankey = go.Sankey(\n",
    "    # orientation = 'v',\n",
    "    node = {\"label\": label_list,\n",
    "            'color': country_color+landfill_color,\n",
    "            # 'pad': 50,\n",
    "            },\n",
    "    link = {\"source\": source, \"target\": target, \"value\": emission},\n",
    "    domain={'x': [0, 0.54]},\n",
    "    )\n",
    "\n",
    "fig = make_subplots(rows=len(landfill_color), cols=2,\n",
    "                    row_heights=row_height,\n",
    "                    # row_heights=df_landfill_emiss['bar_width'].to_list(),\n",
    "                    shared_xaxes=True,\n",
    ")\n",
    "\n",
    "fig.add_trace(trace_sankey)\n",
    "\n",
    "# error bar plot\n",
    "all_platforms =  ['EMIT', 'EnMAP', 'PRISMA']\n",
    "row = 1\n",
    "for name in df_emiss['name']:\n",
    "    landfill_data = df_emiss_grp[df_emiss_grp['name'] == name]\n",
    "    # add row for no plume is detected but valid\n",
    "    df_summary_landfill = df_summary[df_summary['name']==name]\n",
    "    available_platforms = df_emiss_grp[df_emiss_grp['name']==name]['platform']\n",
    "    rest_platforms = list(np.setdiff1d(all_platforms, available_platforms))\n",
    "\n",
    "    # plot bars\n",
    "    for _, row_data in landfill_data.iterrows():\n",
    "        fig.add_trace(\n",
    "            go.Bar(y=[row_data['platform']], x=[row_data['mean']], orientation='h',\n",
    "                   name=row_data['platform'], marker_color=type_colors[row_data['platform']],\n",
    "                #    xaxis=f'x{row}',\n",
    "                   width=0.8,\n",
    "            error_x=dict(\n",
    "                        type='data', # value of error bar given in data coordinates\n",
    "                        array=np.array(row_data['std']),\n",
    "                        visible=True)\n",
    "                   ),\n",
    "            row=row, col=2\n",
    "        )\n",
    "\n",
    "    # plot cross for landfills which have OBS but no plume\n",
    "    for index, rest_platform in enumerate(rest_platforms):\n",
    "        df_row = df_obs[df_obs['name']==name]\n",
    "        if (df_row[f'overpass({rest_platform.lower()})'].values>0) and (df_row[f'plume({rest_platform.lower()})'].values==0):\n",
    "            if rest_platform == 'PRISMA':\n",
    "                x = 1.04\n",
    "            else:\n",
    "                x = 1.03\n",
    "                fig.add_annotation(\n",
    "                    dict(\n",
    "                        font=dict(\n",
    "                            color=type_colors[rest_platform],\n",
    "                            size=17\n",
    "                        ),\n",
    "                        x=x,\n",
    "                        xref='x domain',\n",
    "                        y=row_data['platform'],\n",
    "                        showarrow=False,\n",
    "                        text=\"<b>x</b>\",\n",
    "                        textangle=0,\n",
    "                    ),\n",
    "                        row=row, col=2,\n",
    "                )\n",
    "\n",
    "    row += 1\n",
    "\n",
    "# https://stackoverflow.com/a/62162555/7347925\n",
    "names = set()\n",
    "fig.for_each_trace(\n",
    "    lambda trace:\n",
    "        trace.update(showlegend=False)\n",
    "        if (trace.name in names) else names.add(trace.name))\n",
    "\n",
    "fig.update_yaxes(showticklabels=False) # Hide y axis ticks\n",
    "\n",
    "fig.update_layout(\n",
    "    font=dict(\n",
    "        family='sans-serif',\n",
    "        size=25,\n",
    "        # color=\"RebeccaPurple\"\n",
    "    ),\n",
    "    autosize=False,\n",
    "    width=1500,\n",
    "    height=1500,\n",
    "    xaxis2=dict(\n",
    "        range=(0, 35)\n",
    "    ),\n",
    "    legend=dict(font=dict(size=28), itemwidth=30),\n",
    ")\n",
    "\n",
    "fig.add_annotation(dict(x=0.05, y=1.05, ax=0, ay=0,\n",
    "                    xref = \"paper\", yref = \"paper\", \n",
    "                    font=dict(size=30), text= \"<b>Countries</b>\",\n",
    "                  ))\n",
    "\n",
    "fig.add_annotation(dict(x=0.55, y=1.05, ax=0, ay=0,\n",
    "                    xref = \"paper\", yref = \"paper\", \n",
    "                    font=dict(size=30), text= \"<b>Landfill Emission Rates (t/h)</b>\",\n",
    "                  ))\n",
    "\n",
    "fig.write_image('../figures/emission_sankey.pdf', scale=3)\n",
    "fig.show()"
   ]
  }
 ],
 "metadata": {
  "kernelspec": {
   "display_name": "hyperch4",
   "language": "python",
   "name": "python3"
  },
  "language_info": {
   "codemirror_mode": {
    "name": "ipython",
    "version": 3
   },
   "file_extension": ".py",
   "mimetype": "text/x-python",
   "name": "python",
   "nbconvert_exporter": "python",
   "pygments_lexer": "ipython3",
   "version": "3.11.6"
  },
  "orig_nbformat": 4
 },
 "nbformat": 4,
 "nbformat_minor": 2
}
