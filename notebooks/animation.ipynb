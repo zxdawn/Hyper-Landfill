{
 "cells": [
  {
   "cell_type": "markdown",
   "metadata": {},
   "source": [
    "- Plot animation of weekly Sentinel-2 RGB images\n",
    "- Plot animation of CH4 plumes "
   ]
  },
  {
   "cell_type": "code",
   "execution_count": 1,
   "metadata": {},
   "outputs": [],
   "source": [
    "import xarray as xr\n",
    "from matplotlib import pyplot as plt, animation\n",
    "from mpl_toolkits.axes_grid1.anchored_artists import AnchoredSizeBar"
   ]
  },
  {
   "cell_type": "code",
   "execution_count": 2,
   "metadata": {},
   "outputs": [],
   "source": [
    "from matplotlib import rcParams\n",
    "font_size = 17\n",
    "rcParams['axes.titlesize'] = font_size\n",
    "rcParams['axes.titleweight'] = 'bold'\n",
    "rcParams['axes.labelsize'] = font_size - 2\n",
    "rcParams['xtick.labelsize'] = font_size - 2\n",
    "rcParams['ytick.labelsize'] = font_size - 2\n",
    "rcParams['legend.fontsize'] = font_size\n",
    "rcParams['figure.titlesize'] = font_size\n",
    "rcParams['figure.titleweight'] = 'bold'"
   ]
  },
  {
   "cell_type": "markdown",
   "metadata": {},
   "source": [
    "## Read S2 data"
   ]
  },
  {
   "cell_type": "code",
   "execution_count": 3,
   "metadata": {},
   "outputs": [],
   "source": [
    "ds_s2_Ghabawi = xr.open_dataset('../data/S2_RGB/all/Ghabawi.nc')\n",
    "ds_s2_Ghazipur = xr.open_dataset('../data/S2_RGB/all/Ghazipur.nc')"
   ]
  },
  {
   "cell_type": "markdown",
   "metadata": {},
   "source": [
    "## Plot RGB images"
   ]
  },
  {
   "cell_type": "code",
   "execution_count": 4,
   "metadata": {},
   "outputs": [],
   "source": [
    "def plot_rgb(data, frame, name):\n",
    "    fig, ax = plt.subplots()\n",
    "\n",
    "    daily_data = data.isel(time=frame)\n",
    "    daily_data.plot.imshow(x=\"x\", y=\"y\", robust=True, rasterized=True)\n",
    "\n",
    "    ax.axes.get_xaxis().set_visible(False)\n",
    "    ax.axes.get_yaxis().set_visible(False)\n",
    "    ax.set_title(daily_data.time.dt.strftime('%Y-%m-%d').item(), x=0.15, y=1, pad=-20, c='w')\n",
    "\n",
    "    scalebar = AnchoredSizeBar(ax.transData,\n",
    "                            500, '500 m', 'lower right', \n",
    "                            pad=0.1,\n",
    "                            color='white',\n",
    "                            frameon=False,\n",
    "                            size_vertical=1,\n",
    "                            )\n",
    "\n",
    "    ax.add_artist(scalebar)\n",
    "    fig.tight_layout()\n",
    "    fig.savefig(f'../data/S2_RGB/all/{name}_{frame:03}.png')"
   ]
  },
  {
   "cell_type": "markdown",
   "metadata": {},
   "source": [
    "## Combine png files into GIF"
   ]
  },
  {
   "cell_type": "code",
   "execution_count": null,
   "metadata": {},
   "outputs": [],
   "source": [
    "for frame in range(len(ds_s2_Ghabawi.time)):\n",
    "    plot_rgb(ds_s2_Ghabawi['rgb'], frame=frame, name='Ghabawi')\n",
    "\n",
    "for frame in range(len(ds_s2_Ghazipur.time)):\n",
    "    plot_rgb(ds_s2_Ghazipur['rgb'], frame=frame, name='Ghazipur')"
   ]
  },
  {
   "cell_type": "code",
   "execution_count": 6,
   "metadata": {},
   "outputs": [],
   "source": [
    "!convert -delay 15 ../data/S2_RGB/all/Ghabawi*png ../data/S2_RGB/all/Ghabawi.gif\n",
    "!convert -delay 40 ../data/S2_RGB/all/Ghazipur*png ../data/S2_RGB/all/Ghazipur.gif\n",
    "!rm ../data/S2_RGB/all/Ghabawi*png\n",
    "!rm ../data/S2_RGB/all/Ghazipur*png"
   ]
  }
 ],
 "metadata": {
  "kernelspec": {
   "display_name": "hyperch4",
   "language": "python",
   "name": "python3"
  },
  "language_info": {
   "codemirror_mode": {
    "name": "ipython",
    "version": 3
   },
   "file_extension": ".py",
   "mimetype": "text/x-python",
   "name": "python",
   "nbconvert_exporter": "python",
   "pygments_lexer": "ipython3",
   "version": "3.11.6"
  }
 },
 "nbformat": 4,
 "nbformat_minor": 2
}
