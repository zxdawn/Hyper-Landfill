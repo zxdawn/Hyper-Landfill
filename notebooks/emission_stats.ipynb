{
 "cells": [
  {
   "cell_type": "markdown",
   "metadata": {},
   "source": [
    "- Check the relationship of emission rates estimated by EMIT and EnMAP\n",
    "- Analyze the clear overpass and plume detections for each HSI"
   ]
  },
  {
   "cell_type": "code",
   "execution_count": 1,
   "metadata": {},
   "outputs": [],
   "source": [
    "import pandas as pd\n",
    "import numpy as np\n",
    "from glob import glob\n",
    "from itertools import chain\n",
    "from sklearn.linear_model import LinearRegression\n",
    "import matplotlib.pyplot as plt\n",
    "import seaborn as sns\n",
    "import string"
   ]
  },
  {
   "cell_type": "code",
   "execution_count": 2,
   "metadata": {},
   "outputs": [],
   "source": [
    "from matplotlib import rcParams\n",
    "font_size = 17\n",
    "rcParams['axes.titlesize'] = font_size\n",
    "rcParams['axes.titleweight'] = 'bold'\n",
    "rcParams['axes.labelsize'] = font_size - 2\n",
    "rcParams['xtick.labelsize'] = font_size - 2\n",
    "rcParams['ytick.labelsize'] = font_size - 2\n",
    "rcParams['legend.fontsize'] = font_size\n",
    "rcParams['figure.titlesize'] = font_size\n",
    "rcParams['figure.titleweight'] = 'bold'"
   ]
  },
  {
   "cell_type": "markdown",
   "metadata": {},
   "source": [
    "## Relationship between estimations of EnMAP and EMIT"
   ]
  },
  {
   "cell_type": "code",
   "execution_count": 3,
   "metadata": {},
   "outputs": [],
   "source": [
    "# read the summary data\n",
    "df_summary = pd.read_csv('../data/landfills_hyper_summary.csv')\n",
    "df_summary['emission_uncertainty'] = df_summary['emission'] * df_summary['emission_uncertainty(%)'] * 1e-2"
   ]
  },
  {
   "cell_type": "code",
   "execution_count": 4,
   "metadata": {},
   "outputs": [
    {
     "data": {
      "text/html": [
       "<div>\n",
       "<style scoped>\n",
       "    .dataframe tbody tr th:only-of-type {\n",
       "        vertical-align: middle;\n",
       "    }\n",
       "\n",
       "    .dataframe tbody tr th {\n",
       "        vertical-align: top;\n",
       "    }\n",
       "\n",
       "    .dataframe thead th {\n",
       "        text-align: right;\n",
       "    }\n",
       "</style>\n",
       "<table border=\"1\" class=\"dataframe\">\n",
       "  <thead>\n",
       "    <tr style=\"text-align: right;\">\n",
       "      <th></th>\n",
       "      <th>country</th>\n",
       "      <th>name</th>\n",
       "      <th>platform</th>\n",
       "      <th>latitude</th>\n",
       "      <th>longitude</th>\n",
       "      <th>emission</th>\n",
       "      <th>emission_uncertainty(%)</th>\n",
       "      <th>plume_count</th>\n",
       "      <th>overpass</th>\n",
       "      <th>wind_speed</th>\n",
       "      <th>emissions_quantity</th>\n",
       "      <th>emissions_factor</th>\n",
       "      <th>capacity</th>\n",
       "      <th>activity</th>\n",
       "      <th>metadata_source</th>\n",
       "      <th>metadata_report_year</th>\n",
       "      <th>emission_uncertainty</th>\n",
       "    </tr>\n",
       "  </thead>\n",
       "  <tbody>\n",
       "    <tr>\n",
       "      <th>26</th>\n",
       "      <td>India</td>\n",
       "      <td>Pirana</td>\n",
       "      <td>EMIT</td>\n",
       "      <td>22.981863</td>\n",
       "      <td>72.568043</td>\n",
       "      <td>6.168756</td>\n",
       "      <td>35.783734</td>\n",
       "      <td>1</td>\n",
       "      <td>1</td>\n",
       "      <td>3.103969</td>\n",
       "      <td>19285.05</td>\n",
       "      <td>0.048327</td>\n",
       "      <td>649995.49</td>\n",
       "      <td>399053.89</td>\n",
       "      <td>Waste Atlas</td>\n",
       "      <td>2013.0</td>\n",
       "      <td>2.207411</td>\n",
       "    </tr>\n",
       "    <tr>\n",
       "      <th>27</th>\n",
       "      <td>India</td>\n",
       "      <td>Pirana</td>\n",
       "      <td>PRISMA</td>\n",
       "      <td>22.982893</td>\n",
       "      <td>72.570045</td>\n",
       "      <td>6.075245</td>\n",
       "      <td>33.785852</td>\n",
       "      <td>5</td>\n",
       "      <td>28</td>\n",
       "      <td>2.064798</td>\n",
       "      <td>19285.05</td>\n",
       "      <td>0.048327</td>\n",
       "      <td>649995.49</td>\n",
       "      <td>399053.89</td>\n",
       "      <td>Waste Atlas</td>\n",
       "      <td>2013.0</td>\n",
       "      <td>2.052573</td>\n",
       "    </tr>\n",
       "  </tbody>\n",
       "</table>\n",
       "</div>"
      ],
      "text/plain": [
       "   country    name platform   latitude  longitude  emission  \\\n",
       "26   India  Pirana     EMIT  22.981863  72.568043  6.168756   \n",
       "27   India  Pirana   PRISMA  22.982893  72.570045  6.075245   \n",
       "\n",
       "    emission_uncertainty(%)  plume_count  overpass  wind_speed  \\\n",
       "26                35.783734            1         1    3.103969   \n",
       "27                33.785852            5        28    2.064798   \n",
       "\n",
       "    emissions_quantity  emissions_factor   capacity   activity  \\\n",
       "26            19285.05          0.048327  649995.49  399053.89   \n",
       "27            19285.05          0.048327  649995.49  399053.89   \n",
       "\n",
       "   metadata_source  metadata_report_year  emission_uncertainty  \n",
       "26     Waste Atlas                2013.0              2.207411  \n",
       "27     Waste Atlas                2013.0              2.052573  "
      ]
     },
     "execution_count": 4,
     "metadata": {},
     "output_type": "execute_result"
    }
   ],
   "source": [
    "df_summary[df_summary['name']=='Pirana']"
   ]
  },
  {
   "cell_type": "code",
   "execution_count": 5,
   "metadata": {},
   "outputs": [],
   "source": [
    "# df_summary['platform'].isin(['EnMAP', 'EMIT'])"
   ]
  },
  {
   "cell_type": "code",
   "execution_count": 6,
   "metadata": {},
   "outputs": [],
   "source": [
    "def plot_twogrp(ax, df_summary, grp_name1, grp_name2):\n",
    "    # get landfills oberved by both EnMAP and EMIT\n",
    "    # df_emiss_twogrp = df_summary[df_summary['platform'].isin([grp_name1, grp_name2])]\n",
    "    # df_emiss_twogrp = df_emiss_twogrp[df_emiss_twogrp.groupby('name')['name'].transform('size') > 1]\n",
    "    df_emiss_twogrp = df_summary.groupby('name').filter(lambda x: set(x['platform']) == {'EMIT', 'EnMAP'})\n",
    "    print('Number of obs: ', len(df_emiss_twogrp))\n",
    "\n",
    "    enmap_row = df_emiss_twogrp[df_emiss_twogrp['platform']==grp_name1]\n",
    "    x = enmap_row['emission'].values\n",
    "    xerr = enmap_row['emission_uncertainty']\n",
    "\n",
    "    emit_row = df_emiss_twogrp[df_emiss_twogrp['platform']==grp_name2]\n",
    "    y = emit_row['emission'].values\n",
    "    yerr = emit_row['emission_uncertainty']\n",
    "\n",
    "    # # ---- RMA ------\n",
    "    # from pylr2 import regress2\n",
    "\n",
    "    # results = regress2(x, y, _method_type_2=\"reduced major axis\", _need_intercept=False)\n",
    "    # slope = results['slope']\n",
    "    # y_pred = results['predict']\n",
    "    # y_mean = y.mean()\n",
    "    # SSregression = ((y_pred - y_mean) ** 2).sum()\n",
    "    # SStotal = ((y - y_mean) ** 2).sum()\n",
    "    # r_squared = SSregression / SStotal\n",
    "\n",
    "    # ---- ODR ------\n",
    "    import scipy.odr as odr\n",
    "\n",
    "    # Define the linear function\n",
    "    def linear_function(B, x):\n",
    "        return B[0] * x #+ B[1]\n",
    "\n",
    "    # Create a model\n",
    "    linear_model = odr.Model(linear_function)\n",
    "\n",
    "    # Create a RealData object with errors\n",
    "    data = odr.RealData(x, y, sx=xerr, sy=yerr)\n",
    "\n",
    "    # Set up ODR with the model and data\n",
    "    odr_instance = odr.ODR(data, linear_model, beta0=[1.])\n",
    "\n",
    "    # Run the regression\n",
    "    output = odr_instance.run()\n",
    "\n",
    "    # Extract the parameter\n",
    "    slope = output.beta[0]\n",
    "    slope_err = output.sd_beta[0]\n",
    "\n",
    "    y_pred = linear_function(output.beta, x)\n",
    "    y_mean = y.mean()\n",
    "    SSregression = ((y_pred - y_mean) ** 2).sum()\n",
    "    SStotal = ((y - y_mean) ** 2).sum()\n",
    "    r_squared = SSregression / SStotal\n",
    "    \n",
    "    # # OLS\n",
    "    # # Reshape the arrays to 2D\n",
    "    # x_2d = x.reshape(-1, 1)\n",
    "    # y_2d = y.reshape(-1, 1)\n",
    "\n",
    "    # # Create and fit the linear regression model\n",
    "    # model = LinearRegression(fit_intercept=False)\n",
    "    # model.fit(x_2d, y_2d)\n",
    "\n",
    "    # # Get the slope of the linear regression line\n",
    "    # slope = model.coef_[0][0]\n",
    "\n",
    "    # # Calculate R-squared\n",
    "    # r_squared = model.score(x_2d, y_2d)\n",
    "\n",
    "    l1 = ax.axline(xy1=(0, 0), slope=1, label=f'1:1 line',  c='gray')\n",
    "    from scipy.stats import pearsonr\n",
    "    from sklearn.metrics import mean_squared_error\n",
    "    rmse = mean_squared_error(x, y, squared=False)\n",
    "    corr, _ = pearsonr(x, y)\n",
    "\n",
    "    # l2 = ax.axline(xy1=(0, 0), slope=slope, label=f'y = {slope:.1f}x (R$^2$ = {r_squared:.2f})', c='C0')\n",
    "    l2 = ax.axline(xy1=(0, 0), slope=slope, label=f'slope: {slope:.2f} ± {slope_err:.2f} \\n r: {corr:.2f}', c='C0')\n",
    "    handles, labels = ax.get_legend_handles_labels()\n",
    "\n",
    "    ax.errorbar(x, y, xerr=xerr, yerr=yerr, fmt='o', capsize=3, markersize=4, elinewidth=0.6)\n",
    "    # sns.regplot(ax=ax, x=x, y=y, color='C0', ci=95, line_kws={'linewidth':0})\n",
    "\n",
    "    ax.set_xlim(0, 20)\n",
    "    ax.set_ylim(0, 20)\n",
    "    # ax.set_title('CH$_4$ Emission Rate (t h$^{-1}$)')\n",
    "    ax.set_xlabel(grp_name1)\n",
    "    ax.set_ylabel(grp_name2)\n",
    "\n",
    "    # plt.legend()\n",
    "    ax.legend(handles = handles, labels = labels, loc='lower right')\n",
    "\n",
    "\n",
    "    return x, y, xerr, yerr, enmap_row['name']"
   ]
  },
  {
   "cell_type": "code",
   "execution_count": 7,
   "metadata": {},
   "outputs": [
    {
     "name": "stdout",
     "output_type": "stream",
     "text": [
      "Number of obs:  24\n"
     ]
    },
    {
     "data": {
      "image/png": "[encoded data removed]",
      "text/plain": [
       "<Figure size 700x700 with 1 Axes>"
      ]
     },
     "metadata": {},
     "output_type": "display_data"
    }
   ],
   "source": [
    "fig, ax = plt.subplots(figsize=(7, 7))\n",
    "\n",
    "x, y, _, _, names = plot_twogrp(ax, df_summary, grp_name1='EnMAP', grp_name2='EMIT')\n",
    "# fig.savefig('../figures/emit_enmap_fit.pdf')"
   ]
  },
  {
   "cell_type": "code",
   "execution_count": 8,
   "metadata": {},
   "outputs": [],
   "source": [
    "import plotly.express as px\n",
    "\n",
    "df_enmap_emit_comp = pd.DataFrame({'EnMAP': x, 'EMIT': y, 'name': names})\n",
    "\n",
    "fig = px.scatter(df_enmap_emit_comp, x=\"EnMAP\", y=\"EMIT\", #color=\"species\",\n",
    "                 # size='petal_length',\n",
    "                 hover_data=['name'],\n",
    "                )"
   ]
  },
  {
   "cell_type": "code",
   "execution_count": 9,
   "metadata": {},
   "outputs": [
    {
     "data": {
      "application/vnd.plotly.v1+json": {
       "config": {
        "plotlyServerURL": "https://plot.ly"
       },
       "data": [
        {
         "customdata": [
          [
           "González Catán"
          ],
          [
           "Bandhwari"
          ],
          [
           "Bhalswa"
          ],
          [
           "Deonar"
          ],
          [
           "Ghazipur"
          ],
          [
           "Okhla"
          ],
          [
           "Dudaim"
          ],
          [
           "Tamar"
          ],
          [
           "Al Akaider"
          ],
          [
           "Kabd"
          ],
          [
           "Riyadh"
          ],
          [
           "Akhangaran"
          ]
         ],
         "hovertemplate": "EnMAP=%{x}<br>EMIT=%{y}<br>name=%{customdata[0]}<extra></extra>",
         "legendgroup": "",
         "marker": {
          "color": "#636efa",
          "symbol": "circle"
         },
         "mode": "markers",
         "name": "",
         "orientation": "v",
         "showlegend": false,
         "type": "scatter",
         "x": [
          2.1418896834680594,
          2.8752665622313094,
          2.066235995319783,
          0.7062872778716631,
          3.19292811738827,
          2.28168506007331,
          6.974508522146807,
          4.730210583923607,
          2.2758872149148996,
          6.486344054489097,
          8.999775701738319,
          3.2974790455815963
         ],
         "xaxis": "x",
         "y": [
          3.397675898059342,
          1.920718687559799,
          2.363708234919986,
          3.6936512708867872,
          4.7351384769856235,
          1.537537550083354,
          5.361972986504384,
          5.673906628582876,
          4.890580337359201,
          7.773646775888003,
          14.939187715513652,
          4.172112913502772
         ],
         "yaxis": "y"
        }
       ],
       "layout": {
        "height": 500,
        "legend": {
         "tracegroupgap": 0
        },
        "margin": {
         "t": 60
        },
        "template": {
         "data": {
          "bar": [
           {
            "error_x": {
             "color": "#2a3f5f"
            },
            "error_y": {
             "color": "#2a3f5f"
            },
            "marker": {
             "line": {
              "color": "#E5ECF6",
              "width": 0.5
             },
             "pattern": {
              "fillmode": "overlay",
              "size": 10,
              "solidity": 0.2
             }
            },
            "type": "bar"
           }
          ],
          "barpolar": [
           {
            "marker": {
             "line": {
              "color": "#E5ECF6",
              "width": 0.5
             },
             "pattern": {
              "fillmode": "overlay",
              "size": 10,
              "solidity": 0.2
             }
            },
            "type": "barpolar"
           }
          ],
          "carpet": [
           {
            "aaxis": {
             "endlinecolor": "#2a3f5f",
             "gridcolor": "white",
             "linecolor": "white",
             "minorgridcolor": "white",
             "startlinecolor": "#2a3f5f"
            },
            "baxis": {
             "endlinecolor": "#2a3f5f",
             "gridcolor": "white",
             "linecolor": "white",
             "minorgridcolor": "white",
             "startlinecolor": "#2a3f5f"
            },
            "type": "carpet"
           }
          ],
          "choropleth": [
           {
            "colorbar": {
             "outlinewidth": 0,
             "ticks": ""
            },
            "type": "choropleth"
           }
          ],
          "contour": [
           {
            "colorbar": {
             "outlinewidth": 0,
             "ticks": ""
            },
            "colorscale": [
             [
              0,
              "#0d0887"
             ],
             [
              0.1111111111111111,
              "#46039f"
             ],
             [
              0.2222222222222222,
              "#7201a8"
             ],
             [
              0.3333333333333333,
              "#9c179e"
             ],
             [
              0.4444444444444444,
              "#bd3786"
             ],
             [
              0.5555555555555556,
              "#d8576b"
             ],
             [
              0.6666666666666666,
              "#ed7953"
             ],
             [
              0.7777777777777778,
              "#fb9f3a"
             ],
             [
              0.8888888888888888,
              "#fdca26"
             ],
             [
              1,
              "#f0f921"
             ]
            ],
            "type": "contour"
           }
          ],
          "contourcarpet": [
           {
            "colorbar": {
             "outlinewidth": 0,
             "ticks": ""
            },
            "type": "contourcarpet"
           }
          ],
          "heatmap": [
           {
            "colorbar": {
             "outlinewidth": 0,
             "ticks": ""
            },
            "colorscale": [
             [
              0,
              "#0d0887"
             ],
             [
              0.1111111111111111,
              "#46039f"
             ],
             [
              0.2222222222222222,
              "#7201a8"
             ],
             [
              0.3333333333333333,
              "#9c179e"
             ],
             [
              0.4444444444444444,
              "#bd3786"
             ],
             [
              0.5555555555555556,
              "#d8576b"
             ],
             [
              0.6666666666666666,
              "#ed7953"
             ],
             [
              0.7777777777777778,
              "#fb9f3a"
             ],
             [
              0.8888888888888888,
              "#fdca26"
             ],
             [
              1,
              "#f0f921"
             ]
            ],
            "type": "heatmap"
           }
          ],
          "heatmapgl": [
           {
            "colorbar": {
             "outlinewidth": 0,
             "ticks": ""
            },
            "colorscale": [
             [
              0,
              "#0d0887"
             ],
             [
              0.1111111111111111,
              "#46039f"
             ],
             [
              0.2222222222222222,
              "#7201a8"
             ],
             [
              0.3333333333333333,
              "#9c179e"
             ],
             [
              0.4444444444444444,
              "#bd3786"
             ],
             [
              0.5555555555555556,
              "#d8576b"
             ],
             [
              0.6666666666666666,
              "#ed7953"
             ],
             [
              0.7777777777777778,
              "#fb9f3a"
             ],
             [
              0.8888888888888888,
              "#fdca26"
             ],
             [
              1,
              "#f0f921"
             ]
            ],
            "type": "heatmapgl"
           }
          ],
          "histogram": [
           {
            "marker": {
             "pattern": {
              "fillmode": "overlay",
              "size": 10,
              "solidity": 0.2
             }
            },
            "type": "histogram"
           }
          ],
          "histogram2d": [
           {
            "colorbar": {
             "outlinewidth": 0,
             "ticks": ""
            },
            "colorscale": [
             [
              0,
              "#0d0887"
             ],
             [
              0.1111111111111111,
              "#46039f"
             ],
             [
              0.2222222222222222,
              "#7201a8"
             ],
             [
              0.3333333333333333,
              "#9c179e"
             ],
             [
              0.4444444444444444,
              "#bd3786"
             ],
             [
              0.5555555555555556,
              "#d8576b"
             ],
             [
              0.6666666666666666,
              "#ed7953"
             ],
             [
              0.7777777777777778,
              "#fb9f3a"
             ],
             [
              0.8888888888888888,
              "#fdca26"
             ],
             [
              1,
              "#f0f921"
             ]
            ],
            "type": "histogram2d"
           }
          ],
          "histogram2dcontour": [
           {
            "colorbar": {
             "outlinewidth": 0,
             "ticks": ""
            },
            "colorscale": [
             [
              0,
              "#0d0887"
             ],
             [
              0.1111111111111111,
              "#46039f"
             ],
             [
              0.2222222222222222,
              "#7201a8"
             ],
             [
              0.3333333333333333,
              "#9c179e"
             ],
             [
              0.4444444444444444,
              "#bd3786"
             ],
             [
              0.5555555555555556,
              "#d8576b"
             ],
             [
              0.6666666666666666,
              "#ed7953"
             ],
             [
              0.7777777777777778,
              "#fb9f3a"
             ],
             [
              0.8888888888888888,
              "#fdca26"
             ],
             [
              1,
              "#f0f921"
             ]
            ],
            "type": "histogram2dcontour"
           }
          ],
          "mesh3d": [
           {
            "colorbar": {
             "outlinewidth": 0,
             "ticks": ""
            },
            "type": "mesh3d"
           }
          ],
          "parcoords": [
           {
            "line": {
             "colorbar": {
              "outlinewidth": 0,
              "ticks": ""
             }
            },
            "type": "parcoords"
           }
          ],
          "pie": [
           {
            "automargin": true,
            "type": "pie"
           }
          ],
          "scatter": [
           {
            "fillpattern": {
             "fillmode": "overlay",
             "size": 10,
             "solidity": 0.2
            },
            "type": "scatter"
           }
          ],
          "scatter3d": [
           {
            "line": {
             "colorbar": {
              "outlinewidth": 0,
              "ticks": ""
             }
            },
            "marker": {
             "colorbar": {
              "outlinewidth": 0,
              "ticks": ""
             }
            },
            "type": "scatter3d"
           }
          ],
          "scattercarpet": [
           {
            "marker": {
             "colorbar": {
              "outlinewidth": 0,
              "ticks": ""
             }
            },
            "type": "scattercarpet"
           }
          ],
          "scattergeo": [
           {
            "marker": {
             "colorbar": {
              "outlinewidth": 0,
              "ticks": ""
             }
            },
            "type": "scattergeo"
           }
          ],
          "scattergl": [
           {
            "marker": {
             "colorbar": {
              "outlinewidth": 0,
              "ticks": ""
             }
            },
            "type": "scattergl"
           }
          ],
          "scattermapbox": [
           {
            "marker": {
             "colorbar": {
              "outlinewidth": 0,
              "ticks": ""
             }
            },
            "type": "scattermapbox"
           }
          ],
          "scatterpolar": [
           {
            "marker": {
             "colorbar": {
              "outlinewidth": 0,
              "ticks": ""
             }
            },
            "type": "scatterpolar"
           }
          ],
          "scatterpolargl": [
           {
            "marker": {
             "colorbar": {
              "outlinewidth": 0,
              "ticks": ""
             }
            },
            "type": "scatterpolargl"
           }
          ],
          "scatterternary": [
           {
            "marker": {
             "colorbar": {
              "outlinewidth": 0,
              "ticks": ""
             }
            },
            "type": "scatterternary"
           }
          ],
          "surface": [
           {
            "colorbar": {
             "outlinewidth": 0,
             "ticks": ""
            },
            "colorscale": [
             [
              0,
              "#0d0887"
             ],
             [
              0.1111111111111111,
              "#46039f"
             ],
             [
              0.2222222222222222,
              "#7201a8"
             ],
             [
              0.3333333333333333,
              "#9c179e"
             ],
             [
              0.4444444444444444,
              "#bd3786"
             ],
             [
              0.5555555555555556,
              "#d8576b"
             ],
             [
              0.6666666666666666,
              "#ed7953"
             ],
             [
              0.7777777777777778,
              "#fb9f3a"
             ],
             [
              0.8888888888888888,
              "#fdca26"
             ],
             [
              1,
              "#f0f921"
             ]
            ],
            "type": "surface"
           }
          ],
          "table": [
           {
            "cells": {
             "fill": {
              "color": "#EBF0F8"
             },
             "line": {
              "color": "white"
             }
            },
            "header": {
             "fill": {
              "color": "#C8D4E3"
             },
             "line": {
              "color": "white"
             }
            },
            "type": "table"
           }
          ]
         },
         "layout": {
          "annotationdefaults": {
           "arrowcolor": "#2a3f5f",
           "arrowhead": 0,
           "arrowwidth": 1
          },
          "autotypenumbers": "strict",
          "coloraxis": {
           "colorbar": {
            "outlinewidth": 0,
            "ticks": ""
           }
          },
          "colorscale": {
           "diverging": [
            [
             0,
             "#8e0152"
            ],
            [
             0.1,
             "#c51b7d"
            ],
            [
             0.2,
             "#de77ae"
            ],
            [
             0.3,
             "#f1b6da"
            ],
            [
             0.4,
             "#fde0ef"
            ],
            [
             0.5,
             "#f7f7f7"
            ],
            [
             0.6,
             "#e6f5d0"
            ],
            [
             0.7,
             "#b8e186"
            ],
            [
             0.8,
             "#7fbc41"
            ],
            [
             0.9,
             "#4d9221"
            ],
            [
             1,
             "#276419"
            ]
           ],
           "sequential": [
            [
             0,
             "#0d0887"
            ],
            [
             0.1111111111111111,
             "#46039f"
            ],
            [
             0.2222222222222222,
             "#7201a8"
            ],
            [
             0.3333333333333333,
             "#9c179e"
            ],
            [
             0.4444444444444444,
             "#bd3786"
            ],
            [
             0.5555555555555556,
             "#d8576b"
            ],
            [
             0.6666666666666666,
             "#ed7953"
            ],
            [
             0.7777777777777778,
             "#fb9f3a"
            ],
            [
             0.8888888888888888,
             "#fdca26"
            ],
            [
             1,
             "#f0f921"
            ]
           ],
           "sequentialminus": [
            [
             0,
             "#0d0887"
            ],
            [
             0.1111111111111111,
             "#46039f"
            ],
            [
             0.2222222222222222,
             "#7201a8"
            ],
            [
             0.3333333333333333,
             "#9c179e"
            ],
            [
             0.4444444444444444,
             "#bd3786"
            ],
            [
             0.5555555555555556,
             "#d8576b"
            ],
            [
             0.6666666666666666,
             "#ed7953"
            ],
            [
             0.7777777777777778,
             "#fb9f3a"
            ],
            [
             0.8888888888888888,
             "#fdca26"
            ],
            [
             1,
             "#f0f921"
            ]
           ]
          },
          "colorway": [
           "#636efa",
           "#EF553B",
           "#00cc96",
           "#ab63fa",
           "#FFA15A",
           "#19d3f3",
           "#FF6692",
           "#B6E880",
           "#FF97FF",
           "#FECB52"
          ],
          "font": {
           "color": "#2a3f5f"
          },
          "geo": {
           "bgcolor": "white",
           "lakecolor": "white",
           "landcolor": "#E5ECF6",
           "showlakes": true,
           "showland": true,
           "subunitcolor": "white"
          },
          "hoverlabel": {
           "align": "left"
          },
          "hovermode": "closest",
          "mapbox": {
           "style": "light"
          },
          "paper_bgcolor": "white",
          "plot_bgcolor": "#E5ECF6",
          "polar": {
           "angularaxis": {
            "gridcolor": "white",
            "linecolor": "white",
            "ticks": ""
           },
           "bgcolor": "#E5ECF6",
           "radialaxis": {
            "gridcolor": "white",
            "linecolor": "white",
            "ticks": ""
           }
          },
          "scene": {
           "xaxis": {
            "backgroundcolor": "#E5ECF6",
            "gridcolor": "white",
            "gridwidth": 2,
            "linecolor": "white",
            "showbackground": true,
            "ticks": "",
            "zerolinecolor": "white"
           },
           "yaxis": {
            "backgroundcolor": "#E5ECF6",
            "gridcolor": "white",
            "gridwidth": 2,
            "linecolor": "white",
            "showbackground": true,
            "ticks": "",
            "zerolinecolor": "white"
           },
           "zaxis": {
            "backgroundcolor": "#E5ECF6",
            "gridcolor": "white",
            "gridwidth": 2,
            "linecolor": "white",
            "showbackground": true,
            "ticks": "",
            "zerolinecolor": "white"
           }
          },
          "shapedefaults": {
           "line": {
            "color": "#2a3f5f"
           }
          },
          "ternary": {
           "aaxis": {
            "gridcolor": "white",
            "linecolor": "white",
            "ticks": ""
           },
           "baxis": {
            "gridcolor": "white",
            "linecolor": "white",
            "ticks": ""
           },
           "bgcolor": "#E5ECF6",
           "caxis": {
            "gridcolor": "white",
            "linecolor": "white",
            "ticks": ""
           }
          },
          "title": {
           "x": 0.05
          },
          "xaxis": {
           "automargin": true,
           "gridcolor": "white",
           "linecolor": "white",
           "ticks": "",
           "title": {
            "standoff": 15
           },
           "zerolinecolor": "white",
           "zerolinewidth": 2
          },
          "yaxis": {
           "automargin": true,
           "gridcolor": "white",
           "linecolor": "white",
           "ticks": "",
           "title": {
            "standoff": 15
           },
           "zerolinecolor": "white",
           "zerolinewidth": 2
          }
         }
        },
        "width": 500,
        "xaxis": {
         "anchor": "y",
         "domain": [
          0,
          1
         ],
         "range": [
          0,
          20
         ],
         "title": {
          "text": "EnMAP"
         }
        },
        "yaxis": {
         "anchor": "x",
         "domain": [
          0,
          1
         ],
         "range": [
          0,
          20
         ],
         "title": {
          "text": "EMIT"
         }
        }
       }
      }
     },
     "metadata": {},
     "output_type": "display_data"
    }
   ],
   "source": [
    "fig.update_layout(width=500, height=500, yaxis_range=[0, 20], xaxis_range=[0, 20])\n",
    "fig.show()"
   ]
  },
  {
   "cell_type": "code",
   "execution_count": 10,
   "metadata": {},
   "outputs": [
    {
     "data": {
      "text/html": [
       "<div>\n",
       "<style scoped>\n",
       "    .dataframe tbody tr th:only-of-type {\n",
       "        vertical-align: middle;\n",
       "    }\n",
       "\n",
       "    .dataframe tbody tr th {\n",
       "        vertical-align: top;\n",
       "    }\n",
       "\n",
       "    .dataframe thead th {\n",
       "        text-align: right;\n",
       "    }\n",
       "</style>\n",
       "<table border=\"1\" class=\"dataframe\">\n",
       "  <thead>\n",
       "    <tr style=\"text-align: right;\">\n",
       "      <th></th>\n",
       "      <th>country</th>\n",
       "      <th>name</th>\n",
       "      <th>platform</th>\n",
       "      <th>latitude</th>\n",
       "      <th>longitude</th>\n",
       "      <th>emission</th>\n",
       "      <th>emission_uncertainty(%)</th>\n",
       "      <th>plume_count</th>\n",
       "      <th>overpass</th>\n",
       "      <th>wind_speed</th>\n",
       "      <th>emissions_quantity</th>\n",
       "      <th>emissions_factor</th>\n",
       "      <th>capacity</th>\n",
       "      <th>activity</th>\n",
       "      <th>metadata_source</th>\n",
       "      <th>metadata_report_year</th>\n",
       "      <th>emission_uncertainty</th>\n",
       "    </tr>\n",
       "  </thead>\n",
       "  <tbody>\n",
       "    <tr>\n",
       "      <th>2</th>\n",
       "      <td>Argentina</td>\n",
       "      <td>Norte III</td>\n",
       "      <td>EMIT</td>\n",
       "      <td>-34.527867</td>\n",
       "      <td>-58.623094</td>\n",
       "      <td>23.723598</td>\n",
       "      <td>33.727829</td>\n",
       "      <td>4</td>\n",
       "      <td>4</td>\n",
       "      <td>2.889840</td>\n",
       "      <td>28528.14</td>\n",
       "      <td>0.045643</td>\n",
       "      <td>900000.0</td>\n",
       "      <td>625026.97</td>\n",
       "      <td>Waste Atlas</td>\n",
       "      <td>2013.0</td>\n",
       "      <td>8.001454</td>\n",
       "    </tr>\n",
       "    <tr>\n",
       "      <th>7</th>\n",
       "      <td>Brazil</td>\n",
       "      <td>Caieiras</td>\n",
       "      <td>EMIT</td>\n",
       "      <td>-23.346724</td>\n",
       "      <td>-46.771954</td>\n",
       "      <td>14.035058</td>\n",
       "      <td>34.313487</td>\n",
       "      <td>1</td>\n",
       "      <td>1</td>\n",
       "      <td>2.467657</td>\n",
       "      <td>NaN</td>\n",
       "      <td>NaN</td>\n",
       "      <td>NaN</td>\n",
       "      <td>NaN</td>\n",
       "      <td>NaN</td>\n",
       "      <td>NaN</td>\n",
       "      <td>4.815918</td>\n",
       "    </tr>\n",
       "    <tr>\n",
       "      <th>8</th>\n",
       "      <td>Brazil</td>\n",
       "      <td>Pedreira</td>\n",
       "      <td>EMIT</td>\n",
       "      <td>-23.403698</td>\n",
       "      <td>-46.560783</td>\n",
       "      <td>11.525591</td>\n",
       "      <td>34.654589</td>\n",
       "      <td>1</td>\n",
       "      <td>1</td>\n",
       "      <td>2.598492</td>\n",
       "      <td>NaN</td>\n",
       "      <td>NaN</td>\n",
       "      <td>NaN</td>\n",
       "      <td>NaN</td>\n",
       "      <td>NaN</td>\n",
       "      <td>NaN</td>\n",
       "      <td>3.994146</td>\n",
       "    </tr>\n",
       "    <tr>\n",
       "      <th>9</th>\n",
       "      <td>China</td>\n",
       "      <td>Ürümqi</td>\n",
       "      <td>EMIT</td>\n",
       "      <td>44.038444</td>\n",
       "      <td>87.865135</td>\n",
       "      <td>10.652942</td>\n",
       "      <td>41.183351</td>\n",
       "      <td>5</td>\n",
       "      <td>5</td>\n",
       "      <td>2.013745</td>\n",
       "      <td>NaN</td>\n",
       "      <td>NaN</td>\n",
       "      <td>NaN</td>\n",
       "      <td>NaN</td>\n",
       "      <td>NaN</td>\n",
       "      <td>NaN</td>\n",
       "      <td>4.387238</td>\n",
       "    </tr>\n",
       "    <tr>\n",
       "      <th>42</th>\n",
       "      <td>Mexico</td>\n",
       "      <td>Tecnosilicatos</td>\n",
       "      <td>EMIT</td>\n",
       "      <td>19.324110</td>\n",
       "      <td>-98.803256</td>\n",
       "      <td>11.307399</td>\n",
       "      <td>39.988871</td>\n",
       "      <td>3</td>\n",
       "      <td>3</td>\n",
       "      <td>1.408401</td>\n",
       "      <td>NaN</td>\n",
       "      <td>NaN</td>\n",
       "      <td>NaN</td>\n",
       "      <td>NaN</td>\n",
       "      <td>NaN</td>\n",
       "      <td>NaN</td>\n",
       "      <td>4.521701</td>\n",
       "    </tr>\n",
       "    <tr>\n",
       "      <th>47</th>\n",
       "      <td>Saudi Arabia</td>\n",
       "      <td>Riyadh</td>\n",
       "      <td>EMIT</td>\n",
       "      <td>24.614397</td>\n",
       "      <td>46.894349</td>\n",
       "      <td>14.939188</td>\n",
       "      <td>31.090489</td>\n",
       "      <td>9</td>\n",
       "      <td>9</td>\n",
       "      <td>4.090884</td>\n",
       "      <td>16443.35</td>\n",
       "      <td>0.042495</td>\n",
       "      <td>NaN</td>\n",
       "      <td>386950.65</td>\n",
       "      <td>METER/OSM</td>\n",
       "      <td>2022.0</td>\n",
       "      <td>4.644666</td>\n",
       "    </tr>\n",
       "  </tbody>\n",
       "</table>\n",
       "</div>"
      ],
      "text/plain": [
       "         country            name platform   latitude  longitude   emission  \\\n",
       "2      Argentina       Norte III     EMIT -34.527867 -58.623094  23.723598   \n",
       "7         Brazil        Caieiras     EMIT -23.346724 -46.771954  14.035058   \n",
       "8         Brazil        Pedreira     EMIT -23.403698 -46.560783  11.525591   \n",
       "9          China          Ürümqi     EMIT  44.038444  87.865135  10.652942   \n",
       "42        Mexico  Tecnosilicatos     EMIT  19.324110 -98.803256  11.307399   \n",
       "47  Saudi Arabia          Riyadh     EMIT  24.614397  46.894349  14.939188   \n",
       "\n",
       "    emission_uncertainty(%)  plume_count  overpass  wind_speed  \\\n",
       "2                 33.727829            4         4    2.889840   \n",
       "7                 34.313487            1         1    2.467657   \n",
       "8                 34.654589            1         1    2.598492   \n",
       "9                 41.183351            5         5    2.013745   \n",
       "42                39.988871            3         3    1.408401   \n",
       "47                31.090489            9         9    4.090884   \n",
       "\n",
       "    emissions_quantity  emissions_factor  capacity   activity metadata_source  \\\n",
       "2             28528.14          0.045643  900000.0  625026.97     Waste Atlas   \n",
       "7                  NaN               NaN       NaN        NaN             NaN   \n",
       "8                  NaN               NaN       NaN        NaN             NaN   \n",
       "9                  NaN               NaN       NaN        NaN             NaN   \n",
       "42                 NaN               NaN       NaN        NaN             NaN   \n",
       "47            16443.35          0.042495       NaN  386950.65       METER/OSM   \n",
       "\n",
       "    metadata_report_year  emission_uncertainty  \n",
       "2                 2013.0              8.001454  \n",
       "7                    NaN              4.815918  \n",
       "8                    NaN              3.994146  \n",
       "9                    NaN              4.387238  \n",
       "42                   NaN              4.521701  \n",
       "47                2022.0              4.644666  "
      ]
     },
     "execution_count": 10,
     "metadata": {},
     "output_type": "execute_result"
    }
   ],
   "source": [
    "df_summary[(df_summary['emission']>10)&(df_summary['platform']=='EMIT')]"
   ]
  },
  {
   "cell_type": "code",
   "execution_count": 11,
   "metadata": {},
   "outputs": [],
   "source": [
    "# df_summary_two = df_summary[df_summary['platform'].isin(['EMIT', 'EnMAP'])].groupby(['name']).mean().reset_index()\n",
    "# # df_summary_two['platform'] = 'EMIT and EnMAP'\n",
    "\n",
    "# df_summary_prisma = df_summary[df_summary['platform']=='PRISMA']\n",
    "# df_summary_two = df_summary_two[df_summary_two['name'].isin(df_summary_prisma['name'])][['name', 'emission', 'emission_uncertainty']]\n",
    "\n",
    "# df_summary_two = df_summary_two.rename(columns={'emission': 'EMIT and EnMAP', 'emission_uncertainty': 'EMIT and EnMAP uncertainty'})\n",
    "# df_summary_prisma = df_summary_prisma[['name', 'emission', 'emission_uncertainty']].rename(columns={'emission': 'PRISMA', 'emission_uncertainty': 'PRISMA uncertainty'})\n",
    "\n",
    "# df_summary_merge = df_summary_two.merge(df_summary_prisma, on='name')"
   ]
  },
  {
   "cell_type": "code",
   "execution_count": 12,
   "metadata": {},
   "outputs": [],
   "source": [
    "df_summary_prisma = df_summary[df_summary['platform']=='PRISMA']\n",
    "df_summary_prisma = df_summary_prisma[['name', 'emission', 'emission_uncertainty']].rename(columns={'emission': 'PRISMA', 'emission_uncertainty': 'PRISMA uncertainty'})\n",
    "\n",
    "df_summary_enmap = df_summary[df_summary['platform']=='EnMAP']\n",
    "df_summary_enmap = df_summary_enmap[['name', 'emission', 'emission_uncertainty']].rename(columns={'emission': 'EnMAP', 'emission_uncertainty': 'EnMAP uncertainty'})\n",
    "\n",
    "df_summary_emit = df_summary[df_summary['platform']=='EMIT']\n",
    "df_summary_emit = df_summary_emit[['name', 'emission', 'emission_uncertainty']].rename(columns={'emission': 'EMIT', 'emission_uncertainty': 'EMIT uncertainty'})\n",
    "\n",
    "df_summary_merge = df_summary_prisma.merge(df_summary_enmap, on='name', how='left').merge(df_summary_emit, on='name', how='left')"
   ]
  },
  {
   "cell_type": "code",
   "execution_count": 13,
   "metadata": {},
   "outputs": [
    {
     "data": {
      "text/html": [
       "<div>\n",
       "<style scoped>\n",
       "    .dataframe tbody tr th:only-of-type {\n",
       "        vertical-align: middle;\n",
       "    }\n",
       "\n",
       "    .dataframe tbody tr th {\n",
       "        vertical-align: top;\n",
       "    }\n",
       "\n",
       "    .dataframe thead th {\n",
       "        text-align: right;\n",
       "    }\n",
       "</style>\n",
       "<table border=\"1\" class=\"dataframe\">\n",
       "  <thead>\n",
       "    <tr style=\"text-align: right;\">\n",
       "      <th></th>\n",
       "      <th>name</th>\n",
       "      <th>PRISMA</th>\n",
       "      <th>PRISMA uncertainty</th>\n",
       "      <th>EnMAP</th>\n",
       "      <th>EnMAP uncertainty</th>\n",
       "      <th>EMIT</th>\n",
       "      <th>EMIT uncertainty</th>\n",
       "    </tr>\n",
       "  </thead>\n",
       "  <tbody>\n",
       "    <tr>\n",
       "      <th>0</th>\n",
       "      <td>Norte III</td>\n",
       "      <td>25.012967</td>\n",
       "      <td>7.184882</td>\n",
       "      <td>17.298987</td>\n",
       "      <td>4.364611</td>\n",
       "      <td>23.723598</td>\n",
       "      <td>8.001454</td>\n",
       "    </tr>\n",
       "    <tr>\n",
       "      <th>1</th>\n",
       "      <td>Kanjurmarg</td>\n",
       "      <td>13.114379</td>\n",
       "      <td>3.968522</td>\n",
       "      <td>6.600782</td>\n",
       "      <td>1.959854</td>\n",
       "      <td>5.248668</td>\n",
       "      <td>1.921297</td>\n",
       "    </tr>\n",
       "    <tr>\n",
       "      <th>2</th>\n",
       "      <td>Pirana</td>\n",
       "      <td>6.075245</td>\n",
       "      <td>2.052573</td>\n",
       "      <td>NaN</td>\n",
       "      <td>NaN</td>\n",
       "      <td>6.168756</td>\n",
       "      <td>2.207411</td>\n",
       "    </tr>\n",
       "    <tr>\n",
       "      <th>3</th>\n",
       "      <td>Lakhodair</td>\n",
       "      <td>19.331678</td>\n",
       "      <td>5.993502</td>\n",
       "      <td>NaN</td>\n",
       "      <td>NaN</td>\n",
       "      <td>4.675579</td>\n",
       "      <td>1.808901</td>\n",
       "    </tr>\n",
       "  </tbody>\n",
       "</table>\n",
       "</div>"
      ],
      "text/plain": [
       "         name     PRISMA  PRISMA uncertainty      EnMAP  EnMAP uncertainty  \\\n",
       "0   Norte III  25.012967            7.184882  17.298987           4.364611   \n",
       "1  Kanjurmarg  13.114379            3.968522   6.600782           1.959854   \n",
       "2      Pirana   6.075245            2.052573        NaN                NaN   \n",
       "3   Lakhodair  19.331678            5.993502        NaN                NaN   \n",
       "\n",
       "        EMIT  EMIT uncertainty  \n",
       "0  23.723598          8.001454  \n",
       "1   5.248668          1.921297  \n",
       "2   6.168756          2.207411  \n",
       "3   4.675579          1.808901  "
      ]
     },
     "execution_count": 13,
     "metadata": {},
     "output_type": "execute_result"
    }
   ],
   "source": [
    "df_summary_merge"
   ]
  },
  {
   "cell_type": "code",
   "execution_count": 14,
   "metadata": {},
   "outputs": [
    {
     "data": {
      "text/html": [
       "<div>\n",
       "<style scoped>\n",
       "    .dataframe tbody tr th:only-of-type {\n",
       "        vertical-align: middle;\n",
       "    }\n",
       "\n",
       "    .dataframe tbody tr th {\n",
       "        vertical-align: top;\n",
       "    }\n",
       "\n",
       "    .dataframe thead th {\n",
       "        text-align: right;\n",
       "    }\n",
       "</style>\n",
       "<table border=\"1\" class=\"dataframe\">\n",
       "  <thead>\n",
       "    <tr style=\"text-align: right;\">\n",
       "      <th></th>\n",
       "      <th>country</th>\n",
       "      <th>name</th>\n",
       "      <th>platform</th>\n",
       "      <th>latitude</th>\n",
       "      <th>longitude</th>\n",
       "      <th>emission</th>\n",
       "      <th>emission_uncertainty(%)</th>\n",
       "      <th>plume_count</th>\n",
       "      <th>overpass</th>\n",
       "      <th>wind_speed</th>\n",
       "      <th>emissions_quantity</th>\n",
       "      <th>emissions_factor</th>\n",
       "      <th>capacity</th>\n",
       "      <th>activity</th>\n",
       "      <th>metadata_source</th>\n",
       "      <th>metadata_report_year</th>\n",
       "      <th>emission_uncertainty</th>\n",
       "    </tr>\n",
       "  </thead>\n",
       "  <tbody>\n",
       "    <tr>\n",
       "      <th>0</th>\n",
       "      <td>Argentina</td>\n",
       "      <td>González Catán</td>\n",
       "      <td>EMIT</td>\n",
       "      <td>-34.784165</td>\n",
       "      <td>-58.665726</td>\n",
       "      <td>3.397676</td>\n",
       "      <td>38.305478</td>\n",
       "      <td>3</td>\n",
       "      <td>3</td>\n",
       "      <td>2.541348</td>\n",
       "      <td>19079.02</td>\n",
       "      <td>0.041004</td>\n",
       "      <td>1200000.00</td>\n",
       "      <td>465297.85</td>\n",
       "      <td>Waste Atlas</td>\n",
       "      <td>2013.0</td>\n",
       "      <td>1.301496</td>\n",
       "    </tr>\n",
       "    <tr>\n",
       "      <th>1</th>\n",
       "      <td>Argentina</td>\n",
       "      <td>González Catán</td>\n",
       "      <td>EnMAP</td>\n",
       "      <td>-34.785561</td>\n",
       "      <td>-58.667353</td>\n",
       "      <td>2.141890</td>\n",
       "      <td>29.913619</td>\n",
       "      <td>2</td>\n",
       "      <td>2</td>\n",
       "      <td>3.393430</td>\n",
       "      <td>19079.02</td>\n",
       "      <td>0.041004</td>\n",
       "      <td>1200000.00</td>\n",
       "      <td>465297.85</td>\n",
       "      <td>Waste Atlas</td>\n",
       "      <td>2013.0</td>\n",
       "      <td>0.640717</td>\n",
       "    </tr>\n",
       "    <tr>\n",
       "      <th>2</th>\n",
       "      <td>Argentina</td>\n",
       "      <td>Norte III</td>\n",
       "      <td>EMIT</td>\n",
       "      <td>-34.527867</td>\n",
       "      <td>-58.623094</td>\n",
       "      <td>23.723598</td>\n",
       "      <td>33.727829</td>\n",
       "      <td>4</td>\n",
       "      <td>4</td>\n",
       "      <td>2.889840</td>\n",
       "      <td>28528.14</td>\n",
       "      <td>0.045643</td>\n",
       "      <td>900000.00</td>\n",
       "      <td>625026.97</td>\n",
       "      <td>Waste Atlas</td>\n",
       "      <td>2013.0</td>\n",
       "      <td>8.001454</td>\n",
       "    </tr>\n",
       "    <tr>\n",
       "      <th>3</th>\n",
       "      <td>Argentina</td>\n",
       "      <td>Norte III</td>\n",
       "      <td>EnMAP</td>\n",
       "      <td>-34.527236</td>\n",
       "      <td>-58.628153</td>\n",
       "      <td>17.298987</td>\n",
       "      <td>25.230443</td>\n",
       "      <td>2</td>\n",
       "      <td>2</td>\n",
       "      <td>4.510046</td>\n",
       "      <td>28528.14</td>\n",
       "      <td>0.045643</td>\n",
       "      <td>900000.00</td>\n",
       "      <td>625026.97</td>\n",
       "      <td>Waste Atlas</td>\n",
       "      <td>2013.0</td>\n",
       "      <td>4.364611</td>\n",
       "    </tr>\n",
       "    <tr>\n",
       "      <th>4</th>\n",
       "      <td>Argentina</td>\n",
       "      <td>Norte III</td>\n",
       "      <td>PRISMA</td>\n",
       "      <td>-34.526585</td>\n",
       "      <td>-58.626461</td>\n",
       "      <td>25.012967</td>\n",
       "      <td>28.724630</td>\n",
       "      <td>2</td>\n",
       "      <td>2</td>\n",
       "      <td>3.078821</td>\n",
       "      <td>28528.14</td>\n",
       "      <td>0.045643</td>\n",
       "      <td>900000.00</td>\n",
       "      <td>625026.97</td>\n",
       "      <td>Waste Atlas</td>\n",
       "      <td>2013.0</td>\n",
       "      <td>7.184882</td>\n",
       "    </tr>\n",
       "    <tr>\n",
       "      <th>5</th>\n",
       "      <td>Argentina</td>\n",
       "      <td>Piedra Blanca</td>\n",
       "      <td>EMIT</td>\n",
       "      <td>-31.519801</td>\n",
       "      <td>-64.235391</td>\n",
       "      <td>3.347987</td>\n",
       "      <td>38.834970</td>\n",
       "      <td>2</td>\n",
       "      <td>2</td>\n",
       "      <td>3.919701</td>\n",
       "      <td>14902.44</td>\n",
       "      <td>0.041850</td>\n",
       "      <td>NaN</td>\n",
       "      <td>356094.72</td>\n",
       "      <td>METER/OSM</td>\n",
       "      <td>2022.0</td>\n",
       "      <td>1.300190</td>\n",
       "    </tr>\n",
       "    <tr>\n",
       "      <th>6</th>\n",
       "      <td>Bangladesh</td>\n",
       "      <td>Aminbazar</td>\n",
       "      <td>EMIT</td>\n",
       "      <td>23.797924</td>\n",
       "      <td>90.298762</td>\n",
       "      <td>4.092617</td>\n",
       "      <td>39.811138</td>\n",
       "      <td>1</td>\n",
       "      <td>1</td>\n",
       "      <td>3.373145</td>\n",
       "      <td>13506.95</td>\n",
       "      <td>0.046725</td>\n",
       "      <td>NaN</td>\n",
       "      <td>289072.51</td>\n",
       "      <td>METER/OSM</td>\n",
       "      <td>2022.0</td>\n",
       "      <td>1.629317</td>\n",
       "    </tr>\n",
       "    <tr>\n",
       "      <th>7</th>\n",
       "      <td>Brazil</td>\n",
       "      <td>Caieiras</td>\n",
       "      <td>EMIT</td>\n",
       "      <td>-23.346724</td>\n",
       "      <td>-46.771954</td>\n",
       "      <td>14.035058</td>\n",
       "      <td>34.313487</td>\n",
       "      <td>1</td>\n",
       "      <td>1</td>\n",
       "      <td>2.467657</td>\n",
       "      <td>NaN</td>\n",
       "      <td>NaN</td>\n",
       "      <td>NaN</td>\n",
       "      <td>NaN</td>\n",
       "      <td>NaN</td>\n",
       "      <td>NaN</td>\n",
       "      <td>4.815918</td>\n",
       "    </tr>\n",
       "    <tr>\n",
       "      <th>8</th>\n",
       "      <td>Brazil</td>\n",
       "      <td>Pedreira</td>\n",
       "      <td>EMIT</td>\n",
       "      <td>-23.403698</td>\n",
       "      <td>-46.560783</td>\n",
       "      <td>11.525591</td>\n",
       "      <td>34.654589</td>\n",
       "      <td>1</td>\n",
       "      <td>1</td>\n",
       "      <td>2.598492</td>\n",
       "      <td>NaN</td>\n",
       "      <td>NaN</td>\n",
       "      <td>NaN</td>\n",
       "      <td>NaN</td>\n",
       "      <td>NaN</td>\n",
       "      <td>NaN</td>\n",
       "      <td>3.994146</td>\n",
       "    </tr>\n",
       "    <tr>\n",
       "      <th>9</th>\n",
       "      <td>China</td>\n",
       "      <td>Ürümqi</td>\n",
       "      <td>EMIT</td>\n",
       "      <td>44.038444</td>\n",
       "      <td>87.865135</td>\n",
       "      <td>10.652942</td>\n",
       "      <td>41.183351</td>\n",
       "      <td>5</td>\n",
       "      <td>5</td>\n",
       "      <td>2.013745</td>\n",
       "      <td>NaN</td>\n",
       "      <td>NaN</td>\n",
       "      <td>NaN</td>\n",
       "      <td>NaN</td>\n",
       "      <td>NaN</td>\n",
       "      <td>NaN</td>\n",
       "      <td>4.387238</td>\n",
       "    </tr>\n",
       "    <tr>\n",
       "      <th>10</th>\n",
       "      <td>India</td>\n",
       "      <td>Bandhwari</td>\n",
       "      <td>EMIT</td>\n",
       "      <td>28.401837</td>\n",
       "      <td>77.172197</td>\n",
       "      <td>1.920719</td>\n",
       "      <td>38.771805</td>\n",
       "      <td>2</td>\n",
       "      <td>3</td>\n",
       "      <td>2.153447</td>\n",
       "      <td>138.51</td>\n",
       "      <td>0.054080</td>\n",
       "      <td>1361.51</td>\n",
       "      <td>2561.19</td>\n",
       "      <td>Global Plastic Watch</td>\n",
       "      <td>2021.0</td>\n",
       "      <td>0.744697</td>\n",
       "    </tr>\n",
       "    <tr>\n",
       "      <th>11</th>\n",
       "      <td>India</td>\n",
       "      <td>Bandhwari</td>\n",
       "      <td>EnMAP</td>\n",
       "      <td>28.402294</td>\n",
       "      <td>77.171148</td>\n",
       "      <td>2.875267</td>\n",
       "      <td>29.877167</td>\n",
       "      <td>2</td>\n",
       "      <td>2</td>\n",
       "      <td>2.594270</td>\n",
       "      <td>138.51</td>\n",
       "      <td>0.054080</td>\n",
       "      <td>1361.51</td>\n",
       "      <td>2561.19</td>\n",
       "      <td>Global Plastic Watch</td>\n",
       "      <td>2021.0</td>\n",
       "      <td>0.859048</td>\n",
       "    </tr>\n",
       "    <tr>\n",
       "      <th>12</th>\n",
       "      <td>India</td>\n",
       "      <td>Bhalswa</td>\n",
       "      <td>EMIT</td>\n",
       "      <td>28.741622</td>\n",
       "      <td>77.156617</td>\n",
       "      <td>2.363708</td>\n",
       "      <td>37.649186</td>\n",
       "      <td>3</td>\n",
       "      <td>3</td>\n",
       "      <td>2.002129</td>\n",
       "      <td>12063.37</td>\n",
       "      <td>0.046983</td>\n",
       "      <td>161799.83</td>\n",
       "      <td>256761.58</td>\n",
       "      <td>Waste Atlas</td>\n",
       "      <td>2013.0</td>\n",
       "      <td>0.889917</td>\n",
       "    </tr>\n",
       "    <tr>\n",
       "      <th>13</th>\n",
       "      <td>India</td>\n",
       "      <td>Bhalswa</td>\n",
       "      <td>EnMAP</td>\n",
       "      <td>28.741945</td>\n",
       "      <td>77.156340</td>\n",
       "      <td>2.066236</td>\n",
       "      <td>34.146819</td>\n",
       "      <td>3</td>\n",
       "      <td>3</td>\n",
       "      <td>1.921542</td>\n",
       "      <td>12063.37</td>\n",
       "      <td>0.046983</td>\n",
       "      <td>161799.83</td>\n",
       "      <td>256761.58</td>\n",
       "      <td>Waste Atlas</td>\n",
       "      <td>2013.0</td>\n",
       "      <td>0.705554</td>\n",
       "    </tr>\n",
       "    <tr>\n",
       "      <th>14</th>\n",
       "      <td>India</td>\n",
       "      <td>Deonar</td>\n",
       "      <td>EMIT</td>\n",
       "      <td>19.072591</td>\n",
       "      <td>72.928801</td>\n",
       "      <td>3.693651</td>\n",
       "      <td>41.608693</td>\n",
       "      <td>1</td>\n",
       "      <td>1</td>\n",
       "      <td>2.031970</td>\n",
       "      <td>21029.56</td>\n",
       "      <td>0.053694</td>\n",
       "      <td>1325080.24</td>\n",
       "      <td>391657.52</td>\n",
       "      <td>Waste Atlas</td>\n",
       "      <td>2013.0</td>\n",
       "      <td>1.536880</td>\n",
       "    </tr>\n",
       "    <tr>\n",
       "      <th>15</th>\n",
       "      <td>India</td>\n",
       "      <td>Deonar</td>\n",
       "      <td>EnMAP</td>\n",
       "      <td>19.072906</td>\n",
       "      <td>72.928132</td>\n",
       "      <td>0.706287</td>\n",
       "      <td>44.230773</td>\n",
       "      <td>1</td>\n",
       "      <td>2</td>\n",
       "      <td>1.397619</td>\n",
       "      <td>21029.56</td>\n",
       "      <td>0.053694</td>\n",
       "      <td>1325080.24</td>\n",
       "      <td>391657.52</td>\n",
       "      <td>Waste Atlas</td>\n",
       "      <td>2013.0</td>\n",
       "      <td>0.312396</td>\n",
       "    </tr>\n",
       "    <tr>\n",
       "      <th>16</th>\n",
       "      <td>India</td>\n",
       "      <td>Ghazipur</td>\n",
       "      <td>EMIT</td>\n",
       "      <td>28.623597</td>\n",
       "      <td>77.328160</td>\n",
       "      <td>4.735138</td>\n",
       "      <td>36.608978</td>\n",
       "      <td>4</td>\n",
       "      <td>4</td>\n",
       "      <td>1.841733</td>\n",
       "      <td>17137.49</td>\n",
       "      <td>0.048058</td>\n",
       "      <td>300505.05</td>\n",
       "      <td>356603.52</td>\n",
       "      <td>Waste Atlas</td>\n",
       "      <td>2013.0</td>\n",
       "      <td>1.733486</td>\n",
       "    </tr>\n",
       "    <tr>\n",
       "      <th>17</th>\n",
       "      <td>India</td>\n",
       "      <td>Ghazipur</td>\n",
       "      <td>EnMAP</td>\n",
       "      <td>28.623874</td>\n",
       "      <td>77.327319</td>\n",
       "      <td>3.192928</td>\n",
       "      <td>30.700437</td>\n",
       "      <td>5</td>\n",
       "      <td>5</td>\n",
       "      <td>2.719701</td>\n",
       "      <td>17137.49</td>\n",
       "      <td>0.048058</td>\n",
       "      <td>300505.05</td>\n",
       "      <td>356603.52</td>\n",
       "      <td>Waste Atlas</td>\n",
       "      <td>2013.0</td>\n",
       "      <td>0.980243</td>\n",
       "    </tr>\n",
       "    <tr>\n",
       "      <th>18</th>\n",
       "      <td>India</td>\n",
       "      <td>Kachara</td>\n",
       "      <td>EMIT</td>\n",
       "      <td>18.658858</td>\n",
       "      <td>73.855802</td>\n",
       "      <td>3.760001</td>\n",
       "      <td>41.025347</td>\n",
       "      <td>1</td>\n",
       "      <td>1</td>\n",
       "      <td>2.523753</td>\n",
       "      <td>3061.39</td>\n",
       "      <td>0.046682</td>\n",
       "      <td>34102.72</td>\n",
       "      <td>65580.24</td>\n",
       "      <td>Global Plastic Watch</td>\n",
       "      <td>2021.0</td>\n",
       "      <td>1.542553</td>\n",
       "    </tr>\n",
       "    <tr>\n",
       "      <th>19</th>\n",
       "      <td>India</td>\n",
       "      <td>Kanjurmarg</td>\n",
       "      <td>EMIT</td>\n",
       "      <td>19.122178</td>\n",
       "      <td>72.952702</td>\n",
       "      <td>5.248668</td>\n",
       "      <td>36.605423</td>\n",
       "      <td>1</td>\n",
       "      <td>1</td>\n",
       "      <td>1.833252</td>\n",
       "      <td>3872.44</td>\n",
       "      <td>0.050050</td>\n",
       "      <td>38354.50</td>\n",
       "      <td>77371.17</td>\n",
       "      <td>Global Plastic Watch</td>\n",
       "      <td>2021.0</td>\n",
       "      <td>1.921297</td>\n",
       "    </tr>\n",
       "    <tr>\n",
       "      <th>20</th>\n",
       "      <td>India</td>\n",
       "      <td>Kanjurmarg</td>\n",
       "      <td>EnMAP</td>\n",
       "      <td>19.123882</td>\n",
       "      <td>72.951137</td>\n",
       "      <td>6.600782</td>\n",
       "      <td>29.691234</td>\n",
       "      <td>1</td>\n",
       "      <td>1</td>\n",
       "      <td>1.477495</td>\n",
       "      <td>3872.44</td>\n",
       "      <td>0.050050</td>\n",
       "      <td>38354.50</td>\n",
       "      <td>77371.17</td>\n",
       "      <td>Global Plastic Watch</td>\n",
       "      <td>2021.0</td>\n",
       "      <td>1.959854</td>\n",
       "    </tr>\n",
       "    <tr>\n",
       "      <th>21</th>\n",
       "      <td>India</td>\n",
       "      <td>Kanjurmarg</td>\n",
       "      <td>PRISMA</td>\n",
       "      <td>19.123811</td>\n",
       "      <td>72.952129</td>\n",
       "      <td>13.114379</td>\n",
       "      <td>30.260846</td>\n",
       "      <td>2</td>\n",
       "      <td>2</td>\n",
       "      <td>1.692903</td>\n",
       "      <td>3872.44</td>\n",
       "      <td>0.050050</td>\n",
       "      <td>38354.50</td>\n",
       "      <td>77371.17</td>\n",
       "      <td>Global Plastic Watch</td>\n",
       "      <td>2021.0</td>\n",
       "      <td>3.968522</td>\n",
       "    </tr>\n",
       "    <tr>\n",
       "      <th>22</th>\n",
       "      <td>India</td>\n",
       "      <td>Majura</td>\n",
       "      <td>EMIT</td>\n",
       "      <td>21.108941</td>\n",
       "      <td>72.808079</td>\n",
       "      <td>6.859796</td>\n",
       "      <td>30.903896</td>\n",
       "      <td>3</td>\n",
       "      <td>3</td>\n",
       "      <td>3.836720</td>\n",
       "      <td>1521.30</td>\n",
       "      <td>0.050804</td>\n",
       "      <td>17243.09</td>\n",
       "      <td>29944.37</td>\n",
       "      <td>Global Plastic Watch</td>\n",
       "      <td>2021.0</td>\n",
       "      <td>2.119944</td>\n",
       "    </tr>\n",
       "    <tr>\n",
       "      <th>23</th>\n",
       "      <td>India</td>\n",
       "      <td>Manter Wadi</td>\n",
       "      <td>EMIT</td>\n",
       "      <td>18.470196</td>\n",
       "      <td>73.953656</td>\n",
       "      <td>3.688931</td>\n",
       "      <td>39.664332</td>\n",
       "      <td>1</td>\n",
       "      <td>1</td>\n",
       "      <td>2.862048</td>\n",
       "      <td>2484.85</td>\n",
       "      <td>0.045233</td>\n",
       "      <td>27393.39</td>\n",
       "      <td>54934.85</td>\n",
       "      <td>Global Plastic Watch</td>\n",
       "      <td>2021.0</td>\n",
       "      <td>1.463190</td>\n",
       "    </tr>\n",
       "    <tr>\n",
       "      <th>24</th>\n",
       "      <td>India</td>\n",
       "      <td>Okhla</td>\n",
       "      <td>EMIT</td>\n",
       "      <td>28.508752</td>\n",
       "      <td>77.285984</td>\n",
       "      <td>1.537538</td>\n",
       "      <td>37.534442</td>\n",
       "      <td>2</td>\n",
       "      <td>3</td>\n",
       "      <td>2.125372</td>\n",
       "      <td>16958.80</td>\n",
       "      <td>0.050782</td>\n",
       "      <td>NaN</td>\n",
       "      <td>333951.64</td>\n",
       "      <td>METER/OSM</td>\n",
       "      <td>2022.0</td>\n",
       "      <td>0.577106</td>\n",
       "    </tr>\n",
       "    <tr>\n",
       "      <th>25</th>\n",
       "      <td>India</td>\n",
       "      <td>Okhla</td>\n",
       "      <td>EnMAP</td>\n",
       "      <td>28.511039</td>\n",
       "      <td>77.283773</td>\n",
       "      <td>2.281685</td>\n",
       "      <td>33.040790</td>\n",
       "      <td>5</td>\n",
       "      <td>5</td>\n",
       "      <td>2.702079</td>\n",
       "      <td>16958.80</td>\n",
       "      <td>0.050782</td>\n",
       "      <td>NaN</td>\n",
       "      <td>333951.64</td>\n",
       "      <td>METER/OSM</td>\n",
       "      <td>2022.0</td>\n",
       "      <td>0.753887</td>\n",
       "    </tr>\n",
       "    <tr>\n",
       "      <th>26</th>\n",
       "      <td>India</td>\n",
       "      <td>Pirana</td>\n",
       "      <td>EMIT</td>\n",
       "      <td>22.981863</td>\n",
       "      <td>72.568043</td>\n",
       "      <td>6.168756</td>\n",
       "      <td>35.783734</td>\n",
       "      <td>1</td>\n",
       "      <td>1</td>\n",
       "      <td>3.103969</td>\n",
       "      <td>19285.05</td>\n",
       "      <td>0.048327</td>\n",
       "      <td>649995.49</td>\n",
       "      <td>399053.89</td>\n",
       "      <td>Waste Atlas</td>\n",
       "      <td>2013.0</td>\n",
       "      <td>2.207411</td>\n",
       "    </tr>\n",
       "    <tr>\n",
       "      <th>27</th>\n",
       "      <td>India</td>\n",
       "      <td>Pirana</td>\n",
       "      <td>PRISMA</td>\n",
       "      <td>22.982893</td>\n",
       "      <td>72.570045</td>\n",
       "      <td>6.075245</td>\n",
       "      <td>33.785852</td>\n",
       "      <td>5</td>\n",
       "      <td>28</td>\n",
       "      <td>2.064798</td>\n",
       "      <td>19285.05</td>\n",
       "      <td>0.048327</td>\n",
       "      <td>649995.49</td>\n",
       "      <td>399053.89</td>\n",
       "      <td>Waste Atlas</td>\n",
       "      <td>2013.0</td>\n",
       "      <td>2.052573</td>\n",
       "    </tr>\n",
       "    <tr>\n",
       "      <th>28</th>\n",
       "      <td>Iran</td>\n",
       "      <td>Mashhad</td>\n",
       "      <td>EMIT</td>\n",
       "      <td>36.239164</td>\n",
       "      <td>59.988163</td>\n",
       "      <td>3.718247</td>\n",
       "      <td>42.158996</td>\n",
       "      <td>8</td>\n",
       "      <td>8</td>\n",
       "      <td>1.860458</td>\n",
       "      <td>NaN</td>\n",
       "      <td>NaN</td>\n",
       "      <td>NaN</td>\n",
       "      <td>NaN</td>\n",
       "      <td>NaN</td>\n",
       "      <td>NaN</td>\n",
       "      <td>1.567576</td>\n",
       "    </tr>\n",
       "    <tr>\n",
       "      <th>29</th>\n",
       "      <td>Iran</td>\n",
       "      <td>Tehran</td>\n",
       "      <td>EMIT</td>\n",
       "      <td>35.458524</td>\n",
       "      <td>51.330151</td>\n",
       "      <td>7.781694</td>\n",
       "      <td>36.458250</td>\n",
       "      <td>9</td>\n",
       "      <td>9</td>\n",
       "      <td>2.425544</td>\n",
       "      <td>179194.10</td>\n",
       "      <td>0.047196</td>\n",
       "      <td>5000000.00</td>\n",
       "      <td>3796846.57</td>\n",
       "      <td>Waste Atlas</td>\n",
       "      <td>2013.0</td>\n",
       "      <td>2.837069</td>\n",
       "    </tr>\n",
       "    <tr>\n",
       "      <th>30</th>\n",
       "      <td>Israel</td>\n",
       "      <td>Dudaim</td>\n",
       "      <td>EMIT</td>\n",
       "      <td>31.318773</td>\n",
       "      <td>34.740991</td>\n",
       "      <td>5.361973</td>\n",
       "      <td>35.011616</td>\n",
       "      <td>7</td>\n",
       "      <td>7</td>\n",
       "      <td>3.728576</td>\n",
       "      <td>NaN</td>\n",
       "      <td>NaN</td>\n",
       "      <td>NaN</td>\n",
       "      <td>NaN</td>\n",
       "      <td>NaN</td>\n",
       "      <td>NaN</td>\n",
       "      <td>1.877313</td>\n",
       "    </tr>\n",
       "    <tr>\n",
       "      <th>31</th>\n",
       "      <td>Israel</td>\n",
       "      <td>Dudaim</td>\n",
       "      <td>EnMAP</td>\n",
       "      <td>31.324707</td>\n",
       "      <td>34.737506</td>\n",
       "      <td>6.974509</td>\n",
       "      <td>32.486975</td>\n",
       "      <td>2</td>\n",
       "      <td>2</td>\n",
       "      <td>2.973445</td>\n",
       "      <td>NaN</td>\n",
       "      <td>NaN</td>\n",
       "      <td>NaN</td>\n",
       "      <td>NaN</td>\n",
       "      <td>NaN</td>\n",
       "      <td>NaN</td>\n",
       "      <td>2.265807</td>\n",
       "    </tr>\n",
       "    <tr>\n",
       "      <th>32</th>\n",
       "      <td>Israel</td>\n",
       "      <td>Tamar</td>\n",
       "      <td>EMIT</td>\n",
       "      <td>31.132045</td>\n",
       "      <td>35.200768</td>\n",
       "      <td>5.673907</td>\n",
       "      <td>37.686208</td>\n",
       "      <td>7</td>\n",
       "      <td>7</td>\n",
       "      <td>2.244578</td>\n",
       "      <td>NaN</td>\n",
       "      <td>NaN</td>\n",
       "      <td>NaN</td>\n",
       "      <td>NaN</td>\n",
       "      <td>NaN</td>\n",
       "      <td>NaN</td>\n",
       "      <td>2.138280</td>\n",
       "    </tr>\n",
       "    <tr>\n",
       "      <th>33</th>\n",
       "      <td>Israel</td>\n",
       "      <td>Tamar</td>\n",
       "      <td>EnMAP</td>\n",
       "      <td>31.133823</td>\n",
       "      <td>35.201835</td>\n",
       "      <td>4.730211</td>\n",
       "      <td>31.109496</td>\n",
       "      <td>3</td>\n",
       "      <td>3</td>\n",
       "      <td>1.790126</td>\n",
       "      <td>NaN</td>\n",
       "      <td>NaN</td>\n",
       "      <td>NaN</td>\n",
       "      <td>NaN</td>\n",
       "      <td>NaN</td>\n",
       "      <td>NaN</td>\n",
       "      <td>1.471545</td>\n",
       "    </tr>\n",
       "    <tr>\n",
       "      <th>34</th>\n",
       "      <td>Jordan</td>\n",
       "      <td>Al Akaider</td>\n",
       "      <td>EMIT</td>\n",
       "      <td>32.514190</td>\n",
       "      <td>36.111894</td>\n",
       "      <td>4.890580</td>\n",
       "      <td>36.223475</td>\n",
       "      <td>6</td>\n",
       "      <td>7</td>\n",
       "      <td>3.442760</td>\n",
       "      <td>14307.25</td>\n",
       "      <td>0.039617</td>\n",
       "      <td>900423.73</td>\n",
       "      <td>361134.65</td>\n",
       "      <td>Waste Atlas</td>\n",
       "      <td>2013.0</td>\n",
       "      <td>1.771538</td>\n",
       "    </tr>\n",
       "    <tr>\n",
       "      <th>35</th>\n",
       "      <td>Jordan</td>\n",
       "      <td>Al Akaider</td>\n",
       "      <td>EnMAP</td>\n",
       "      <td>32.514321</td>\n",
       "      <td>36.108275</td>\n",
       "      <td>2.275887</td>\n",
       "      <td>33.553773</td>\n",
       "      <td>1</td>\n",
       "      <td>1</td>\n",
       "      <td>2.628152</td>\n",
       "      <td>14307.25</td>\n",
       "      <td>0.039617</td>\n",
       "      <td>900423.73</td>\n",
       "      <td>361134.65</td>\n",
       "      <td>Waste Atlas</td>\n",
       "      <td>2013.0</td>\n",
       "      <td>0.763646</td>\n",
       "    </tr>\n",
       "    <tr>\n",
       "      <th>36</th>\n",
       "      <td>Jordan</td>\n",
       "      <td>Ghabawi</td>\n",
       "      <td>EMIT</td>\n",
       "      <td>31.930161</td>\n",
       "      <td>36.188811</td>\n",
       "      <td>8.358493</td>\n",
       "      <td>28.886960</td>\n",
       "      <td>14</td>\n",
       "      <td>14</td>\n",
       "      <td>4.963657</td>\n",
       "      <td>63676.34</td>\n",
       "      <td>0.041089</td>\n",
       "      <td>1400000.00</td>\n",
       "      <td>1549733.29</td>\n",
       "      <td>Waste Atlas</td>\n",
       "      <td>2013.0</td>\n",
       "      <td>2.414515</td>\n",
       "    </tr>\n",
       "    <tr>\n",
       "      <th>37</th>\n",
       "      <td>Kuwait</td>\n",
       "      <td>Kabd</td>\n",
       "      <td>EMIT</td>\n",
       "      <td>29.161677</td>\n",
       "      <td>47.915883</td>\n",
       "      <td>7.773647</td>\n",
       "      <td>31.627502</td>\n",
       "      <td>6</td>\n",
       "      <td>6</td>\n",
       "      <td>5.096696</td>\n",
       "      <td>13368.43</td>\n",
       "      <td>0.036576</td>\n",
       "      <td>NaN</td>\n",
       "      <td>365497.54</td>\n",
       "      <td>METER/OSM</td>\n",
       "      <td>2022.0</td>\n",
       "      <td>2.458610</td>\n",
       "    </tr>\n",
       "    <tr>\n",
       "      <th>38</th>\n",
       "      <td>Kuwait</td>\n",
       "      <td>Kabd</td>\n",
       "      <td>EnMAP</td>\n",
       "      <td>29.165079</td>\n",
       "      <td>47.911632</td>\n",
       "      <td>6.486344</td>\n",
       "      <td>28.556352</td>\n",
       "      <td>4</td>\n",
       "      <td>4</td>\n",
       "      <td>4.265533</td>\n",
       "      <td>13368.43</td>\n",
       "      <td>0.036576</td>\n",
       "      <td>NaN</td>\n",
       "      <td>365497.54</td>\n",
       "      <td>METER/OSM</td>\n",
       "      <td>2022.0</td>\n",
       "      <td>1.852263</td>\n",
       "    </tr>\n",
       "    <tr>\n",
       "      <th>39</th>\n",
       "      <td>Mexico</td>\n",
       "      <td>Relleno Sanitario Bicentenario</td>\n",
       "      <td>EMIT</td>\n",
       "      <td>19.651212</td>\n",
       "      <td>-99.278763</td>\n",
       "      <td>2.375300</td>\n",
       "      <td>40.573417</td>\n",
       "      <td>1</td>\n",
       "      <td>1</td>\n",
       "      <td>2.339041</td>\n",
       "      <td>11409.52</td>\n",
       "      <td>0.044804</td>\n",
       "      <td>NaN</td>\n",
       "      <td>254652.91</td>\n",
       "      <td>MEX INEGI</td>\n",
       "      <td>2016.0</td>\n",
       "      <td>0.963740</td>\n",
       "    </tr>\n",
       "    <tr>\n",
       "      <th>40</th>\n",
       "      <td>Mexico</td>\n",
       "      <td>Relleno Sanitario Peña De Gatos</td>\n",
       "      <td>EMIT</td>\n",
       "      <td>19.403134</td>\n",
       "      <td>-98.842211</td>\n",
       "      <td>2.430212</td>\n",
       "      <td>45.020254</td>\n",
       "      <td>3</td>\n",
       "      <td>3</td>\n",
       "      <td>1.530973</td>\n",
       "      <td>NaN</td>\n",
       "      <td>NaN</td>\n",
       "      <td>NaN</td>\n",
       "      <td>NaN</td>\n",
       "      <td>NaN</td>\n",
       "      <td>NaN</td>\n",
       "      <td>1.094088</td>\n",
       "    </tr>\n",
       "    <tr>\n",
       "      <th>41</th>\n",
       "      <td>Mexico</td>\n",
       "      <td>Simeprodeso</td>\n",
       "      <td>EMIT</td>\n",
       "      <td>25.871232</td>\n",
       "      <td>-100.299335</td>\n",
       "      <td>5.508303</td>\n",
       "      <td>39.035357</td>\n",
       "      <td>5</td>\n",
       "      <td>5</td>\n",
       "      <td>2.310103</td>\n",
       "      <td>156509.45</td>\n",
       "      <td>0.041640</td>\n",
       "      <td>NaN</td>\n",
       "      <td>3758610.81</td>\n",
       "      <td>MEX INEGI</td>\n",
       "      <td>2022.0</td>\n",
       "      <td>2.150186</td>\n",
       "    </tr>\n",
       "    <tr>\n",
       "      <th>42</th>\n",
       "      <td>Mexico</td>\n",
       "      <td>Tecnosilicatos</td>\n",
       "      <td>EMIT</td>\n",
       "      <td>19.324110</td>\n",
       "      <td>-98.803256</td>\n",
       "      <td>11.307399</td>\n",
       "      <td>39.988871</td>\n",
       "      <td>3</td>\n",
       "      <td>3</td>\n",
       "      <td>1.408401</td>\n",
       "      <td>NaN</td>\n",
       "      <td>NaN</td>\n",
       "      <td>NaN</td>\n",
       "      <td>NaN</td>\n",
       "      <td>NaN</td>\n",
       "      <td>NaN</td>\n",
       "      <td>4.521701</td>\n",
       "    </tr>\n",
       "    <tr>\n",
       "      <th>43</th>\n",
       "      <td>Mexico</td>\n",
       "      <td>Zumpango</td>\n",
       "      <td>EMIT</td>\n",
       "      <td>19.795353</td>\n",
       "      <td>-99.010035</td>\n",
       "      <td>2.099992</td>\n",
       "      <td>44.249936</td>\n",
       "      <td>1</td>\n",
       "      <td>1</td>\n",
       "      <td>0.779996</td>\n",
       "      <td>NaN</td>\n",
       "      <td>NaN</td>\n",
       "      <td>NaN</td>\n",
       "      <td>NaN</td>\n",
       "      <td>NaN</td>\n",
       "      <td>NaN</td>\n",
       "      <td>0.929245</td>\n",
       "    </tr>\n",
       "    <tr>\n",
       "      <th>44</th>\n",
       "      <td>Pakistan</td>\n",
       "      <td>Jam Chakro</td>\n",
       "      <td>EMIT</td>\n",
       "      <td>25.026993</td>\n",
       "      <td>67.035862</td>\n",
       "      <td>5.237231</td>\n",
       "      <td>35.936065</td>\n",
       "      <td>1</td>\n",
       "      <td>1</td>\n",
       "      <td>4.088033</td>\n",
       "      <td>17154.32</td>\n",
       "      <td>0.045909</td>\n",
       "      <td>1130306.02</td>\n",
       "      <td>373656.31</td>\n",
       "      <td>Waste Atlas</td>\n",
       "      <td>2013.0</td>\n",
       "      <td>1.882055</td>\n",
       "    </tr>\n",
       "    <tr>\n",
       "      <th>45</th>\n",
       "      <td>Pakistan</td>\n",
       "      <td>Lakhodair</td>\n",
       "      <td>EMIT</td>\n",
       "      <td>31.623918</td>\n",
       "      <td>74.414125</td>\n",
       "      <td>4.675579</td>\n",
       "      <td>38.688275</td>\n",
       "      <td>1</td>\n",
       "      <td>1</td>\n",
       "      <td>2.213925</td>\n",
       "      <td>NaN</td>\n",
       "      <td>NaN</td>\n",
       "      <td>NaN</td>\n",
       "      <td>NaN</td>\n",
       "      <td>NaN</td>\n",
       "      <td>NaN</td>\n",
       "      <td>1.808901</td>\n",
       "    </tr>\n",
       "    <tr>\n",
       "      <th>46</th>\n",
       "      <td>Pakistan</td>\n",
       "      <td>Lakhodair</td>\n",
       "      <td>PRISMA</td>\n",
       "      <td>31.625778</td>\n",
       "      <td>74.420998</td>\n",
       "      <td>19.331678</td>\n",
       "      <td>31.003526</td>\n",
       "      <td>1</td>\n",
       "      <td>2</td>\n",
       "      <td>2.138016</td>\n",
       "      <td>NaN</td>\n",
       "      <td>NaN</td>\n",
       "      <td>NaN</td>\n",
       "      <td>NaN</td>\n",
       "      <td>NaN</td>\n",
       "      <td>NaN</td>\n",
       "      <td>5.993502</td>\n",
       "    </tr>\n",
       "    <tr>\n",
       "      <th>47</th>\n",
       "      <td>Saudi Arabia</td>\n",
       "      <td>Riyadh</td>\n",
       "      <td>EMIT</td>\n",
       "      <td>24.614397</td>\n",
       "      <td>46.894349</td>\n",
       "      <td>14.939188</td>\n",
       "      <td>31.090489</td>\n",
       "      <td>9</td>\n",
       "      <td>9</td>\n",
       "      <td>4.090884</td>\n",
       "      <td>16443.35</td>\n",
       "      <td>0.042495</td>\n",
       "      <td>NaN</td>\n",
       "      <td>386950.65</td>\n",
       "      <td>METER/OSM</td>\n",
       "      <td>2022.0</td>\n",
       "      <td>4.644666</td>\n",
       "    </tr>\n",
       "    <tr>\n",
       "      <th>48</th>\n",
       "      <td>Saudi Arabia</td>\n",
       "      <td>Riyadh</td>\n",
       "      <td>EnMAP</td>\n",
       "      <td>24.616646</td>\n",
       "      <td>46.896347</td>\n",
       "      <td>8.999776</td>\n",
       "      <td>25.980342</td>\n",
       "      <td>2</td>\n",
       "      <td>2</td>\n",
       "      <td>4.365471</td>\n",
       "      <td>16443.35</td>\n",
       "      <td>0.042495</td>\n",
       "      <td>NaN</td>\n",
       "      <td>386950.65</td>\n",
       "      <td>METER/OSM</td>\n",
       "      <td>2022.0</td>\n",
       "      <td>2.338173</td>\n",
       "    </tr>\n",
       "    <tr>\n",
       "      <th>49</th>\n",
       "      <td>Spain</td>\n",
       "      <td>Pinto</td>\n",
       "      <td>EMIT</td>\n",
       "      <td>40.263559</td>\n",
       "      <td>-3.631598</td>\n",
       "      <td>7.139583</td>\n",
       "      <td>35.011807</td>\n",
       "      <td>1</td>\n",
       "      <td>1</td>\n",
       "      <td>1.498860</td>\n",
       "      <td>13600.00</td>\n",
       "      <td>NaN</td>\n",
       "      <td>NaN</td>\n",
       "      <td>NaN</td>\n",
       "      <td>E-PRTR</td>\n",
       "      <td>2021.0</td>\n",
       "      <td>2.499697</td>\n",
       "    </tr>\n",
       "    <tr>\n",
       "      <th>50</th>\n",
       "      <td>Tunisia</td>\n",
       "      <td>Jebel Chakir</td>\n",
       "      <td>EMIT</td>\n",
       "      <td>36.737081</td>\n",
       "      <td>10.077501</td>\n",
       "      <td>5.545765</td>\n",
       "      <td>35.919492</td>\n",
       "      <td>5</td>\n",
       "      <td>5</td>\n",
       "      <td>3.907493</td>\n",
       "      <td>NaN</td>\n",
       "      <td>NaN</td>\n",
       "      <td>NaN</td>\n",
       "      <td>NaN</td>\n",
       "      <td>NaN</td>\n",
       "      <td>NaN</td>\n",
       "      <td>1.992011</td>\n",
       "    </tr>\n",
       "    <tr>\n",
       "      <th>51</th>\n",
       "      <td>United States</td>\n",
       "      <td>Charlotte Motor Speedway</td>\n",
       "      <td>EMIT</td>\n",
       "      <td>35.340455</td>\n",
       "      <td>-80.657863</td>\n",
       "      <td>4.850443</td>\n",
       "      <td>41.802398</td>\n",
       "      <td>3</td>\n",
       "      <td>3</td>\n",
       "      <td>1.331377</td>\n",
       "      <td>6427.93</td>\n",
       "      <td>0.006404</td>\n",
       "      <td>1191407.00</td>\n",
       "      <td>1003799.92</td>\n",
       "      <td>EPA GHGRP</td>\n",
       "      <td>2021.0</td>\n",
       "      <td>2.027601</td>\n",
       "    </tr>\n",
       "    <tr>\n",
       "      <th>52</th>\n",
       "      <td>United States</td>\n",
       "      <td>Seminole Road</td>\n",
       "      <td>EnMAP</td>\n",
       "      <td>33.662132</td>\n",
       "      <td>-84.256956</td>\n",
       "      <td>2.892554</td>\n",
       "      <td>26.475571</td>\n",
       "      <td>2</td>\n",
       "      <td>2</td>\n",
       "      <td>4.940348</td>\n",
       "      <td>12290.71</td>\n",
       "      <td>0.022176</td>\n",
       "      <td>736536.00</td>\n",
       "      <td>554222.64</td>\n",
       "      <td>EPA GHGRP</td>\n",
       "      <td>2021.0</td>\n",
       "      <td>0.765820</td>\n",
       "    </tr>\n",
       "    <tr>\n",
       "      <th>53</th>\n",
       "      <td>Uzbekistan</td>\n",
       "      <td>Akhangaran</td>\n",
       "      <td>EMIT</td>\n",
       "      <td>41.096947</td>\n",
       "      <td>69.483675</td>\n",
       "      <td>4.172113</td>\n",
       "      <td>42.624814</td>\n",
       "      <td>6</td>\n",
       "      <td>6</td>\n",
       "      <td>1.904690</td>\n",
       "      <td>NaN</td>\n",
       "      <td>NaN</td>\n",
       "      <td>NaN</td>\n",
       "      <td>NaN</td>\n",
       "      <td>NaN</td>\n",
       "      <td>NaN</td>\n",
       "      <td>1.778355</td>\n",
       "    </tr>\n",
       "    <tr>\n",
       "      <th>54</th>\n",
       "      <td>Uzbekistan</td>\n",
       "      <td>Akhangaran</td>\n",
       "      <td>EnMAP</td>\n",
       "      <td>41.096527</td>\n",
       "      <td>69.484016</td>\n",
       "      <td>3.297479</td>\n",
       "      <td>31.549967</td>\n",
       "      <td>2</td>\n",
       "      <td>2</td>\n",
       "      <td>1.673914</td>\n",
       "      <td>NaN</td>\n",
       "      <td>NaN</td>\n",
       "      <td>NaN</td>\n",
       "      <td>NaN</td>\n",
       "      <td>NaN</td>\n",
       "      <td>NaN</td>\n",
       "      <td>1.040354</td>\n",
       "    </tr>\n",
       "    <tr>\n",
       "      <th>55</th>\n",
       "      <td>Yemen</td>\n",
       "      <td>Al-Azraqin</td>\n",
       "      <td>EnMAP</td>\n",
       "      <td>15.476952</td>\n",
       "      <td>44.154451</td>\n",
       "      <td>0.582031</td>\n",
       "      <td>33.175025</td>\n",
       "      <td>1</td>\n",
       "      <td>2</td>\n",
       "      <td>2.037991</td>\n",
       "      <td>8412.46</td>\n",
       "      <td>0.040339</td>\n",
       "      <td>NaN</td>\n",
       "      <td>208545.30</td>\n",
       "      <td>METER/OSM</td>\n",
       "      <td>2022.0</td>\n",
       "      <td>0.193089</td>\n",
       "    </tr>\n",
       "  </tbody>\n",
       "</table>\n",
       "</div>"
      ],
      "text/plain": [
       "          country                             name platform   latitude  \\\n",
       "0       Argentina                   González Catán     EMIT -34.784165   \n",
       "1       Argentina                   González Catán    EnMAP -34.785561   \n",
       "2       Argentina                        Norte III     EMIT -34.527867   \n",
       "3       Argentina                        Norte III    EnMAP -34.527236   \n",
       "4       Argentina                        Norte III   PRISMA -34.526585   \n",
       "5       Argentina                    Piedra Blanca     EMIT -31.519801   \n",
       "6      Bangladesh                        Aminbazar     EMIT  23.797924   \n",
       "7          Brazil                         Caieiras     EMIT -23.346724   \n",
       "8          Brazil                         Pedreira     EMIT -23.403698   \n",
       "9           China                           Ürümqi     EMIT  44.038444   \n",
       "10          India                        Bandhwari     EMIT  28.401837   \n",
       "11          India                        Bandhwari    EnMAP  28.402294   \n",
       "12          India                          Bhalswa     EMIT  28.741622   \n",
       "13          India                          Bhalswa    EnMAP  28.741945   \n",
       "14          India                           Deonar     EMIT  19.072591   \n",
       "15          India                           Deonar    EnMAP  19.072906   \n",
       "16          India                         Ghazipur     EMIT  28.623597   \n",
       "17          India                         Ghazipur    EnMAP  28.623874   \n",
       "18          India                          Kachara     EMIT  18.658858   \n",
       "19          India                       Kanjurmarg     EMIT  19.122178   \n",
       "20          India                       Kanjurmarg    EnMAP  19.123882   \n",
       "21          India                       Kanjurmarg   PRISMA  19.123811   \n",
       "22          India                           Majura     EMIT  21.108941   \n",
       "23          India                      Manter Wadi     EMIT  18.470196   \n",
       "24          India                            Okhla     EMIT  28.508752   \n",
       "25          India                            Okhla    EnMAP  28.511039   \n",
       "26          India                           Pirana     EMIT  22.981863   \n",
       "27          India                           Pirana   PRISMA  22.982893   \n",
       "28           Iran                          Mashhad     EMIT  36.239164   \n",
       "29           Iran                           Tehran     EMIT  35.458524   \n",
       "30         Israel                           Dudaim     EMIT  31.318773   \n",
       "31         Israel                           Dudaim    EnMAP  31.324707   \n",
       "32         Israel                            Tamar     EMIT  31.132045   \n",
       "33         Israel                            Tamar    EnMAP  31.133823   \n",
       "34         Jordan                       Al Akaider     EMIT  32.514190   \n",
       "35         Jordan                       Al Akaider    EnMAP  32.514321   \n",
       "36         Jordan                          Ghabawi     EMIT  31.930161   \n",
       "37         Kuwait                             Kabd     EMIT  29.161677   \n",
       "38         Kuwait                             Kabd    EnMAP  29.165079   \n",
       "39         Mexico   Relleno Sanitario Bicentenario     EMIT  19.651212   \n",
       "40         Mexico  Relleno Sanitario Peña De Gatos     EMIT  19.403134   \n",
       "41         Mexico                      Simeprodeso     EMIT  25.871232   \n",
       "42         Mexico                   Tecnosilicatos     EMIT  19.324110   \n",
       "43         Mexico                         Zumpango     EMIT  19.795353   \n",
       "44       Pakistan                       Jam Chakro     EMIT  25.026993   \n",
       "45       Pakistan                        Lakhodair     EMIT  31.623918   \n",
       "46       Pakistan                        Lakhodair   PRISMA  31.625778   \n",
       "47   Saudi Arabia                           Riyadh     EMIT  24.614397   \n",
       "48   Saudi Arabia                           Riyadh    EnMAP  24.616646   \n",
       "49          Spain                            Pinto     EMIT  40.263559   \n",
       "50        Tunisia                     Jebel Chakir     EMIT  36.737081   \n",
       "51  United States         Charlotte Motor Speedway     EMIT  35.340455   \n",
       "52  United States                    Seminole Road    EnMAP  33.662132   \n",
       "53     Uzbekistan                       Akhangaran     EMIT  41.096947   \n",
       "54     Uzbekistan                       Akhangaran    EnMAP  41.096527   \n",
       "55          Yemen                       Al-Azraqin    EnMAP  15.476952   \n",
       "\n",
       "     longitude   emission  emission_uncertainty(%)  plume_count  overpass  \\\n",
       "0   -58.665726   3.397676                38.305478            3         3   \n",
       "1   -58.667353   2.141890                29.913619            2         2   \n",
       "2   -58.623094  23.723598                33.727829            4         4   \n",
       "3   -58.628153  17.298987                25.230443            2         2   \n",
       "4   -58.626461  25.012967                28.724630            2         2   \n",
       "5   -64.235391   3.347987                38.834970            2         2   \n",
       "6    90.298762   4.092617                39.811138            1         1   \n",
       "7   -46.771954  14.035058                34.313487            1         1   \n",
       "8   -46.560783  11.525591                34.654589            1         1   \n",
       "9    87.865135  10.652942                41.183351            5         5   \n",
       "10   77.172197   1.920719                38.771805            2         3   \n",
       "11   77.171148   2.875267                29.877167            2         2   \n",
       "12   77.156617   2.363708                37.649186            3         3   \n",
       "13   77.156340   2.066236                34.146819            3         3   \n",
       "14   72.928801   3.693651                41.608693            1         1   \n",
       "15   72.928132   0.706287                44.230773            1         2   \n",
       "16   77.328160   4.735138                36.608978            4         4   \n",
       "17   77.327319   3.192928                30.700437            5         5   \n",
       "18   73.855802   3.760001                41.025347            1         1   \n",
       "19   72.952702   5.248668                36.605423            1         1   \n",
       "20   72.951137   6.600782                29.691234            1         1   \n",
       "21   72.952129  13.114379                30.260846            2         2   \n",
       "22   72.808079   6.859796                30.903896            3         3   \n",
       "23   73.953656   3.688931                39.664332            1         1   \n",
       "24   77.285984   1.537538                37.534442            2         3   \n",
       "25   77.283773   2.281685                33.040790            5         5   \n",
       "26   72.568043   6.168756                35.783734            1         1   \n",
       "27   72.570045   6.075245                33.785852            5        28   \n",
       "28   59.988163   3.718247                42.158996            8         8   \n",
       "29   51.330151   7.781694                36.458250            9         9   \n",
       "30   34.740991   5.361973                35.011616            7         7   \n",
       "31   34.737506   6.974509                32.486975            2         2   \n",
       "32   35.200768   5.673907                37.686208            7         7   \n",
       "33   35.201835   4.730211                31.109496            3         3   \n",
       "34   36.111894   4.890580                36.223475            6         7   \n",
       "35   36.108275   2.275887                33.553773            1         1   \n",
       "36   36.188811   8.358493                28.886960           14        14   \n",
       "37   47.915883   7.773647                31.627502            6         6   \n",
       "38   47.911632   6.486344                28.556352            4         4   \n",
       "39  -99.278763   2.375300                40.573417            1         1   \n",
       "40  -98.842211   2.430212                45.020254            3         3   \n",
       "41 -100.299335   5.508303                39.035357            5         5   \n",
       "42  -98.803256  11.307399                39.988871            3         3   \n",
       "43  -99.010035   2.099992                44.249936            1         1   \n",
       "44   67.035862   5.237231                35.936065            1         1   \n",
       "45   74.414125   4.675579                38.688275            1         1   \n",
       "46   74.420998  19.331678                31.003526            1         2   \n",
       "47   46.894349  14.939188                31.090489            9         9   \n",
       "48   46.896347   8.999776                25.980342            2         2   \n",
       "49   -3.631598   7.139583                35.011807            1         1   \n",
       "50   10.077501   5.545765                35.919492            5         5   \n",
       "51  -80.657863   4.850443                41.802398            3         3   \n",
       "52  -84.256956   2.892554                26.475571            2         2   \n",
       "53   69.483675   4.172113                42.624814            6         6   \n",
       "54   69.484016   3.297479                31.549967            2         2   \n",
       "55   44.154451   0.582031                33.175025            1         2   \n",
       "\n",
       "    wind_speed  emissions_quantity  emissions_factor    capacity    activity  \\\n",
       "0     2.541348            19079.02          0.041004  1200000.00   465297.85   \n",
       "1     3.393430            19079.02          0.041004  1200000.00   465297.85   \n",
       "2     2.889840            28528.14          0.045643   900000.00   625026.97   \n",
       "3     4.510046            28528.14          0.045643   900000.00   625026.97   \n",
       "4     3.078821            28528.14          0.045643   900000.00   625026.97   \n",
       "5     3.919701            14902.44          0.041850         NaN   356094.72   \n",
       "6     3.373145            13506.95          0.046725         NaN   289072.51   \n",
       "7     2.467657                 NaN               NaN         NaN         NaN   \n",
       "8     2.598492                 NaN               NaN         NaN         NaN   \n",
       "9     2.013745                 NaN               NaN         NaN         NaN   \n",
       "10    2.153447              138.51          0.054080     1361.51     2561.19   \n",
       "11    2.594270              138.51          0.054080     1361.51     2561.19   \n",
       "12    2.002129            12063.37          0.046983   161799.83   256761.58   \n",
       "13    1.921542            12063.37          0.046983   161799.83   256761.58   \n",
       "14    2.031970            21029.56          0.053694  1325080.24   391657.52   \n",
       "15    1.397619            21029.56          0.053694  1325080.24   391657.52   \n",
       "16    1.841733            17137.49          0.048058   300505.05   356603.52   \n",
       "17    2.719701            17137.49          0.048058   300505.05   356603.52   \n",
       "18    2.523753             3061.39          0.046682    34102.72    65580.24   \n",
       "19    1.833252             3872.44          0.050050    38354.50    77371.17   \n",
       "20    1.477495             3872.44          0.050050    38354.50    77371.17   \n",
       "21    1.692903             3872.44          0.050050    38354.50    77371.17   \n",
       "22    3.836720             1521.30          0.050804    17243.09    29944.37   \n",
       "23    2.862048             2484.85          0.045233    27393.39    54934.85   \n",
       "24    2.125372            16958.80          0.050782         NaN   333951.64   \n",
       "25    2.702079            16958.80          0.050782         NaN   333951.64   \n",
       "26    3.103969            19285.05          0.048327   649995.49   399053.89   \n",
       "27    2.064798            19285.05          0.048327   649995.49   399053.89   \n",
       "28    1.860458                 NaN               NaN         NaN         NaN   \n",
       "29    2.425544           179194.10          0.047196  5000000.00  3796846.57   \n",
       "30    3.728576                 NaN               NaN         NaN         NaN   \n",
       "31    2.973445                 NaN               NaN         NaN         NaN   \n",
       "32    2.244578                 NaN               NaN         NaN         NaN   \n",
       "33    1.790126                 NaN               NaN         NaN         NaN   \n",
       "34    3.442760            14307.25          0.039617   900423.73   361134.65   \n",
       "35    2.628152            14307.25          0.039617   900423.73   361134.65   \n",
       "36    4.963657            63676.34          0.041089  1400000.00  1549733.29   \n",
       "37    5.096696            13368.43          0.036576         NaN   365497.54   \n",
       "38    4.265533            13368.43          0.036576         NaN   365497.54   \n",
       "39    2.339041            11409.52          0.044804         NaN   254652.91   \n",
       "40    1.530973                 NaN               NaN         NaN         NaN   \n",
       "41    2.310103           156509.45          0.041640         NaN  3758610.81   \n",
       "42    1.408401                 NaN               NaN         NaN         NaN   \n",
       "43    0.779996                 NaN               NaN         NaN         NaN   \n",
       "44    4.088033            17154.32          0.045909  1130306.02   373656.31   \n",
       "45    2.213925                 NaN               NaN         NaN         NaN   \n",
       "46    2.138016                 NaN               NaN         NaN         NaN   \n",
       "47    4.090884            16443.35          0.042495         NaN   386950.65   \n",
       "48    4.365471            16443.35          0.042495         NaN   386950.65   \n",
       "49    1.498860            13600.00               NaN         NaN         NaN   \n",
       "50    3.907493                 NaN               NaN         NaN         NaN   \n",
       "51    1.331377             6427.93          0.006404  1191407.00  1003799.92   \n",
       "52    4.940348            12290.71          0.022176   736536.00   554222.64   \n",
       "53    1.904690                 NaN               NaN         NaN         NaN   \n",
       "54    1.673914                 NaN               NaN         NaN         NaN   \n",
       "55    2.037991             8412.46          0.040339         NaN   208545.30   \n",
       "\n",
       "         metadata_source  metadata_report_year  emission_uncertainty  \n",
       "0            Waste Atlas                2013.0              1.301496  \n",
       "1            Waste Atlas                2013.0              0.640717  \n",
       "2            Waste Atlas                2013.0              8.001454  \n",
       "3            Waste Atlas                2013.0              4.364611  \n",
       "4            Waste Atlas                2013.0              7.184882  \n",
       "5              METER/OSM                2022.0              1.300190  \n",
       "6              METER/OSM                2022.0              1.629317  \n",
       "7                    NaN                   NaN              4.815918  \n",
       "8                    NaN                   NaN              3.994146  \n",
       "9                    NaN                   NaN              4.387238  \n",
       "10  Global Plastic Watch                2021.0              0.744697  \n",
       "11  Global Plastic Watch                2021.0              0.859048  \n",
       "12           Waste Atlas                2013.0              0.889917  \n",
       "13           Waste Atlas                2013.0              0.705554  \n",
       "14           Waste Atlas                2013.0              1.536880  \n",
       "15           Waste Atlas                2013.0              0.312396  \n",
       "16           Waste Atlas                2013.0              1.733486  \n",
       "17           Waste Atlas                2013.0              0.980243  \n",
       "18  Global Plastic Watch                2021.0              1.542553  \n",
       "19  Global Plastic Watch                2021.0              1.921297  \n",
       "20  Global Plastic Watch                2021.0              1.959854  \n",
       "21  Global Plastic Watch                2021.0              3.968522  \n",
       "22  Global Plastic Watch                2021.0              2.119944  \n",
       "23  Global Plastic Watch                2021.0              1.463190  \n",
       "24             METER/OSM                2022.0              0.577106  \n",
       "25             METER/OSM                2022.0              0.753887  \n",
       "26           Waste Atlas                2013.0              2.207411  \n",
       "27           Waste Atlas                2013.0              2.052573  \n",
       "28                   NaN                   NaN              1.567576  \n",
       "29           Waste Atlas                2013.0              2.837069  \n",
       "30                   NaN                   NaN              1.877313  \n",
       "31                   NaN                   NaN              2.265807  \n",
       "32                   NaN                   NaN              2.138280  \n",
       "33                   NaN                   NaN              1.471545  \n",
       "34           Waste Atlas                2013.0              1.771538  \n",
       "35           Waste Atlas                2013.0              0.763646  \n",
       "36           Waste Atlas                2013.0              2.414515  \n",
       "37             METER/OSM                2022.0              2.458610  \n",
       "38             METER/OSM                2022.0              1.852263  \n",
       "39             MEX INEGI                2016.0              0.963740  \n",
       "40                   NaN                   NaN              1.094088  \n",
       "41             MEX INEGI                2022.0              2.150186  \n",
       "42                   NaN                   NaN              4.521701  \n",
       "43                   NaN                   NaN              0.929245  \n",
       "44           Waste Atlas                2013.0              1.882055  \n",
       "45                   NaN                   NaN              1.808901  \n",
       "46                   NaN                   NaN              5.993502  \n",
       "47             METER/OSM                2022.0              4.644666  \n",
       "48             METER/OSM                2022.0              2.338173  \n",
       "49                E-PRTR                2021.0              2.499697  \n",
       "50                   NaN                   NaN              1.992011  \n",
       "51             EPA GHGRP                2021.0              2.027601  \n",
       "52             EPA GHGRP                2021.0              0.765820  \n",
       "53                   NaN                   NaN              1.778355  \n",
       "54                   NaN                   NaN              1.040354  \n",
       "55             METER/OSM                2022.0              0.193089  "
      ]
     },
     "execution_count": 14,
     "metadata": {},
     "output_type": "execute_result"
    }
   ],
   "source": [
    "df_summary#.sort_values(by='emission', ascending=False)"
   ]
  },
  {
   "cell_type": "code",
   "execution_count": 15,
   "metadata": {},
   "outputs": [
    {
     "name": "stdout",
     "output_type": "stream",
     "text": [
      "Number of obs:  24\n"
     ]
    },
    {
     "data": {
      "image/png": "[encoded data removed]",
      "text/plain": [
       "<Figure size 1400x700 with 2 Axes>"
      ]
     },
     "metadata": {},
     "output_type": "display_data"
    }
   ],
   "source": [
    "fig, axs = plt.subplots(1, 2, figsize=(14, 7))\n",
    "\n",
    "ax = axs[0]\n",
    "_, _, _, _, _ = plot_twogrp(ax, df_summary, grp_name1='EnMAP', grp_name2='EMIT')\n",
    "\n",
    "ax = axs[1]\n",
    "\n",
    "df_summary_merge.plot(ax=ax,\n",
    "                x='name', y=['PRISMA', 'EMIT', 'EnMAP'],\n",
    "                yerr=[df_summary_merge['PRISMA uncertainty'],\n",
    "                      df_summary_merge['EMIT uncertainty'],\n",
    "                      df_summary_merge['EnMAP uncertainty'],\n",
    "                      ],\n",
    "                kind=\"bar\",\n",
    "                color=['darkgray', '#9f98de', '#f3a26a'],\n",
    "                rot=30,\n",
    "                )\n",
    "\n",
    "ax.set_xlabel('')\n",
    "ax.set_ylim(0, 35)\n",
    "plt.suptitle('Methane Emission Rate (t h$^{-1}$)')\n",
    "ax.set_ylim(ymin=0)\n",
    "\n",
    "for n, ax in enumerate(axs):\n",
    "    # plot wind quivers\n",
    "    ax.text(0.02, 1.02, string.ascii_uppercase[n],\n",
    "            transform=ax.transAxes, \n",
    "            size=20, weight='bold')\n",
    "\n",
    "fig.tight_layout()\n",
    "fig.savefig('../figures/hsi_fit.pdf')"
   ]
  },
  {
   "cell_type": "markdown",
   "metadata": {},
   "source": [
    "## HSI observation numbers"
   ]
  },
  {
   "cell_type": "code",
   "execution_count": 16,
   "metadata": {},
   "outputs": [],
   "source": [
    "# read the OBS file\n",
    "df_obs = pd.read_excel('../data/landfills_hyper_obs.xlsx')\n",
    "\n",
    "# remove space at end\n",
    "df_obs['name'] = df_obs['name'].str.strip()"
   ]
  },
  {
   "cell_type": "code",
   "execution_count": 17,
   "metadata": {},
   "outputs": [],
   "source": [
    "# tropomi hotspots with no observations of HSI (only consider EnMAP and EMIT)\n",
    "# no_obs_mask = (df['source_tropomi']==1) & (df[['overpass(emit)', 'overpass(enmap)', 'overpass(prisma)']].sum(axis=1) == 0)\n",
    "no_obs_mask = (df_obs['source_tropomi']==1) & (df_obs[['overpass(emit)', 'overpass(enmap)']].sum(axis=1) == 0)\n",
    "obs_mask = ~no_obs_mask\n",
    "\n",
    "# tropomi hotspots with no plume detected by HSI\n",
    "no_plume_mask = (df_obs['source_tropomi']==1) & (df_obs[['plume(emit)', 'plume(enmap)', 'plume(prisma)']].sum(axis=1) == 0) & obs_mask\n",
    "\n",
    "# plumes only detected by HSI \n",
    "hsi_plume_mask = (df_obs['source_tropomi']==0) & (df_obs[['plume(emit)', 'plume(enmap)', 'plume(prisma)']].sum(axis=1) > 0) \n",
    "\n",
    "# tropomi hotspots with at least one plume detected by any HSI\n",
    "both_plume_mask = (df_obs['source_tropomi']==1) & (df_obs[['plume(emit)', 'plume(enmap)', 'plume(prisma)']].sum(axis=1) > 0)\n",
    "\n",
    "# plume mask\n",
    "plume_mask = df_obs[['plume(emit)', 'plume(enmap)', 'plume(prisma)']].sum(axis=1) > 0\n",
    "\n",
    "# hotspots mask\n",
    "hotspots_mask = df_obs['source_tropomi'] == 1"
   ]
  },
  {
   "cell_type": "code",
   "execution_count": 18,
   "metadata": {},
   "outputs": [],
   "source": [
    "# get the number of plume and clear overpasses for each HSI platform\n",
    "df_emit_plume_obs = df_obs[plume_mask][['name', 'plume(emit)', 'overpass(emit)']].rename(columns={'plume(emit)': 'plume', 'overpass(emit)': 'overpass'})\n",
    "df_enmap_plume_obs = df_obs[plume_mask][['name', 'plume(enmap)', 'overpass(enmap)']].rename(columns={'plume(enmap)': 'plume', 'overpass(enmap)': 'overpass'})\n",
    "df_prisma_plume_obs = df_obs[plume_mask][['name', 'plume(prisma)', 'overpass(prisma)']].rename(columns={'plume(prisma)': 'plume', 'overpass(prisma)': 'overpass'})\n",
    "\n",
    "# get the number of plume and clear overpasses of TROPOMI hotspots for each HSI platform\n",
    "df_emit_hotspot_obs = df_obs[hotspots_mask][['name', 'plume(emit)', 'overpass(emit)']].rename(columns={'plume(emit)': 'plume', 'overpass(emit)': 'overpass'})\n",
    "df_enmap_hotspot_obs = df_obs[hotspots_mask][['name', 'plume(enmap)', 'overpass(enmap)']].rename(columns={'plume(enmap)': 'plume', 'overpass(enmap)': 'overpass'})\n",
    "df_prisma_hotspot_obs = df_obs[hotspots_mask][['name', 'plume(prisma)', 'overpass(prisma)']].rename(columns={'plume(prisma)': 'plume', 'overpass(prisma)': 'overpass'})"
   ]
  },
  {
   "cell_type": "code",
   "execution_count": 19,
   "metadata": {},
   "outputs": [],
   "source": [
    "def get_stats_list(df):\n",
    "    return [df[df['plume']>=1].__len__(), df[(df['plume']==0)&(df['overpass']>0)].__len__(), df[df['overpass']==0].__len__()]\n",
    "\n",
    "def set_label_white(autotexts):\n",
    "    for autotext in autotexts:\n",
    "        autotext.set_color('white')\n",
    "\n",
    "def func(pct, allvals):\n",
    "    absolute = int(np.round(pct/100.*np.sum(allvals)))\n",
    "    return f\"{pct:.2f}%\\n({absolute:d})\"\n",
    "\n",
    "def plot_pie(ax, data, colors=['#f3a26a', '#9f98de', 'silver']):\n",
    "    # color: the color of pie patch\n",
    "    #   order: >= 1, no plume, no OBS\n",
    "\n",
    "    # get number > 0 part\n",
    "    positive_index = np.nonzero(data)[0]\n",
    "    data = [data[i] for i in positive_index]\n",
    "    colors = [colors[i] for i in positive_index]\n",
    "\n",
    "    patches, texts, autotexts = ax.pie(data, autopct=lambda pct: func(pct, data),\n",
    "                                   textprops={'fontsize': 13, 'weight':'bold'}, colors=colors)\n",
    "    set_label_white(autotexts)\n",
    "\n",
    "    return patches"
   ]
  },
  {
   "cell_type": "code",
   "execution_count": 20,
   "metadata": {},
   "outputs": [],
   "source": [
    "emit_plume_stats_list = get_stats_list(df_emit_plume_obs)\n",
    "enmap_plume_stats_list = get_stats_list(df_enmap_plume_obs)\n",
    "prisma_plume_stats_list = get_stats_list(df_prisma_plume_obs)\n",
    "\n",
    "emit_hotspot_stats_list = get_stats_list(df_emit_hotspot_obs)\n",
    "enmap_hotspot_stats_list = get_stats_list(df_enmap_hotspot_obs)\n",
    "prisma_hotspot_stats_list = get_stats_list(df_prisma_hotspot_obs)"
   ]
  },
  {
   "cell_type": "code",
   "execution_count": 21,
   "metadata": {},
   "outputs": [
    {
     "data": {
      "image/png": "[encoded data removed]",
      "text/plain": [
       "<Figure size 1200x1000 with 6 Axes>"
      ]
     },
     "metadata": {},
     "output_type": "display_data"
    }
   ],
   "source": [
    "# pie data: plume >= 1, No Plume: plume=0, No OBS: overpass=0\n",
    "legend_labels = ['$\\geq$ 1 Plume', 'No Plume Detected', 'No Observations']\n",
    "col_labels = ['EMIT', 'EnMAP', 'PRISMA']\n",
    "row_labels = [f\"{len(df_obs[df_obs['source_tropomi']==1])} TROPOMI \\n Hotspots\",\n",
    "              f\"{len(df_obs[plume_mask])} HSI \\n Hotspots\"]\n",
    "\n",
    "# add row and column labels\n",
    "fig, axs = plt.subplots(nrows=2, ncols=3, figsize=(12, 10))\n",
    "for ax, col in zip(axs[0], col_labels):\n",
    "    ax.set_title(col)\n",
    "\n",
    "for ax, row in zip(axs[:,0], row_labels):\n",
    "    ax.set_ylabel(row, rotation=0, size=font_size, fontweight='bold', labelpad=50)\n",
    "\n",
    "axs = axs.flatten()\n",
    "\n",
    "plot_pie(axs[0], emit_hotspot_stats_list)\n",
    "plot_pie(axs[1], enmap_hotspot_stats_list)\n",
    "plot_pie(axs[2], prisma_hotspot_stats_list)\n",
    "plot_pie(axs[3], emit_plume_stats_list)\n",
    "plot_pie(axs[4], enmap_plume_stats_list)\n",
    "patches = plot_pie(axs[5], prisma_plume_stats_list)\n",
    "\n",
    "\n",
    "fig.subplots_adjust(hspace=-0.7)\n",
    "\n",
    "legend = fig.legend(patches, legend_labels,\n",
    "          loc=\"center left\",\n",
    "          bbox_to_anchor=(1, 0, 0.5, 1),\n",
    "          prop={'size': 13}\n",
    "          )\n",
    "\n",
    "fig.tight_layout()\n",
    "# fig.patch.set_facecolor('w')\n",
    "# fig.patch.set_alpha(0)\n",
    "\n",
    "fig.savefig('../figures/hsi_plume_stats.pdf', bbox_extra_artists=(legend,), bbox_inches='tight')"
   ]
  }
 ],
 "metadata": {
  "kernelspec": {
   "display_name": "arctic",
   "language": "python",
   "name": "python3"
  },
  "language_info": {
   "codemirror_mode": {
    "name": "ipython",
    "version": 3
   },
   "file_extension": ".py",
   "mimetype": "text/x-python",
   "name": "python",
   "nbconvert_exporter": "python",
   "pygments_lexer": "ipython3",
   "version": "3.11.6"
  },
  "vscode": {
   "interpreter": {
    "hash": "4bb99803c8a750bdcc08b2166dee7f23e12226de3d9161d2640c3715055b8629"
   }
  }
 },
 "nbformat": 4,
 "nbformat_minor": 2
}
